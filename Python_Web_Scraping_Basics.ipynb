{
  "nbformat": 4,
  "nbformat_minor": 0,
  "metadata": {
    "colab": {
      "name": "Python Web Scraping Basics.ipynb",
      "provenance": [],
      "collapsed_sections": []
    },
    "kernelspec": {
      "name": "python3",
      "display_name": "Python 3"
    },
    "language_info": {
      "name": "python"
    }
  },
  "cells": [
    {
      "cell_type": "code",
      "metadata": {
        "id": "NAJXSAw9nCp1"
      },
      "source": [
        "# import library\n",
        "from bs4 import BeautifulSoup\n",
        "import requests\n",
        "import pandas as pd"
      ],
      "execution_count": null,
      "outputs": []
    },
    {
      "cell_type": "code",
      "metadata": {
        "id": "C7GHAC53nclM"
      },
      "source": [
        "# setting up\n",
        "MY_URL = \"https://www.worldometers.info/coronavirus\"\n",
        "page = requests.get(MY_URL)\n",
        "soup = BeautifulSoup(page.text, 'html5lib')"
      ],
      "execution_count": null,
      "outputs": []
    },
    {
      "cell_type": "code",
      "metadata": {
        "colab": {
          "base_uri": "https://localhost:8080/"
        },
        "id": "hI9gtsMapHdh",
        "outputId": "7d1b2571-f38c-47f2-fbf6-d5ecd6f08318"
      },
      "source": [
        "soup.find_all('h1')"
      ],
      "execution_count": null,
      "outputs": [
        {
          "output_type": "execute_result",
          "data": {
            "text/plain": [
              "[<h1>Coronavirus Cases:</h1>, <h1>Deaths:</h1>, <h1>Recovered:</h1>]"
            ]
          },
          "metadata": {
            "tags": []
          },
          "execution_count": 7
        }
      ]
    },
    {
      "cell_type": "code",
      "metadata": {
        "id": "UOL8R2F5pPh4"
      },
      "source": [
        "# find table header in soup\n",
        "table_header = soup.select('#main_table_countries_today thead tr')"
      ],
      "execution_count": null,
      "outputs": []
    },
    {
      "cell_type": "code",
      "metadata": {
        "colab": {
          "base_uri": "https://localhost:8080/"
        },
        "id": "OaHzYjXZp_t7",
        "outputId": "33021913-58d4-4403-997d-d3ec9a48476d"
      },
      "source": [
        "table_header"
      ],
      "execution_count": null,
      "outputs": [
        {
          "output_type": "execute_result",
          "data": {
            "text/plain": [
              "[<tr>\n",
              " <th width=\"1%\">#</th>\n",
              " <th width=\"100\">Country,<br/>Other</th>\n",
              " <th width=\"20\">Total<br/>Cases</th>\n",
              " <th width=\"30\">New<br/>Cases</th>\n",
              " <th width=\"30\">Total<br/>Deaths</th>\n",
              " <th width=\"30\">New<br/>Deaths</th>\n",
              " <th width=\"30\">Total<br/>Recovered</th>\n",
              " <th width=\"30\">New<br/>Recovered</th>\n",
              " <th width=\"30\">Active<br/>Cases</th>\n",
              " <th width=\"30\">Serious,<br/>Critical</th>\n",
              " <th width=\"30\">Tot Cases/<br/>1M pop</th>\n",
              " <th width=\"30\">Deaths/<br/>1M pop</th>\n",
              " <th width=\"30\">Total<br/>Tests</th>\n",
              " <th width=\"30\">Tests/<br/>\n",
              " <nobr>1M pop</nobr>\n",
              " </th>\n",
              " <th width=\"30\">Population</th>\n",
              " <th style=\"display:none\" width=\"30\">Continent</th>\n",
              " <th width=\"30\">1 Case<br/>every X ppl</th><th width=\"30\">1 Death<br/>every X ppl</th><th width=\"30\">1 Test<br/>every X ppl</th>\n",
              " </tr>]"
            ]
          },
          "metadata": {
            "tags": []
          },
          "execution_count": 12
        }
      ]
    },
    {
      "cell_type": "code",
      "metadata": {
        "id": "s1BmOaz2qUyK"
      },
      "source": [
        "header = [th.text.strip() for th in table_header[0]('th')]"
      ],
      "execution_count": null,
      "outputs": []
    },
    {
      "cell_type": "code",
      "metadata": {
        "colab": {
          "base_uri": "https://localhost:8080/"
        },
        "id": "3eNuirjIrPPJ",
        "outputId": "b4f9f1e4-c347-44ab-d50e-9cfb50436a2b"
      },
      "source": [
        "header"
      ],
      "execution_count": null,
      "outputs": [
        {
          "output_type": "execute_result",
          "data": {
            "text/plain": [
              "['#',\n",
              " 'Country,Other',\n",
              " 'TotalCases',\n",
              " 'NewCases',\n",
              " 'TotalDeaths',\n",
              " 'NewDeaths',\n",
              " 'TotalRecovered',\n",
              " 'NewRecovered',\n",
              " 'ActiveCases',\n",
              " 'Serious,Critical',\n",
              " 'Tot\\xa0Cases/1M pop',\n",
              " 'Deaths/1M pop',\n",
              " 'TotalTests',\n",
              " 'Tests/\\n1M pop',\n",
              " 'Population',\n",
              " 'Continent',\n",
              " '1 Caseevery X ppl',\n",
              " '1 Deathevery X ppl',\n",
              " '1 Testevery X ppl']"
            ]
          },
          "metadata": {
            "tags": []
          },
          "execution_count": 14
        }
      ]
    },
    {
      "cell_type": "code",
      "metadata": {
        "id": "lO_7MMnarP1d"
      },
      "source": [
        "# find table header in soup\n",
        "table_rows = soup.select('#main_table_countries_today tbody tr')"
      ],
      "execution_count": null,
      "outputs": []
    },
    {
      "cell_type": "code",
      "metadata": {
        "colab": {
          "base_uri": "https://localhost:8080/"
        },
        "id": "vhZ-RMn3rx4W",
        "outputId": "71148af3-fca8-481d-9074-f66ad8b5d572"
      },
      "source": [
        "rows_list = []\n",
        "for tr in table_rows:\n",
        "    row = [td.text.strip() for td in tr('td')]\n",
        "    rows_list.append(row)\n",
        "\n",
        "print(rows_list[:3])"
      ],
      "execution_count": null,
      "outputs": [
        {
          "output_type": "stream",
          "text": [
            "[['', 'North America', '36,658,497', '+5,045', '834,217', '+874', '28,364,194', '+2,880', '7,460,086', '16,081', '', '', '', '', '', 'North America', '', '', ''], ['', 'South America', '22,270,149', '+1,442', '587,870', '+16', '19,899,341', '+985', '1,782,938', '21,864', '', '', '', '', '', 'South America', '', '', ''], ['', 'Asia', '30,630,437', '+690', '444,269', '+1', '27,414,749', '+525', '2,771,419', '27,490', '', '', '', '', '', 'Asia', '', '', '']]\n"
          ],
          "name": "stdout"
        }
      ]
    },
    {
      "cell_type": "code",
      "metadata": {
        "colab": {
          "base_uri": "https://localhost:8080/",
          "height": 288
        },
        "id": "c0nWblvhryft",
        "outputId": "4f37bf68-1696-435d-bfc4-2664ee27d316"
      },
      "source": [
        "# create a new dataframe\n",
        "df = pd.DataFrame(rows_list, columns = header)\n",
        "df.head()"
      ],
      "execution_count": null,
      "outputs": [
        {
          "output_type": "execute_result",
          "data": {
            "text/html": [
              "<div>\n",
              "<style scoped>\n",
              "    .dataframe tbody tr th:only-of-type {\n",
              "        vertical-align: middle;\n",
              "    }\n",
              "\n",
              "    .dataframe tbody tr th {\n",
              "        vertical-align: top;\n",
              "    }\n",
              "\n",
              "    .dataframe thead th {\n",
              "        text-align: right;\n",
              "    }\n",
              "</style>\n",
              "<table border=\"1\" class=\"dataframe\">\n",
              "  <thead>\n",
              "    <tr style=\"text-align: right;\">\n",
              "      <th></th>\n",
              "      <th>#</th>\n",
              "      <th>Country,Other</th>\n",
              "      <th>TotalCases</th>\n",
              "      <th>NewCases</th>\n",
              "      <th>TotalDeaths</th>\n",
              "      <th>NewDeaths</th>\n",
              "      <th>TotalRecovered</th>\n",
              "      <th>NewRecovered</th>\n",
              "      <th>ActiveCases</th>\n",
              "      <th>Serious,Critical</th>\n",
              "      <th>Tot Cases/1M pop</th>\n",
              "      <th>Deaths/1M pop</th>\n",
              "      <th>TotalTests</th>\n",
              "      <th>Tests/\\n1M pop</th>\n",
              "      <th>Population</th>\n",
              "      <th>Continent</th>\n",
              "      <th>1 Caseevery X ppl</th>\n",
              "      <th>1 Deathevery X ppl</th>\n",
              "      <th>1 Testevery X ppl</th>\n",
              "    </tr>\n",
              "  </thead>\n",
              "  <tbody>\n",
              "    <tr>\n",
              "      <th>0</th>\n",
              "      <td></td>\n",
              "      <td>North America</td>\n",
              "      <td>36,658,497</td>\n",
              "      <td>+5,045</td>\n",
              "      <td>834,217</td>\n",
              "      <td>+874</td>\n",
              "      <td>28,364,194</td>\n",
              "      <td>+2,880</td>\n",
              "      <td>7,460,086</td>\n",
              "      <td>16,081</td>\n",
              "      <td></td>\n",
              "      <td></td>\n",
              "      <td></td>\n",
              "      <td></td>\n",
              "      <td></td>\n",
              "      <td>North America</td>\n",
              "      <td></td>\n",
              "      <td></td>\n",
              "      <td></td>\n",
              "    </tr>\n",
              "    <tr>\n",
              "      <th>1</th>\n",
              "      <td></td>\n",
              "      <td>South America</td>\n",
              "      <td>22,270,149</td>\n",
              "      <td>+1,442</td>\n",
              "      <td>587,870</td>\n",
              "      <td>+16</td>\n",
              "      <td>19,899,341</td>\n",
              "      <td>+985</td>\n",
              "      <td>1,782,938</td>\n",
              "      <td>21,864</td>\n",
              "      <td></td>\n",
              "      <td></td>\n",
              "      <td></td>\n",
              "      <td></td>\n",
              "      <td></td>\n",
              "      <td>South America</td>\n",
              "      <td></td>\n",
              "      <td></td>\n",
              "      <td></td>\n",
              "    </tr>\n",
              "    <tr>\n",
              "      <th>2</th>\n",
              "      <td></td>\n",
              "      <td>Asia</td>\n",
              "      <td>30,630,437</td>\n",
              "      <td>+690</td>\n",
              "      <td>444,269</td>\n",
              "      <td>+1</td>\n",
              "      <td>27,414,749</td>\n",
              "      <td>+525</td>\n",
              "      <td>2,771,419</td>\n",
              "      <td>27,490</td>\n",
              "      <td></td>\n",
              "      <td></td>\n",
              "      <td></td>\n",
              "      <td></td>\n",
              "      <td></td>\n",
              "      <td>Asia</td>\n",
              "      <td></td>\n",
              "      <td></td>\n",
              "      <td></td>\n",
              "    </tr>\n",
              "    <tr>\n",
              "      <th>3</th>\n",
              "      <td></td>\n",
              "      <td>Europe</td>\n",
              "      <td>41,311,921</td>\n",
              "      <td></td>\n",
              "      <td>945,563</td>\n",
              "      <td></td>\n",
              "      <td>29,240,289</td>\n",
              "      <td></td>\n",
              "      <td>11,126,069</td>\n",
              "      <td>33,064</td>\n",
              "      <td></td>\n",
              "      <td></td>\n",
              "      <td></td>\n",
              "      <td></td>\n",
              "      <td></td>\n",
              "      <td>Europe</td>\n",
              "      <td></td>\n",
              "      <td></td>\n",
              "      <td></td>\n",
              "    </tr>\n",
              "    <tr>\n",
              "      <th>4</th>\n",
              "      <td></td>\n",
              "      <td>Africa</td>\n",
              "      <td>4,366,232</td>\n",
              "      <td></td>\n",
              "      <td>115,490</td>\n",
              "      <td></td>\n",
              "      <td>3,906,951</td>\n",
              "      <td></td>\n",
              "      <td>343,791</td>\n",
              "      <td>3,529</td>\n",
              "      <td></td>\n",
              "      <td></td>\n",
              "      <td></td>\n",
              "      <td></td>\n",
              "      <td></td>\n",
              "      <td>Africa</td>\n",
              "      <td></td>\n",
              "      <td></td>\n",
              "      <td></td>\n",
              "    </tr>\n",
              "  </tbody>\n",
              "</table>\n",
              "</div>"
            ],
            "text/plain": [
              "  #  Country,Other  ... 1 Deathevery X ppl 1 Testevery X ppl\n",
              "0    North America  ...                                     \n",
              "1    South America  ...                                     \n",
              "2             Asia  ...                                     \n",
              "3           Europe  ...                                     \n",
              "4           Africa  ...                                     \n",
              "\n",
              "[5 rows x 19 columns]"
            ]
          },
          "metadata": {
            "tags": []
          },
          "execution_count": 19
        }
      ]
    },
    {
      "cell_type": "code",
      "metadata": {
        "colab": {
          "base_uri": "https://localhost:8080/",
          "height": 132
        },
        "id": "bVL9vNMas_iz",
        "outputId": "0c528508-7d83-41d7-80f1-a19bfebb4167"
      },
      "source": [
        "df[df[\"Country,Other\"] == \"Thailand\"]"
      ],
      "execution_count": null,
      "outputs": [
        {
          "output_type": "execute_result",
          "data": {
            "text/html": [
              "<div>\n",
              "<style scoped>\n",
              "    .dataframe tbody tr th:only-of-type {\n",
              "        vertical-align: middle;\n",
              "    }\n",
              "\n",
              "    .dataframe tbody tr th {\n",
              "        vertical-align: top;\n",
              "    }\n",
              "\n",
              "    .dataframe thead th {\n",
              "        text-align: right;\n",
              "    }\n",
              "</style>\n",
              "<table border=\"1\" class=\"dataframe\">\n",
              "  <thead>\n",
              "    <tr style=\"text-align: right;\">\n",
              "      <th></th>\n",
              "      <th>#</th>\n",
              "      <th>Country,Other</th>\n",
              "      <th>TotalCases</th>\n",
              "      <th>NewCases</th>\n",
              "      <th>TotalDeaths</th>\n",
              "      <th>NewDeaths</th>\n",
              "      <th>TotalRecovered</th>\n",
              "      <th>NewRecovered</th>\n",
              "      <th>ActiveCases</th>\n",
              "      <th>Serious,Critical</th>\n",
              "      <th>Tot Cases/1M pop</th>\n",
              "      <th>Deaths/1M pop</th>\n",
              "      <th>TotalTests</th>\n",
              "      <th>Tests/\\n1M pop</th>\n",
              "      <th>Population</th>\n",
              "      <th>Continent</th>\n",
              "      <th>1 Caseevery X ppl</th>\n",
              "      <th>1 Deathevery X ppl</th>\n",
              "      <th>1 Testevery X ppl</th>\n",
              "    </tr>\n",
              "  </thead>\n",
              "  <tbody>\n",
              "    <tr>\n",
              "      <th>119</th>\n",
              "      <td>112</td>\n",
              "      <td>Thailand</td>\n",
              "      <td>30,869</td>\n",
              "      <td></td>\n",
              "      <td>96</td>\n",
              "      <td></td>\n",
              "      <td>28,128</td>\n",
              "      <td></td>\n",
              "      <td>2,645</td>\n",
              "      <td>1</td>\n",
              "      <td>441</td>\n",
              "      <td>1</td>\n",
              "      <td>8,124,896</td>\n",
              "      <td>116,177</td>\n",
              "      <td>69,935,286</td>\n",
              "      <td>Asia</td>\n",
              "      <td>2,266</td>\n",
              "      <td>728,493</td>\n",
              "      <td>9</td>\n",
              "    </tr>\n",
              "  </tbody>\n",
              "</table>\n",
              "</div>"
            ],
            "text/plain": [
              "       # Country,Other  ... 1 Deathevery X ppl 1 Testevery X ppl\n",
              "119  112      Thailand  ...            728,493                 9\n",
              "\n",
              "[1 rows x 19 columns]"
            ]
          },
          "metadata": {
            "tags": []
          },
          "execution_count": 20
        }
      ]
    },
    {
      "cell_type": "code",
      "metadata": {
        "colab": {
          "base_uri": "https://localhost:8080/"
        },
        "id": "DQH9mK-XtRC-",
        "outputId": "f7993841-dd7f-4f32-c164-8325027d95ac"
      },
      "source": [
        "df.info()"
      ],
      "execution_count": null,
      "outputs": [
        {
          "output_type": "stream",
          "text": [
            "<class 'pandas.core.frame.DataFrame'>\n",
            "RangeIndex: 237 entries, 0 to 236\n",
            "Data columns (total 19 columns):\n",
            " #   Column              Non-Null Count  Dtype \n",
            "---  ------              --------------  ----- \n",
            " 0   #                   237 non-null    object\n",
            " 1   Country,Other       237 non-null    object\n",
            " 2   TotalCases          237 non-null    object\n",
            " 3   NewCases            237 non-null    object\n",
            " 4   TotalDeaths         237 non-null    object\n",
            " 5   NewDeaths           237 non-null    object\n",
            " 6   TotalRecovered      237 non-null    object\n",
            " 7   NewRecovered        237 non-null    object\n",
            " 8   ActiveCases         237 non-null    object\n",
            " 9   Serious,Critical    237 non-null    object\n",
            " 10  Tot Cases/1M pop    237 non-null    object\n",
            " 11  Deaths/1M pop       237 non-null    object\n",
            " 12  TotalTests          237 non-null    object\n",
            " 13  Tests/\n",
            "1M pop       237 non-null    object\n",
            " 14  Population          237 non-null    object\n",
            " 15  Continent           237 non-null    object\n",
            " 16  1 Caseevery X ppl   237 non-null    object\n",
            " 17  1 Deathevery X ppl  237 non-null    object\n",
            " 18  1 Testevery X ppl   237 non-null    object\n",
            "dtypes: object(19)\n",
            "memory usage: 35.3+ KB\n"
          ],
          "name": "stdout"
        }
      ]
    },
    {
      "cell_type": "code",
      "metadata": {
        "colab": {
          "base_uri": "https://localhost:8080/",
          "height": 132
        },
        "id": "H5aap8s4tqGB",
        "outputId": "e1e8b680-451e-40e9-d294-1c411418a60e"
      },
      "source": [
        "df.query('TotalCases == \"30,869\"')"
      ],
      "execution_count": null,
      "outputs": [
        {
          "output_type": "execute_result",
          "data": {
            "text/html": [
              "<div>\n",
              "<style scoped>\n",
              "    .dataframe tbody tr th:only-of-type {\n",
              "        vertical-align: middle;\n",
              "    }\n",
              "\n",
              "    .dataframe tbody tr th {\n",
              "        vertical-align: top;\n",
              "    }\n",
              "\n",
              "    .dataframe thead th {\n",
              "        text-align: right;\n",
              "    }\n",
              "</style>\n",
              "<table border=\"1\" class=\"dataframe\">\n",
              "  <thead>\n",
              "    <tr style=\"text-align: right;\">\n",
              "      <th></th>\n",
              "      <th>#</th>\n",
              "      <th>Country,Other</th>\n",
              "      <th>TotalCases</th>\n",
              "      <th>NewCases</th>\n",
              "      <th>TotalDeaths</th>\n",
              "      <th>NewDeaths</th>\n",
              "      <th>TotalRecovered</th>\n",
              "      <th>NewRecovered</th>\n",
              "      <th>ActiveCases</th>\n",
              "      <th>Serious,Critical</th>\n",
              "      <th>Tot Cases/1M pop</th>\n",
              "      <th>Deaths/1M pop</th>\n",
              "      <th>TotalTests</th>\n",
              "      <th>Tests/\\n1M pop</th>\n",
              "      <th>Population</th>\n",
              "      <th>Continent</th>\n",
              "      <th>1 Caseevery X ppl</th>\n",
              "      <th>1 Deathevery X ppl</th>\n",
              "      <th>1 Testevery X ppl</th>\n",
              "    </tr>\n",
              "  </thead>\n",
              "  <tbody>\n",
              "    <tr>\n",
              "      <th>119</th>\n",
              "      <td>112</td>\n",
              "      <td>Thailand</td>\n",
              "      <td>30,869</td>\n",
              "      <td></td>\n",
              "      <td>96</td>\n",
              "      <td></td>\n",
              "      <td>28,128</td>\n",
              "      <td></td>\n",
              "      <td>2,645</td>\n",
              "      <td>1</td>\n",
              "      <td>441</td>\n",
              "      <td>1</td>\n",
              "      <td>8,124,896</td>\n",
              "      <td>116,177</td>\n",
              "      <td>69,935,286</td>\n",
              "      <td>Asia</td>\n",
              "      <td>2,266</td>\n",
              "      <td>728,493</td>\n",
              "      <td>9</td>\n",
              "    </tr>\n",
              "  </tbody>\n",
              "</table>\n",
              "</div>"
            ],
            "text/plain": [
              "       # Country,Other  ... 1 Deathevery X ppl 1 Testevery X ppl\n",
              "119  112      Thailand  ...            728,493                 9\n",
              "\n",
              "[1 rows x 19 columns]"
            ]
          },
          "metadata": {
            "tags": []
          },
          "execution_count": 26
        }
      ]
    },
    {
      "cell_type": "code",
      "metadata": {
        "id": "7-9dk540uUAO"
      },
      "source": [
        "df.columns = [\n",
        "    'no',\n",
        "    'country',\n",
        "    'totalcases',\n",
        "    'newcases',\n",
        "    'totaldeaths',\n",
        "    'newdeaths',\n",
        "    'totalrecovered',\n",
        "    'newrecovered',\n",
        "    'activecases',\n",
        "    'serious_critical',\n",
        "    'total_case_1m_pop',\n",
        "    'total_deaths_1m_pop',\n",
        "    'total_tests',\n",
        "    'test_1m_pop',\n",
        "    'population',\n",
        "    'continent',\n",
        "    'case_every',\n",
        "    'death_every',\n",
        "    'test_every'\n",
        "] "
      ],
      "execution_count": null,
      "outputs": []
    },
    {
      "cell_type": "code",
      "metadata": {
        "colab": {
          "base_uri": "https://localhost:8080/",
          "height": 98
        },
        "id": "cncA-BQPwMx2",
        "outputId": "3b2a1fed-caf8-4f60-8d1d-1d6051067a9f"
      },
      "source": [
        "df.query(\"country == 'Thailand'\")"
      ],
      "execution_count": null,
      "outputs": [
        {
          "output_type": "execute_result",
          "data": {
            "text/html": [
              "<div>\n",
              "<style scoped>\n",
              "    .dataframe tbody tr th:only-of-type {\n",
              "        vertical-align: middle;\n",
              "    }\n",
              "\n",
              "    .dataframe tbody tr th {\n",
              "        vertical-align: top;\n",
              "    }\n",
              "\n",
              "    .dataframe thead th {\n",
              "        text-align: right;\n",
              "    }\n",
              "</style>\n",
              "<table border=\"1\" class=\"dataframe\">\n",
              "  <thead>\n",
              "    <tr style=\"text-align: right;\">\n",
              "      <th></th>\n",
              "      <th>no</th>\n",
              "      <th>country</th>\n",
              "      <th>totalcases</th>\n",
              "      <th>newcases</th>\n",
              "      <th>totaldeaths</th>\n",
              "      <th>newdeaths</th>\n",
              "      <th>totalrecovered</th>\n",
              "      <th>newrecovered</th>\n",
              "      <th>activecases</th>\n",
              "      <th>serious_critical</th>\n",
              "      <th>total_case_1m_pop</th>\n",
              "      <th>total_deaths_1m_pop</th>\n",
              "      <th>total_tests</th>\n",
              "      <th>test_1m_pop</th>\n",
              "      <th>population</th>\n",
              "      <th>continent</th>\n",
              "      <th>case_every</th>\n",
              "      <th>death_every</th>\n",
              "      <th>test_every</th>\n",
              "    </tr>\n",
              "  </thead>\n",
              "  <tbody>\n",
              "    <tr>\n",
              "      <th>119</th>\n",
              "      <td>112</td>\n",
              "      <td>Thailand</td>\n",
              "      <td>30,869</td>\n",
              "      <td></td>\n",
              "      <td>96</td>\n",
              "      <td></td>\n",
              "      <td>28,128</td>\n",
              "      <td></td>\n",
              "      <td>2,645</td>\n",
              "      <td>1</td>\n",
              "      <td>441</td>\n",
              "      <td>1</td>\n",
              "      <td>8,124,896</td>\n",
              "      <td>116,177</td>\n",
              "      <td>69,935,286</td>\n",
              "      <td>Asia</td>\n",
              "      <td>2,266</td>\n",
              "      <td>728,493</td>\n",
              "      <td>9</td>\n",
              "    </tr>\n",
              "  </tbody>\n",
              "</table>\n",
              "</div>"
            ],
            "text/plain": [
              "      no   country totalcases  ... case_every death_every test_every\n",
              "119  112  Thailand     30,869  ...      2,266     728,493          9\n",
              "\n",
              "[1 rows x 19 columns]"
            ]
          },
          "metadata": {
            "tags": []
          },
          "execution_count": 31
        }
      ]
    },
    {
      "cell_type": "code",
      "metadata": {
        "colab": {
          "base_uri": "https://localhost:8080/",
          "height": 254
        },
        "id": "5F1lLCFHwODg",
        "outputId": "8d1cbdb6-4eef-44b5-cbcd-e26e942c0352"
      },
      "source": [
        "df['totalcases'] = df['totalcases'].str.replace(',', '').astype('int')\n",
        "df.head()"
      ],
      "execution_count": null,
      "outputs": [
        {
          "output_type": "execute_result",
          "data": {
            "text/html": [
              "<div>\n",
              "<style scoped>\n",
              "    .dataframe tbody tr th:only-of-type {\n",
              "        vertical-align: middle;\n",
              "    }\n",
              "\n",
              "    .dataframe tbody tr th {\n",
              "        vertical-align: top;\n",
              "    }\n",
              "\n",
              "    .dataframe thead th {\n",
              "        text-align: right;\n",
              "    }\n",
              "</style>\n",
              "<table border=\"1\" class=\"dataframe\">\n",
              "  <thead>\n",
              "    <tr style=\"text-align: right;\">\n",
              "      <th></th>\n",
              "      <th>no</th>\n",
              "      <th>country</th>\n",
              "      <th>totalcases</th>\n",
              "      <th>newcases</th>\n",
              "      <th>totaldeaths</th>\n",
              "      <th>newdeaths</th>\n",
              "      <th>totalrecovered</th>\n",
              "      <th>newrecovered</th>\n",
              "      <th>activecases</th>\n",
              "      <th>serious_critical</th>\n",
              "      <th>total_case_1m_pop</th>\n",
              "      <th>total_deaths_1m_pop</th>\n",
              "      <th>total_tests</th>\n",
              "      <th>test_1m_pop</th>\n",
              "      <th>population</th>\n",
              "      <th>continent</th>\n",
              "      <th>case_every</th>\n",
              "      <th>death_every</th>\n",
              "      <th>test_every</th>\n",
              "    </tr>\n",
              "  </thead>\n",
              "  <tbody>\n",
              "    <tr>\n",
              "      <th>0</th>\n",
              "      <td></td>\n",
              "      <td>North America</td>\n",
              "      <td>36658497</td>\n",
              "      <td>+5,045</td>\n",
              "      <td>834,217</td>\n",
              "      <td>+874</td>\n",
              "      <td>28,364,194</td>\n",
              "      <td>+2,880</td>\n",
              "      <td>7,460,086</td>\n",
              "      <td>16,081</td>\n",
              "      <td></td>\n",
              "      <td></td>\n",
              "      <td></td>\n",
              "      <td></td>\n",
              "      <td></td>\n",
              "      <td>North America</td>\n",
              "      <td></td>\n",
              "      <td></td>\n",
              "      <td></td>\n",
              "    </tr>\n",
              "    <tr>\n",
              "      <th>1</th>\n",
              "      <td></td>\n",
              "      <td>South America</td>\n",
              "      <td>22270149</td>\n",
              "      <td>+1,442</td>\n",
              "      <td>587,870</td>\n",
              "      <td>+16</td>\n",
              "      <td>19,899,341</td>\n",
              "      <td>+985</td>\n",
              "      <td>1,782,938</td>\n",
              "      <td>21,864</td>\n",
              "      <td></td>\n",
              "      <td></td>\n",
              "      <td></td>\n",
              "      <td></td>\n",
              "      <td></td>\n",
              "      <td>South America</td>\n",
              "      <td></td>\n",
              "      <td></td>\n",
              "      <td></td>\n",
              "    </tr>\n",
              "    <tr>\n",
              "      <th>2</th>\n",
              "      <td></td>\n",
              "      <td>Asia</td>\n",
              "      <td>30630437</td>\n",
              "      <td>+690</td>\n",
              "      <td>444,269</td>\n",
              "      <td>+1</td>\n",
              "      <td>27,414,749</td>\n",
              "      <td>+525</td>\n",
              "      <td>2,771,419</td>\n",
              "      <td>27,490</td>\n",
              "      <td></td>\n",
              "      <td></td>\n",
              "      <td></td>\n",
              "      <td></td>\n",
              "      <td></td>\n",
              "      <td>Asia</td>\n",
              "      <td></td>\n",
              "      <td></td>\n",
              "      <td></td>\n",
              "    </tr>\n",
              "    <tr>\n",
              "      <th>3</th>\n",
              "      <td></td>\n",
              "      <td>Europe</td>\n",
              "      <td>41311921</td>\n",
              "      <td></td>\n",
              "      <td>945,563</td>\n",
              "      <td></td>\n",
              "      <td>29,240,289</td>\n",
              "      <td></td>\n",
              "      <td>11,126,069</td>\n",
              "      <td>33,064</td>\n",
              "      <td></td>\n",
              "      <td></td>\n",
              "      <td></td>\n",
              "      <td></td>\n",
              "      <td></td>\n",
              "      <td>Europe</td>\n",
              "      <td></td>\n",
              "      <td></td>\n",
              "      <td></td>\n",
              "    </tr>\n",
              "    <tr>\n",
              "      <th>4</th>\n",
              "      <td></td>\n",
              "      <td>Africa</td>\n",
              "      <td>4366232</td>\n",
              "      <td></td>\n",
              "      <td>115,490</td>\n",
              "      <td></td>\n",
              "      <td>3,906,951</td>\n",
              "      <td></td>\n",
              "      <td>343,791</td>\n",
              "      <td>3,529</td>\n",
              "      <td></td>\n",
              "      <td></td>\n",
              "      <td></td>\n",
              "      <td></td>\n",
              "      <td></td>\n",
              "      <td>Africa</td>\n",
              "      <td></td>\n",
              "      <td></td>\n",
              "      <td></td>\n",
              "    </tr>\n",
              "  </tbody>\n",
              "</table>\n",
              "</div>"
            ],
            "text/plain": [
              "  no        country  totalcases  ... case_every death_every test_every\n",
              "0     North America    36658497  ...                                  \n",
              "1     South America    22270149  ...                                  \n",
              "2              Asia    30630437  ...                                  \n",
              "3            Europe    41311921  ...                                  \n",
              "4            Africa     4366232  ...                                  \n",
              "\n",
              "[5 rows x 19 columns]"
            ]
          },
          "metadata": {
            "tags": []
          },
          "execution_count": 38
        }
      ]
    },
    {
      "cell_type": "code",
      "metadata": {
        "colab": {
          "base_uri": "https://localhost:8080/"
        },
        "id": "GzL7P6EGxEp5",
        "outputId": "542ff232-15c1-4092-a98f-bb1d80f222f7"
      },
      "source": [
        "df.info()"
      ],
      "execution_count": null,
      "outputs": [
        {
          "output_type": "stream",
          "text": [
            "<class 'pandas.core.frame.DataFrame'>\n",
            "RangeIndex: 237 entries, 0 to 236\n",
            "Data columns (total 19 columns):\n",
            " #   Column               Non-Null Count  Dtype \n",
            "---  ------               --------------  ----- \n",
            " 0   no                   237 non-null    object\n",
            " 1   country              237 non-null    object\n",
            " 2   totalcases           237 non-null    int64 \n",
            " 3   newcases             237 non-null    object\n",
            " 4   totaldeaths          237 non-null    object\n",
            " 5   newdeaths            237 non-null    object\n",
            " 6   totalrecovered       237 non-null    object\n",
            " 7   newrecovered         237 non-null    object\n",
            " 8   activecases          237 non-null    object\n",
            " 9   serious_critical     237 non-null    object\n",
            " 10  total_case_1m_pop    237 non-null    object\n",
            " 11  total_deaths_1m_pop  237 non-null    object\n",
            " 12  total_tests          237 non-null    object\n",
            " 13  test_1m_pop          237 non-null    object\n",
            " 14  population           237 non-null    object\n",
            " 15  continent            237 non-null    object\n",
            " 16  case_every           237 non-null    object\n",
            " 17  death_every          237 non-null    object\n",
            " 18  test_every           237 non-null    object\n",
            "dtypes: int64(1), object(18)\n",
            "memory usage: 35.3+ KB\n"
          ],
          "name": "stdout"
        }
      ]
    },
    {
      "cell_type": "markdown",
      "metadata": {
        "id": "EgVfnEVZ-OHV"
      },
      "source": [
        "# **Line Notify**"
      ]
    },
    {
      "cell_type": "code",
      "metadata": {
        "id": "fPOSfOkrBOTF"
      },
      "source": [
        "# get first values\n",
        "Country = df.query(\"country == 'Thailand'\")['country'].values[0]\n",
        "Totalcases = df.query(\"country == 'Thailand'\")['totalcases'].values[0]"
      ],
      "execution_count": null,
      "outputs": []
    },
    {
      "cell_type": "code",
      "metadata": {
        "id": "Zkh--Fqw-PHu"
      },
      "source": [
        "line_token = \"111gScuWIyAUhS6lyYKuvCYRm83FzipEnbrh5GEKAO3\""
      ],
      "execution_count": null,
      "outputs": []
    },
    {
      "cell_type": "code",
      "metadata": {
        "id": "PsEbR1uN_EFb"
      },
      "source": [
        "def line_notify(message, token):\n",
        "    url = \"https://notify-api.line.me/api/notify\"\n",
        "    data = ({'message': message})\n",
        "    LINE_HEADERS = {\"Authorization\": \"Bearer \" + token}\n",
        "    session = requests.Session()\n",
        "    response = session.post(url, headers=LINE_HEADERS, data = data)\n",
        "    return response"
      ],
      "execution_count": null,
      "outputs": []
    },
    {
      "cell_type": "code",
      "metadata": {
        "id": "A1QWpGLmAO3q"
      },
      "source": [
        "response = line_notify('\\nผู้ติดเชื้อ Covid ประเทศ: ' + Country + '\\nจำนวน: ' + str(Totalcases), line_token)"
      ],
      "execution_count": null,
      "outputs": []
    },
    {
      "cell_type": "code",
      "metadata": {
        "colab": {
          "base_uri": "https://localhost:8080/",
          "height": 254
        },
        "id": "oHucdCtVATv3",
        "outputId": "80aa8b99-2055-4fb1-980b-76dca00a96a1"
      },
      "source": [
        "df.head()"
      ],
      "execution_count": null,
      "outputs": [
        {
          "output_type": "execute_result",
          "data": {
            "text/html": [
              "<div>\n",
              "<style scoped>\n",
              "    .dataframe tbody tr th:only-of-type {\n",
              "        vertical-align: middle;\n",
              "    }\n",
              "\n",
              "    .dataframe tbody tr th {\n",
              "        vertical-align: top;\n",
              "    }\n",
              "\n",
              "    .dataframe thead th {\n",
              "        text-align: right;\n",
              "    }\n",
              "</style>\n",
              "<table border=\"1\" class=\"dataframe\">\n",
              "  <thead>\n",
              "    <tr style=\"text-align: right;\">\n",
              "      <th></th>\n",
              "      <th>no</th>\n",
              "      <th>country</th>\n",
              "      <th>totalcases</th>\n",
              "      <th>newcases</th>\n",
              "      <th>totaldeaths</th>\n",
              "      <th>newdeaths</th>\n",
              "      <th>totalrecovered</th>\n",
              "      <th>newrecovered</th>\n",
              "      <th>activecases</th>\n",
              "      <th>serious_critical</th>\n",
              "      <th>total_case_1m_pop</th>\n",
              "      <th>total_deaths_1m_pop</th>\n",
              "      <th>total_tests</th>\n",
              "      <th>test_1m_pop</th>\n",
              "      <th>population</th>\n",
              "      <th>continent</th>\n",
              "      <th>case_every</th>\n",
              "      <th>death_every</th>\n",
              "      <th>test_every</th>\n",
              "    </tr>\n",
              "  </thead>\n",
              "  <tbody>\n",
              "    <tr>\n",
              "      <th>0</th>\n",
              "      <td></td>\n",
              "      <td>North America</td>\n",
              "      <td>36658497</td>\n",
              "      <td>+5,045</td>\n",
              "      <td>834,217</td>\n",
              "      <td>+874</td>\n",
              "      <td>28,364,194</td>\n",
              "      <td>+2,880</td>\n",
              "      <td>7,460,086</td>\n",
              "      <td>16,081</td>\n",
              "      <td></td>\n",
              "      <td></td>\n",
              "      <td></td>\n",
              "      <td></td>\n",
              "      <td></td>\n",
              "      <td>North America</td>\n",
              "      <td></td>\n",
              "      <td></td>\n",
              "      <td></td>\n",
              "    </tr>\n",
              "    <tr>\n",
              "      <th>1</th>\n",
              "      <td></td>\n",
              "      <td>South America</td>\n",
              "      <td>22270149</td>\n",
              "      <td>+1,442</td>\n",
              "      <td>587,870</td>\n",
              "      <td>+16</td>\n",
              "      <td>19,899,341</td>\n",
              "      <td>+985</td>\n",
              "      <td>1,782,938</td>\n",
              "      <td>21,864</td>\n",
              "      <td></td>\n",
              "      <td></td>\n",
              "      <td></td>\n",
              "      <td></td>\n",
              "      <td></td>\n",
              "      <td>South America</td>\n",
              "      <td></td>\n",
              "      <td></td>\n",
              "      <td></td>\n",
              "    </tr>\n",
              "    <tr>\n",
              "      <th>2</th>\n",
              "      <td></td>\n",
              "      <td>Asia</td>\n",
              "      <td>30630437</td>\n",
              "      <td>+690</td>\n",
              "      <td>444,269</td>\n",
              "      <td>+1</td>\n",
              "      <td>27,414,749</td>\n",
              "      <td>+525</td>\n",
              "      <td>2,771,419</td>\n",
              "      <td>27,490</td>\n",
              "      <td></td>\n",
              "      <td></td>\n",
              "      <td></td>\n",
              "      <td></td>\n",
              "      <td></td>\n",
              "      <td>Asia</td>\n",
              "      <td></td>\n",
              "      <td></td>\n",
              "      <td></td>\n",
              "    </tr>\n",
              "    <tr>\n",
              "      <th>3</th>\n",
              "      <td></td>\n",
              "      <td>Europe</td>\n",
              "      <td>41311921</td>\n",
              "      <td></td>\n",
              "      <td>945,563</td>\n",
              "      <td></td>\n",
              "      <td>29,240,289</td>\n",
              "      <td></td>\n",
              "      <td>11,126,069</td>\n",
              "      <td>33,064</td>\n",
              "      <td></td>\n",
              "      <td></td>\n",
              "      <td></td>\n",
              "      <td></td>\n",
              "      <td></td>\n",
              "      <td>Europe</td>\n",
              "      <td></td>\n",
              "      <td></td>\n",
              "      <td></td>\n",
              "    </tr>\n",
              "    <tr>\n",
              "      <th>4</th>\n",
              "      <td></td>\n",
              "      <td>Africa</td>\n",
              "      <td>4366232</td>\n",
              "      <td></td>\n",
              "      <td>115,490</td>\n",
              "      <td></td>\n",
              "      <td>3,906,951</td>\n",
              "      <td></td>\n",
              "      <td>343,791</td>\n",
              "      <td>3,529</td>\n",
              "      <td></td>\n",
              "      <td></td>\n",
              "      <td></td>\n",
              "      <td></td>\n",
              "      <td></td>\n",
              "      <td>Africa</td>\n",
              "      <td></td>\n",
              "      <td></td>\n",
              "      <td></td>\n",
              "    </tr>\n",
              "  </tbody>\n",
              "</table>\n",
              "</div>"
            ],
            "text/plain": [
              "  no        country  totalcases  ... case_every death_every test_every\n",
              "0     North America    36658497  ...                                  \n",
              "1     South America    22270149  ...                                  \n",
              "2              Asia    30630437  ...                                  \n",
              "3            Europe    41311921  ...                                  \n",
              "4            Africa     4366232  ...                                  \n",
              "\n",
              "[5 rows x 19 columns]"
            ]
          },
          "metadata": {
            "tags": []
          },
          "execution_count": 44
        }
      ]
    },
    {
      "cell_type": "code",
      "metadata": {
        "id": "YiSCRUi9A2ST"
      },
      "source": [
        ""
      ],
      "execution_count": null,
      "outputs": []
    }
  ]
}