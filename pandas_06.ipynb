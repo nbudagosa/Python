{
  "nbformat": 4,
  "nbformat_minor": 0,
  "metadata": {
    "colab": {
      "name": "pandas_06.ipynb",
      "provenance": [],
      "collapsed_sections": []
    },
    "kernelspec": {
      "name": "python3",
      "display_name": "Python 3"
    }
  },
  "cells": [
    {
      "cell_type": "markdown",
      "metadata": {
        "id": "cL7aUhLO9Rhh"
      },
      "source": [
        "# Data Types\n",
        "1. Integer: -125231, 554876\n",
        "2. Float: 12.1546546546576\n",
        "3. String: \"\", ''"
      ]
    },
    {
      "cell_type": "code",
      "metadata": {
        "id": "ddGSGZ1j5yAs"
      },
      "source": [
        "PATH_FILE = \"/content/drive/My Drive/Pandas รอบที่ 6/17k-apple-app-store-strategy-games.zip\""
      ],
      "execution_count": null,
      "outputs": []
    },
    {
      "cell_type": "code",
      "metadata": {
        "id": "fCVt__z290ys",
        "colab": {
          "base_uri": "https://localhost:8080/",
          "height": 35
        },
        "outputId": "54bc74bf-5671-4e2d-f595-481a1a31dc28"
      },
      "source": [
        "PATH_FILE"
      ],
      "execution_count": null,
      "outputs": [
        {
          "output_type": "execute_result",
          "data": {
            "text/plain": [
              "'/content/drive/My Drive/Pandas รอบที่ 6/17k-apple-app-store-strategy-games.zip'"
            ]
          },
          "metadata": {
            "tags": []
          },
          "execution_count": 3
        }
      ]
    },
    {
      "cell_type": "code",
      "metadata": {
        "id": "1mTQ2JDC_XmO"
      },
      "source": [
        "import pandas as pd"
      ],
      "execution_count": null,
      "outputs": []
    },
    {
      "cell_type": "code",
      "metadata": {
        "id": "zGv8SLiK_lj6"
      },
      "source": [
        "df_apps = pd.read_csv(PATH_FILE)"
      ],
      "execution_count": null,
      "outputs": []
    },
    {
      "cell_type": "code",
      "metadata": {
        "id": "DImnDJa2Aieq",
        "colab": {
          "base_uri": "https://localhost:8080/",
          "height": 35
        },
        "outputId": "585ff806-780a-4ec8-c031-453470a16c7d"
      },
      "source": [
        "type(df_apps)"
      ],
      "execution_count": null,
      "outputs": [
        {
          "output_type": "execute_result",
          "data": {
            "text/plain": [
              "pandas.core.frame.DataFrame"
            ]
          },
          "metadata": {
            "tags": []
          },
          "execution_count": 6
        }
      ]
    },
    {
      "cell_type": "markdown",
      "metadata": {
        "id": "RYAcunpnCA9J"
      },
      "source": [
        "# การเข้าถึง Index หรือแถว"
      ]
    },
    {
      "cell_type": "code",
      "metadata": {
        "id": "W7NO27URAicQ",
        "colab": {
          "base_uri": "https://localhost:8080/",
          "height": 617
        },
        "outputId": "81c3dce6-f8a4-4ff6-df55-3ccff213354b"
      },
      "source": [
        "df_apps[10:16]"
      ],
      "execution_count": null,
      "outputs": [
        {
          "output_type": "execute_result",
          "data": {
            "text/html": [
              "<div>\n",
              "<style scoped>\n",
              "    .dataframe tbody tr th:only-of-type {\n",
              "        vertical-align: middle;\n",
              "    }\n",
              "\n",
              "    .dataframe tbody tr th {\n",
              "        vertical-align: top;\n",
              "    }\n",
              "\n",
              "    .dataframe thead th {\n",
              "        text-align: right;\n",
              "    }\n",
              "</style>\n",
              "<table border=\"1\" class=\"dataframe\">\n",
              "  <thead>\n",
              "    <tr style=\"text-align: right;\">\n",
              "      <th></th>\n",
              "      <th>URL</th>\n",
              "      <th>ID</th>\n",
              "      <th>Name</th>\n",
              "      <th>Subtitle</th>\n",
              "      <th>Icon URL</th>\n",
              "      <th>Average User Rating</th>\n",
              "      <th>User Rating Count</th>\n",
              "      <th>Price</th>\n",
              "      <th>In-app Purchases</th>\n",
              "      <th>Description</th>\n",
              "      <th>Developer</th>\n",
              "      <th>Age Rating</th>\n",
              "      <th>Languages</th>\n",
              "      <th>Size</th>\n",
              "      <th>Primary Genre</th>\n",
              "      <th>Genres</th>\n",
              "      <th>Original Release Date</th>\n",
              "      <th>Current Version Release Date</th>\n",
              "    </tr>\n",
              "  </thead>\n",
              "  <tbody>\n",
              "    <tr>\n",
              "      <th>10</th>\n",
              "      <td>https://apps.apple.com/us/app/quaddraxx/id2875...</td>\n",
              "      <td>287563734</td>\n",
              "      <td>Quaddraxx</td>\n",
              "      <td>NaN</td>\n",
              "      <td>https://is5-ssl.mzstatic.com/image/thumb/Purpl...</td>\n",
              "      <td>NaN</td>\n",
              "      <td>NaN</td>\n",
              "      <td>0.00</td>\n",
              "      <td>NaN</td>\n",
              "      <td>Quaddraxx-Logic \\u2013 Challenge your brain!\\n...</td>\n",
              "      <td>H2F Informationssysteme GmbH</td>\n",
              "      <td>4+</td>\n",
              "      <td>EN</td>\n",
              "      <td>3089867.0</td>\n",
              "      <td>Games</td>\n",
              "      <td>Games, Entertainment, Strategy, Puzzle</td>\n",
              "      <td>11/08/2008</td>\n",
              "      <td>30/09/2008</td>\n",
              "    </tr>\n",
              "    <tr>\n",
              "      <th>11</th>\n",
              "      <td>https://apps.apple.com/us/app/lumen-lite/id288...</td>\n",
              "      <td>288096268</td>\n",
              "      <td>Lumen Lite</td>\n",
              "      <td>NaN</td>\n",
              "      <td>https://is1-ssl.mzstatic.com/image/thumb/Purpl...</td>\n",
              "      <td>3.5</td>\n",
              "      <td>5072.0</td>\n",
              "      <td>0.00</td>\n",
              "      <td>NaN</td>\n",
              "      <td>\"The objective of Lumen is to light up all the...</td>\n",
              "      <td>Bridger Maxwell</td>\n",
              "      <td>4+</td>\n",
              "      <td>EN</td>\n",
              "      <td>7086403.0</td>\n",
              "      <td>Games</td>\n",
              "      <td>Games, Puzzle, Strategy</td>\n",
              "      <td>18/08/2008</td>\n",
              "      <td>22/11/2008</td>\n",
              "    </tr>\n",
              "    <tr>\n",
              "      <th>12</th>\n",
              "      <td>https://apps.apple.com/us/app/bubblepop/id2886...</td>\n",
              "      <td>288669794</td>\n",
              "      <td>BubblePop</td>\n",
              "      <td>NaN</td>\n",
              "      <td>https://is2-ssl.mzstatic.com/image/thumb/Purpl...</td>\n",
              "      <td>3.0</td>\n",
              "      <td>526.0</td>\n",
              "      <td>0.00</td>\n",
              "      <td>NaN</td>\n",
              "      <td>Are you ready for some popping?  Once you pop ...</td>\n",
              "      <td>TMSOFT</td>\n",
              "      <td>4+</td>\n",
              "      <td>EN</td>\n",
              "      <td>845008.0</td>\n",
              "      <td>Games</td>\n",
              "      <td>Games, Strategy, Entertainment</td>\n",
              "      <td>22/08/2008</td>\n",
              "      <td>25/07/2009</td>\n",
              "    </tr>\n",
              "    <tr>\n",
              "      <th>13</th>\n",
              "      <td>https://apps.apple.com/us/app/marple/id288689440</td>\n",
              "      <td>288689440</td>\n",
              "      <td>Marple</td>\n",
              "      <td>NaN</td>\n",
              "      <td>https://is3-ssl.mzstatic.com/image/thumb/Purpl...</td>\n",
              "      <td>3.5</td>\n",
              "      <td>989.0</td>\n",
              "      <td>0.99</td>\n",
              "      <td>NaN</td>\n",
              "      <td>AWARDED \"BEST PUZZLER\" IN MACWORLD\\'S \"THE BES...</td>\n",
              "      <td>Mikko Kankainen</td>\n",
              "      <td>4+</td>\n",
              "      <td>EN</td>\n",
              "      <td>3643392.0</td>\n",
              "      <td>Games</td>\n",
              "      <td>Games, Puzzle, Strategy</td>\n",
              "      <td>28/08/2008</td>\n",
              "      <td>5/05/2019</td>\n",
              "    </tr>\n",
              "    <tr>\n",
              "      <th>14</th>\n",
              "      <td>https://apps.apple.com/us/app/tetravex-lite/id...</td>\n",
              "      <td>288918962</td>\n",
              "      <td>Tetravex Lite</td>\n",
              "      <td>NaN</td>\n",
              "      <td>https://is3-ssl.mzstatic.com/image/thumb/Purpl...</td>\n",
              "      <td>2.5</td>\n",
              "      <td>2358.0</td>\n",
              "      <td>0.00</td>\n",
              "      <td>NaN</td>\n",
              "      <td>Play the classic edge matching puzzle game Tet...</td>\n",
              "      <td>Futrell Software</td>\n",
              "      <td>4+</td>\n",
              "      <td>EN</td>\n",
              "      <td>731525.0</td>\n",
              "      <td>Games</td>\n",
              "      <td>Games, Puzzle, Strategy, Entertainment</td>\n",
              "      <td>27/08/2008</td>\n",
              "      <td>21/10/2008</td>\n",
              "    </tr>\n",
              "    <tr>\n",
              "      <th>15</th>\n",
              "      <td>https://apps.apple.com/us/app/awele-oware-manc...</td>\n",
              "      <td>289217958</td>\n",
              "      <td>Awele/Oware - Mancala HD</td>\n",
              "      <td>NaN</td>\n",
              "      <td>https://is3-ssl.mzstatic.com/image/thumb/Purpl...</td>\n",
              "      <td>3.0</td>\n",
              "      <td>112.0</td>\n",
              "      <td>0.00</td>\n",
              "      <td>0.99</td>\n",
              "      <td>Awele/Oware is the oldest African board game a...</td>\n",
              "      <td>SOLILAB</td>\n",
              "      <td>4+</td>\n",
              "      <td>EN, FR, DE, IT, ES</td>\n",
              "      <td>122826752.0</td>\n",
              "      <td>Games</td>\n",
              "      <td>Games, Strategy, Board</td>\n",
              "      <td>31/08/2008</td>\n",
              "      <td>6/04/2015</td>\n",
              "    </tr>\n",
              "  </tbody>\n",
              "</table>\n",
              "</div>"
            ],
            "text/plain": [
              "                                                  URL  ...  Current Version Release Date\n",
              "10  https://apps.apple.com/us/app/quaddraxx/id2875...  ...                    30/09/2008\n",
              "11  https://apps.apple.com/us/app/lumen-lite/id288...  ...                    22/11/2008\n",
              "12  https://apps.apple.com/us/app/bubblepop/id2886...  ...                    25/07/2009\n",
              "13   https://apps.apple.com/us/app/marple/id288689440  ...                     5/05/2019\n",
              "14  https://apps.apple.com/us/app/tetravex-lite/id...  ...                    21/10/2008\n",
              "15  https://apps.apple.com/us/app/awele-oware-manc...  ...                     6/04/2015\n",
              "\n",
              "[6 rows x 18 columns]"
            ]
          },
          "metadata": {
            "tags": []
          },
          "execution_count": 9
        }
      ]
    },
    {
      "cell_type": "code",
      "metadata": {
        "id": "XEaZHArMAiaQ",
        "colab": {
          "base_uri": "https://localhost:8080/",
          "height": 104
        },
        "outputId": "8b13eec6-ef94-4a86-a7b4-ecc9c1d0ab93"
      },
      "source": [
        "df_apps.columns"
      ],
      "execution_count": null,
      "outputs": [
        {
          "output_type": "execute_result",
          "data": {
            "text/plain": [
              "Index(['URL', 'ID', 'Name', 'Subtitle', 'Icon URL', 'Average User Rating',\n",
              "       'User Rating Count', 'Price', 'In-app Purchases', 'Description',\n",
              "       'Developer', 'Age Rating', 'Languages', 'Size', 'Primary Genre',\n",
              "       'Genres', 'Original Release Date', 'Current Version Release Date'],\n",
              "      dtype='object')"
            ]
          },
          "metadata": {
            "tags": []
          },
          "execution_count": 10
        }
      ]
    },
    {
      "cell_type": "code",
      "metadata": {
        "id": "zhtAEbwXAiXj",
        "colab": {
          "base_uri": "https://localhost:8080/",
          "height": 202
        },
        "outputId": "6e19b506-bbe4-4b8b-b928-4f5ff9d7a2d5"
      },
      "source": [
        "df_apps[['Name', 'Price', 'Age Rating']][15:20] "
      ],
      "execution_count": null,
      "outputs": [
        {
          "output_type": "execute_result",
          "data": {
            "text/html": [
              "<div>\n",
              "<style scoped>\n",
              "    .dataframe tbody tr th:only-of-type {\n",
              "        vertical-align: middle;\n",
              "    }\n",
              "\n",
              "    .dataframe tbody tr th {\n",
              "        vertical-align: top;\n",
              "    }\n",
              "\n",
              "    .dataframe thead th {\n",
              "        text-align: right;\n",
              "    }\n",
              "</style>\n",
              "<table border=\"1\" class=\"dataframe\">\n",
              "  <thead>\n",
              "    <tr style=\"text-align: right;\">\n",
              "      <th></th>\n",
              "      <th>Name</th>\n",
              "      <th>Price</th>\n",
              "      <th>Age Rating</th>\n",
              "    </tr>\n",
              "  </thead>\n",
              "  <tbody>\n",
              "    <tr>\n",
              "      <th>15</th>\n",
              "      <td>Awele/Oware - Mancala HD</td>\n",
              "      <td>0.0</td>\n",
              "      <td>4+</td>\n",
              "    </tr>\n",
              "    <tr>\n",
              "      <th>16</th>\n",
              "      <td>Awele/Oware - Mancala HD</td>\n",
              "      <td>0.0</td>\n",
              "      <td>4+</td>\n",
              "    </tr>\n",
              "    <tr>\n",
              "      <th>17</th>\n",
              "      <td>Chess Game</td>\n",
              "      <td>0.0</td>\n",
              "      <td>4+</td>\n",
              "    </tr>\n",
              "    <tr>\n",
              "      <th>18</th>\n",
              "      <td>Catcha Mouse</td>\n",
              "      <td>0.0</td>\n",
              "      <td>4+</td>\n",
              "    </tr>\n",
              "    <tr>\n",
              "      <th>19</th>\n",
              "      <td>Cool Sudoku, Jigsaw, Killer</td>\n",
              "      <td>0.0</td>\n",
              "      <td>4+</td>\n",
              "    </tr>\n",
              "  </tbody>\n",
              "</table>\n",
              "</div>"
            ],
            "text/plain": [
              "                           Name  Price Age Rating\n",
              "15     Awele/Oware - Mancala HD    0.0         4+\n",
              "16     Awele/Oware - Mancala HD    0.0         4+\n",
              "17                   Chess Game    0.0         4+\n",
              "18                 Catcha Mouse    0.0         4+\n",
              "19  Cool Sudoku, Jigsaw, Killer    0.0         4+"
            ]
          },
          "metadata": {
            "tags": []
          },
          "execution_count": 13
        }
      ]
    },
    {
      "cell_type": "code",
      "metadata": {
        "id": "lFFvyCxkAiKb",
        "colab": {
          "base_uri": "https://localhost:8080/",
          "height": 416
        },
        "outputId": "8e7d7e90-afd9-4c7b-ae89-abb43a39fc80"
      },
      "source": [
        "df_apps.info()"
      ],
      "execution_count": null,
      "outputs": [
        {
          "output_type": "stream",
          "text": [
            "<class 'pandas.core.frame.DataFrame'>\n",
            "RangeIndex: 17007 entries, 0 to 17006\n",
            "Data columns (total 18 columns):\n",
            "URL                             17007 non-null object\n",
            "ID                              17007 non-null int64\n",
            "Name                            17007 non-null object\n",
            "Subtitle                        5261 non-null object\n",
            "Icon URL                        17007 non-null object\n",
            "Average User Rating             7561 non-null float64\n",
            "User Rating Count               7561 non-null float64\n",
            "Price                           16983 non-null float64\n",
            "In-app Purchases                7683 non-null object\n",
            "Description                     17007 non-null object\n",
            "Developer                       17007 non-null object\n",
            "Age Rating                      17007 non-null object\n",
            "Languages                       16947 non-null object\n",
            "Size                            17006 non-null float64\n",
            "Primary Genre                   17007 non-null object\n",
            "Genres                          17007 non-null object\n",
            "Original Release Date           17007 non-null object\n",
            "Current Version Release Date    17007 non-null object\n",
            "dtypes: float64(4), int64(1), object(13)\n",
            "memory usage: 2.3+ MB\n"
          ],
          "name": "stdout"
        }
      ]
    },
    {
      "cell_type": "code",
      "metadata": {
        "id": "dPkhu8OTDrIq",
        "colab": {
          "base_uri": "https://localhost:8080/",
          "height": 35
        },
        "outputId": "8665b5f8-9ec2-4752-d1be-60abca5bb933"
      },
      "source": [
        "df_apps.shape"
      ],
      "execution_count": null,
      "outputs": [
        {
          "output_type": "execute_result",
          "data": {
            "text/plain": [
              "(17007, 18)"
            ]
          },
          "metadata": {
            "tags": []
          },
          "execution_count": 15
        }
      ]
    },
    {
      "cell_type": "code",
      "metadata": {
        "id": "IHGCPk80EUYo",
        "colab": {
          "base_uri": "https://localhost:8080/",
          "height": 294
        },
        "outputId": "52b16d62-6f89-4557-e915-cd667abd293d"
      },
      "source": [
        "df_apps.describe()"
      ],
      "execution_count": null,
      "outputs": [
        {
          "output_type": "execute_result",
          "data": {
            "text/html": [
              "<div>\n",
              "<style scoped>\n",
              "    .dataframe tbody tr th:only-of-type {\n",
              "        vertical-align: middle;\n",
              "    }\n",
              "\n",
              "    .dataframe tbody tr th {\n",
              "        vertical-align: top;\n",
              "    }\n",
              "\n",
              "    .dataframe thead th {\n",
              "        text-align: right;\n",
              "    }\n",
              "</style>\n",
              "<table border=\"1\" class=\"dataframe\">\n",
              "  <thead>\n",
              "    <tr style=\"text-align: right;\">\n",
              "      <th></th>\n",
              "      <th>ID</th>\n",
              "      <th>Average User Rating</th>\n",
              "      <th>User Rating Count</th>\n",
              "      <th>Price</th>\n",
              "      <th>Size</th>\n",
              "    </tr>\n",
              "  </thead>\n",
              "  <tbody>\n",
              "    <tr>\n",
              "      <th>count</th>\n",
              "      <td>1.700700e+04</td>\n",
              "      <td>7561.000000</td>\n",
              "      <td>7.561000e+03</td>\n",
              "      <td>16983.000000</td>\n",
              "      <td>1.700600e+04</td>\n",
              "    </tr>\n",
              "    <tr>\n",
              "      <th>mean</th>\n",
              "      <td>1.059614e+09</td>\n",
              "      <td>4.060905</td>\n",
              "      <td>3.306531e+03</td>\n",
              "      <td>0.813419</td>\n",
              "      <td>1.157064e+08</td>\n",
              "    </tr>\n",
              "    <tr>\n",
              "      <th>std</th>\n",
              "      <td>2.999676e+08</td>\n",
              "      <td>0.751428</td>\n",
              "      <td>4.232256e+04</td>\n",
              "      <td>7.835732</td>\n",
              "      <td>2.036477e+08</td>\n",
              "    </tr>\n",
              "    <tr>\n",
              "      <th>min</th>\n",
              "      <td>2.849214e+08</td>\n",
              "      <td>1.000000</td>\n",
              "      <td>5.000000e+00</td>\n",
              "      <td>0.000000</td>\n",
              "      <td>5.132800e+04</td>\n",
              "    </tr>\n",
              "    <tr>\n",
              "      <th>25%</th>\n",
              "      <td>8.996543e+08</td>\n",
              "      <td>3.500000</td>\n",
              "      <td>1.200000e+01</td>\n",
              "      <td>0.000000</td>\n",
              "      <td>2.295014e+07</td>\n",
              "    </tr>\n",
              "    <tr>\n",
              "      <th>50%</th>\n",
              "      <td>1.112286e+09</td>\n",
              "      <td>4.500000</td>\n",
              "      <td>4.600000e+01</td>\n",
              "      <td>0.000000</td>\n",
              "      <td>5.676895e+07</td>\n",
              "    </tr>\n",
              "    <tr>\n",
              "      <th>75%</th>\n",
              "      <td>1.286983e+09</td>\n",
              "      <td>4.500000</td>\n",
              "      <td>3.090000e+02</td>\n",
              "      <td>0.000000</td>\n",
              "      <td>1.330271e+08</td>\n",
              "    </tr>\n",
              "    <tr>\n",
              "      <th>max</th>\n",
              "      <td>1.475077e+09</td>\n",
              "      <td>5.000000</td>\n",
              "      <td>3.032734e+06</td>\n",
              "      <td>179.990000</td>\n",
              "      <td>4.005591e+09</td>\n",
              "    </tr>\n",
              "  </tbody>\n",
              "</table>\n",
              "</div>"
            ],
            "text/plain": [
              "                 ID  Average User Rating  ...         Price          Size\n",
              "count  1.700700e+04          7561.000000  ...  16983.000000  1.700600e+04\n",
              "mean   1.059614e+09             4.060905  ...      0.813419  1.157064e+08\n",
              "std    2.999676e+08             0.751428  ...      7.835732  2.036477e+08\n",
              "min    2.849214e+08             1.000000  ...      0.000000  5.132800e+04\n",
              "25%    8.996543e+08             3.500000  ...      0.000000  2.295014e+07\n",
              "50%    1.112286e+09             4.500000  ...      0.000000  5.676895e+07\n",
              "75%    1.286983e+09             4.500000  ...      0.000000  1.330271e+08\n",
              "max    1.475077e+09             5.000000  ...    179.990000  4.005591e+09\n",
              "\n",
              "[8 rows x 5 columns]"
            ]
          },
          "metadata": {
            "tags": []
          },
          "execution_count": 16
        }
      ]
    },
    {
      "cell_type": "markdown",
      "metadata": {
        "id": "X5Tx2dlKF_Eh"
      },
      "source": [
        "## Series"
      ]
    },
    {
      "cell_type": "code",
      "metadata": {
        "id": "p42i7j79Eb1e",
        "colab": {
          "base_uri": "https://localhost:8080/",
          "height": 35
        },
        "outputId": "30fd41d0-6d5f-4d15-fd3e-c48da9832a62"
      },
      "source": [
        "df_apps[\"Size\"].quantile(0.25)"
      ],
      "execution_count": null,
      "outputs": [
        {
          "output_type": "execute_result",
          "data": {
            "text/plain": [
              "22950144.0"
            ]
          },
          "metadata": {
            "tags": []
          },
          "execution_count": 19
        }
      ]
    },
    {
      "cell_type": "markdown",
      "metadata": {
        "id": "JpPOMn8qGWAV"
      },
      "source": [
        "## Filter ข้อมูล"
      ]
    },
    {
      "cell_type": "code",
      "metadata": {
        "id": "3MxN1SsPGV3t",
        "colab": {
          "base_uri": "https://localhost:8080/",
          "height": 35
        },
        "outputId": "10ae5e0c-1cf7-4a38-abb2-44ef990fd535"
      },
      "source": [
        "df_apps[df_apps[\"Price\"] > 100].shape"
      ],
      "execution_count": null,
      "outputs": [
        {
          "output_type": "execute_result",
          "data": {
            "text/plain": [
              "(31, 18)"
            ]
          },
          "metadata": {
            "tags": []
          },
          "execution_count": 22
        }
      ]
    },
    {
      "cell_type": "code",
      "metadata": {
        "id": "FSW2RAtbF8Uj",
        "colab": {
          "base_uri": "https://localhost:8080/",
          "height": 999
        },
        "outputId": "76067ba4-4fbd-4ccf-d89c-29cd04f13f57"
      },
      "source": [
        "df_apps[df_apps[\"Price\"] > 100][[\"Name\", \"Price\"]]"
      ],
      "execution_count": null,
      "outputs": [
        {
          "output_type": "execute_result",
          "data": {
            "text/html": [
              "<div>\n",
              "<style scoped>\n",
              "    .dataframe tbody tr th:only-of-type {\n",
              "        vertical-align: middle;\n",
              "    }\n",
              "\n",
              "    .dataframe tbody tr th {\n",
              "        vertical-align: top;\n",
              "    }\n",
              "\n",
              "    .dataframe thead th {\n",
              "        text-align: right;\n",
              "    }\n",
              "</style>\n",
              "<table border=\"1\" class=\"dataframe\">\n",
              "  <thead>\n",
              "    <tr style=\"text-align: right;\">\n",
              "      <th></th>\n",
              "      <th>Name</th>\n",
              "      <th>Price</th>\n",
              "    </tr>\n",
              "  </thead>\n",
              "  <tbody>\n",
              "    <tr>\n",
              "      <th>2634</th>\n",
              "      <td>Finabase: realtime stocks</td>\n",
              "      <td>139.99</td>\n",
              "    </tr>\n",
              "    <tr>\n",
              "      <th>8177</th>\n",
              "      <td>Wild Horse 3D Simulator Full</td>\n",
              "      <td>179.99</td>\n",
              "    </tr>\n",
              "    <tr>\n",
              "      <th>8196</th>\n",
              "      <td>Pony Survival Simulator 3D Full</td>\n",
              "      <td>179.99</td>\n",
              "    </tr>\n",
              "    <tr>\n",
              "      <th>8198</th>\n",
              "      <td>T-rex Simulator 3D Full - Survival adventures</td>\n",
              "      <td>179.99</td>\n",
              "    </tr>\n",
              "    <tr>\n",
              "      <th>8200</th>\n",
              "      <td>Unicorn Survival Simulator 3D Full</td>\n",
              "      <td>179.99</td>\n",
              "    </tr>\n",
              "    <tr>\n",
              "      <th>8273</th>\n",
              "      <td>Sea Dolphin Simulator 3D Full</td>\n",
              "      <td>179.99</td>\n",
              "    </tr>\n",
              "    <tr>\n",
              "      <th>8281</th>\n",
              "      <td>Sea Turtle Simulator 3D Full - Ocean Adventure</td>\n",
              "      <td>179.99</td>\n",
              "    </tr>\n",
              "    <tr>\n",
              "      <th>8292</th>\n",
              "      <td>Forest Snake Simulator 3D Full</td>\n",
              "      <td>179.99</td>\n",
              "    </tr>\n",
              "    <tr>\n",
              "      <th>8301</th>\n",
              "      <td>City Tower Crane 3D Simulator Full - Real city...</td>\n",
              "      <td>179.99</td>\n",
              "    </tr>\n",
              "    <tr>\n",
              "      <th>8303</th>\n",
              "      <td>Oil Truck Simulator 3D Full - Offroad tank tru...</td>\n",
              "      <td>179.99</td>\n",
              "    </tr>\n",
              "    <tr>\n",
              "      <th>8372</th>\n",
              "      <td>Army Truck Offroad Simulator 3D Full - Drive m...</td>\n",
              "      <td>179.99</td>\n",
              "    </tr>\n",
              "    <tr>\n",
              "      <th>8548</th>\n",
              "      <td>Sea Shark Survival Simulator 3D Full</td>\n",
              "      <td>179.99</td>\n",
              "    </tr>\n",
              "    <tr>\n",
              "      <th>8600</th>\n",
              "      <td>Wild Falcon Survival Simulator 3D Full</td>\n",
              "      <td>179.99</td>\n",
              "    </tr>\n",
              "    <tr>\n",
              "      <th>8771</th>\n",
              "      <td>Zebra Simulator 3D Full - African Horse Survival</td>\n",
              "      <td>179.99</td>\n",
              "    </tr>\n",
              "    <tr>\n",
              "      <th>8807</th>\n",
              "      <td>Cat Simulator: Cute Pet 3D Full - Be a kitten,...</td>\n",
              "      <td>179.99</td>\n",
              "    </tr>\n",
              "    <tr>\n",
              "      <th>8887</th>\n",
              "      <td>City Goat: Animal Survival Simulator 3D Full</td>\n",
              "      <td>179.99</td>\n",
              "    </tr>\n",
              "    <tr>\n",
              "      <th>9005</th>\n",
              "      <td>African Cheetah: Wild Animal Simulator 3D Full</td>\n",
              "      <td>179.99</td>\n",
              "    </tr>\n",
              "    <tr>\n",
              "      <th>9023</th>\n",
              "      <td>Fantasy Dragon Simulator 3D Full</td>\n",
              "      <td>179.99</td>\n",
              "    </tr>\n",
              "    <tr>\n",
              "      <th>9025</th>\n",
              "      <td>Big Blue Whale Survival 3D Full - Try whale si...</td>\n",
              "      <td>179.99</td>\n",
              "    </tr>\n",
              "    <tr>\n",
              "      <th>9093</th>\n",
              "      <td>Wild African Horse: Animal Simulator 2017 Full</td>\n",
              "      <td>179.99</td>\n",
              "    </tr>\n",
              "    <tr>\n",
              "      <th>9159</th>\n",
              "      <td>Black Wild Panther Simulator 3D Full - Be a wi...</td>\n",
              "      <td>179.99</td>\n",
              "    </tr>\n",
              "    <tr>\n",
              "      <th>9219</th>\n",
              "      <td>Lion Simulator: Wild African Animal Full</td>\n",
              "      <td>179.99</td>\n",
              "    </tr>\n",
              "    <tr>\n",
              "      <th>9276</th>\n",
              "      <td>Furious Crocodile Simulator 3D Full</td>\n",
              "      <td>179.99</td>\n",
              "    </tr>\n",
              "    <tr>\n",
              "      <th>9308</th>\n",
              "      <td>Flying Pegasus: Magic Horse Simulator 3D Full</td>\n",
              "      <td>179.99</td>\n",
              "    </tr>\n",
              "    <tr>\n",
              "      <th>9409</th>\n",
              "      <td>Big Elephant Simulator: Wild African Animal 3D...</td>\n",
              "      <td>179.99</td>\n",
              "    </tr>\n",
              "    <tr>\n",
              "      <th>9411</th>\n",
              "      <td>Evil Wild Wolf Simulator 3D Full</td>\n",
              "      <td>179.99</td>\n",
              "    </tr>\n",
              "    <tr>\n",
              "      <th>9491</th>\n",
              "      <td>Forest Owl Simulator Full - Be a wild bird!</td>\n",
              "      <td>179.99</td>\n",
              "    </tr>\n",
              "    <tr>\n",
              "      <th>9545</th>\n",
              "      <td>Offroad Tow Truck Simulator Full</td>\n",
              "      <td>179.99</td>\n",
              "    </tr>\n",
              "    <tr>\n",
              "      <th>9550</th>\n",
              "      <td>Wild White Polar Bear Simulator Full</td>\n",
              "      <td>179.99</td>\n",
              "    </tr>\n",
              "    <tr>\n",
              "      <th>9724</th>\n",
              "      <td>Wild Snow Leopard: Animal Simulator Full</td>\n",
              "      <td>179.99</td>\n",
              "    </tr>\n",
              "    <tr>\n",
              "      <th>12437</th>\n",
              "      <td>Tanks Battle Simulator Full</td>\n",
              "      <td>179.99</td>\n",
              "    </tr>\n",
              "  </tbody>\n",
              "</table>\n",
              "</div>"
            ],
            "text/plain": [
              "                                                    Name   Price\n",
              "2634                           Finabase: realtime stocks  139.99\n",
              "8177                        Wild Horse 3D Simulator Full  179.99\n",
              "8196                     Pony Survival Simulator 3D Full  179.99\n",
              "8198       T-rex Simulator 3D Full - Survival adventures  179.99\n",
              "8200                  Unicorn Survival Simulator 3D Full  179.99\n",
              "8273                       Sea Dolphin Simulator 3D Full  179.99\n",
              "8281      Sea Turtle Simulator 3D Full - Ocean Adventure  179.99\n",
              "8292                      Forest Snake Simulator 3D Full  179.99\n",
              "8301   City Tower Crane 3D Simulator Full - Real city...  179.99\n",
              "8303   Oil Truck Simulator 3D Full - Offroad tank tru...  179.99\n",
              "8372   Army Truck Offroad Simulator 3D Full - Drive m...  179.99\n",
              "8548                Sea Shark Survival Simulator 3D Full  179.99\n",
              "8600              Wild Falcon Survival Simulator 3D Full  179.99\n",
              "8771    Zebra Simulator 3D Full - African Horse Survival  179.99\n",
              "8807   Cat Simulator: Cute Pet 3D Full - Be a kitten,...  179.99\n",
              "8887        City Goat: Animal Survival Simulator 3D Full  179.99\n",
              "9005      African Cheetah: Wild Animal Simulator 3D Full  179.99\n",
              "9023                    Fantasy Dragon Simulator 3D Full  179.99\n",
              "9025   Big Blue Whale Survival 3D Full - Try whale si...  179.99\n",
              "9093      Wild African Horse: Animal Simulator 2017 Full  179.99\n",
              "9159   Black Wild Panther Simulator 3D Full - Be a wi...  179.99\n",
              "9219            Lion Simulator: Wild African Animal Full  179.99\n",
              "9276                 Furious Crocodile Simulator 3D Full  179.99\n",
              "9308       Flying Pegasus: Magic Horse Simulator 3D Full  179.99\n",
              "9409   Big Elephant Simulator: Wild African Animal 3D...  179.99\n",
              "9411                    Evil Wild Wolf Simulator 3D Full  179.99\n",
              "9491         Forest Owl Simulator Full - Be a wild bird!  179.99\n",
              "9545                    Offroad Tow Truck Simulator Full  179.99\n",
              "9550                Wild White Polar Bear Simulator Full  179.99\n",
              "9724            Wild Snow Leopard: Animal Simulator Full  179.99\n",
              "12437                        Tanks Battle Simulator Full  179.99"
            ]
          },
          "metadata": {
            "tags": []
          },
          "execution_count": 23
        }
      ]
    },
    {
      "cell_type": "code",
      "metadata": {
        "id": "qjup_t7qHZk7",
        "colab": {
          "base_uri": "https://localhost:8080/",
          "height": 999
        },
        "outputId": "f7ecbad8-86a8-4946-ef67-9cc6c4044cb5"
      },
      "source": [
        "df_apps[[\"Name\", \"Price\"]][df_apps[\"Price\"] > 100]"
      ],
      "execution_count": null,
      "outputs": [
        {
          "output_type": "execute_result",
          "data": {
            "text/html": [
              "<div>\n",
              "<style scoped>\n",
              "    .dataframe tbody tr th:only-of-type {\n",
              "        vertical-align: middle;\n",
              "    }\n",
              "\n",
              "    .dataframe tbody tr th {\n",
              "        vertical-align: top;\n",
              "    }\n",
              "\n",
              "    .dataframe thead th {\n",
              "        text-align: right;\n",
              "    }\n",
              "</style>\n",
              "<table border=\"1\" class=\"dataframe\">\n",
              "  <thead>\n",
              "    <tr style=\"text-align: right;\">\n",
              "      <th></th>\n",
              "      <th>Name</th>\n",
              "      <th>Price</th>\n",
              "    </tr>\n",
              "  </thead>\n",
              "  <tbody>\n",
              "    <tr>\n",
              "      <th>2634</th>\n",
              "      <td>Finabase: realtime stocks</td>\n",
              "      <td>139.99</td>\n",
              "    </tr>\n",
              "    <tr>\n",
              "      <th>8177</th>\n",
              "      <td>Wild Horse 3D Simulator Full</td>\n",
              "      <td>179.99</td>\n",
              "    </tr>\n",
              "    <tr>\n",
              "      <th>8196</th>\n",
              "      <td>Pony Survival Simulator 3D Full</td>\n",
              "      <td>179.99</td>\n",
              "    </tr>\n",
              "    <tr>\n",
              "      <th>8198</th>\n",
              "      <td>T-rex Simulator 3D Full - Survival adventures</td>\n",
              "      <td>179.99</td>\n",
              "    </tr>\n",
              "    <tr>\n",
              "      <th>8200</th>\n",
              "      <td>Unicorn Survival Simulator 3D Full</td>\n",
              "      <td>179.99</td>\n",
              "    </tr>\n",
              "    <tr>\n",
              "      <th>8273</th>\n",
              "      <td>Sea Dolphin Simulator 3D Full</td>\n",
              "      <td>179.99</td>\n",
              "    </tr>\n",
              "    <tr>\n",
              "      <th>8281</th>\n",
              "      <td>Sea Turtle Simulator 3D Full - Ocean Adventure</td>\n",
              "      <td>179.99</td>\n",
              "    </tr>\n",
              "    <tr>\n",
              "      <th>8292</th>\n",
              "      <td>Forest Snake Simulator 3D Full</td>\n",
              "      <td>179.99</td>\n",
              "    </tr>\n",
              "    <tr>\n",
              "      <th>8301</th>\n",
              "      <td>City Tower Crane 3D Simulator Full - Real city...</td>\n",
              "      <td>179.99</td>\n",
              "    </tr>\n",
              "    <tr>\n",
              "      <th>8303</th>\n",
              "      <td>Oil Truck Simulator 3D Full - Offroad tank tru...</td>\n",
              "      <td>179.99</td>\n",
              "    </tr>\n",
              "    <tr>\n",
              "      <th>8372</th>\n",
              "      <td>Army Truck Offroad Simulator 3D Full - Drive m...</td>\n",
              "      <td>179.99</td>\n",
              "    </tr>\n",
              "    <tr>\n",
              "      <th>8548</th>\n",
              "      <td>Sea Shark Survival Simulator 3D Full</td>\n",
              "      <td>179.99</td>\n",
              "    </tr>\n",
              "    <tr>\n",
              "      <th>8600</th>\n",
              "      <td>Wild Falcon Survival Simulator 3D Full</td>\n",
              "      <td>179.99</td>\n",
              "    </tr>\n",
              "    <tr>\n",
              "      <th>8771</th>\n",
              "      <td>Zebra Simulator 3D Full - African Horse Survival</td>\n",
              "      <td>179.99</td>\n",
              "    </tr>\n",
              "    <tr>\n",
              "      <th>8807</th>\n",
              "      <td>Cat Simulator: Cute Pet 3D Full - Be a kitten,...</td>\n",
              "      <td>179.99</td>\n",
              "    </tr>\n",
              "    <tr>\n",
              "      <th>8887</th>\n",
              "      <td>City Goat: Animal Survival Simulator 3D Full</td>\n",
              "      <td>179.99</td>\n",
              "    </tr>\n",
              "    <tr>\n",
              "      <th>9005</th>\n",
              "      <td>African Cheetah: Wild Animal Simulator 3D Full</td>\n",
              "      <td>179.99</td>\n",
              "    </tr>\n",
              "    <tr>\n",
              "      <th>9023</th>\n",
              "      <td>Fantasy Dragon Simulator 3D Full</td>\n",
              "      <td>179.99</td>\n",
              "    </tr>\n",
              "    <tr>\n",
              "      <th>9025</th>\n",
              "      <td>Big Blue Whale Survival 3D Full - Try whale si...</td>\n",
              "      <td>179.99</td>\n",
              "    </tr>\n",
              "    <tr>\n",
              "      <th>9093</th>\n",
              "      <td>Wild African Horse: Animal Simulator 2017 Full</td>\n",
              "      <td>179.99</td>\n",
              "    </tr>\n",
              "    <tr>\n",
              "      <th>9159</th>\n",
              "      <td>Black Wild Panther Simulator 3D Full - Be a wi...</td>\n",
              "      <td>179.99</td>\n",
              "    </tr>\n",
              "    <tr>\n",
              "      <th>9219</th>\n",
              "      <td>Lion Simulator: Wild African Animal Full</td>\n",
              "      <td>179.99</td>\n",
              "    </tr>\n",
              "    <tr>\n",
              "      <th>9276</th>\n",
              "      <td>Furious Crocodile Simulator 3D Full</td>\n",
              "      <td>179.99</td>\n",
              "    </tr>\n",
              "    <tr>\n",
              "      <th>9308</th>\n",
              "      <td>Flying Pegasus: Magic Horse Simulator 3D Full</td>\n",
              "      <td>179.99</td>\n",
              "    </tr>\n",
              "    <tr>\n",
              "      <th>9409</th>\n",
              "      <td>Big Elephant Simulator: Wild African Animal 3D...</td>\n",
              "      <td>179.99</td>\n",
              "    </tr>\n",
              "    <tr>\n",
              "      <th>9411</th>\n",
              "      <td>Evil Wild Wolf Simulator 3D Full</td>\n",
              "      <td>179.99</td>\n",
              "    </tr>\n",
              "    <tr>\n",
              "      <th>9491</th>\n",
              "      <td>Forest Owl Simulator Full - Be a wild bird!</td>\n",
              "      <td>179.99</td>\n",
              "    </tr>\n",
              "    <tr>\n",
              "      <th>9545</th>\n",
              "      <td>Offroad Tow Truck Simulator Full</td>\n",
              "      <td>179.99</td>\n",
              "    </tr>\n",
              "    <tr>\n",
              "      <th>9550</th>\n",
              "      <td>Wild White Polar Bear Simulator Full</td>\n",
              "      <td>179.99</td>\n",
              "    </tr>\n",
              "    <tr>\n",
              "      <th>9724</th>\n",
              "      <td>Wild Snow Leopard: Animal Simulator Full</td>\n",
              "      <td>179.99</td>\n",
              "    </tr>\n",
              "    <tr>\n",
              "      <th>12437</th>\n",
              "      <td>Tanks Battle Simulator Full</td>\n",
              "      <td>179.99</td>\n",
              "    </tr>\n",
              "  </tbody>\n",
              "</table>\n",
              "</div>"
            ],
            "text/plain": [
              "                                                    Name   Price\n",
              "2634                           Finabase: realtime stocks  139.99\n",
              "8177                        Wild Horse 3D Simulator Full  179.99\n",
              "8196                     Pony Survival Simulator 3D Full  179.99\n",
              "8198       T-rex Simulator 3D Full - Survival adventures  179.99\n",
              "8200                  Unicorn Survival Simulator 3D Full  179.99\n",
              "8273                       Sea Dolphin Simulator 3D Full  179.99\n",
              "8281      Sea Turtle Simulator 3D Full - Ocean Adventure  179.99\n",
              "8292                      Forest Snake Simulator 3D Full  179.99\n",
              "8301   City Tower Crane 3D Simulator Full - Real city...  179.99\n",
              "8303   Oil Truck Simulator 3D Full - Offroad tank tru...  179.99\n",
              "8372   Army Truck Offroad Simulator 3D Full - Drive m...  179.99\n",
              "8548                Sea Shark Survival Simulator 3D Full  179.99\n",
              "8600              Wild Falcon Survival Simulator 3D Full  179.99\n",
              "8771    Zebra Simulator 3D Full - African Horse Survival  179.99\n",
              "8807   Cat Simulator: Cute Pet 3D Full - Be a kitten,...  179.99\n",
              "8887        City Goat: Animal Survival Simulator 3D Full  179.99\n",
              "9005      African Cheetah: Wild Animal Simulator 3D Full  179.99\n",
              "9023                    Fantasy Dragon Simulator 3D Full  179.99\n",
              "9025   Big Blue Whale Survival 3D Full - Try whale si...  179.99\n",
              "9093      Wild African Horse: Animal Simulator 2017 Full  179.99\n",
              "9159   Black Wild Panther Simulator 3D Full - Be a wi...  179.99\n",
              "9219            Lion Simulator: Wild African Animal Full  179.99\n",
              "9276                 Furious Crocodile Simulator 3D Full  179.99\n",
              "9308       Flying Pegasus: Magic Horse Simulator 3D Full  179.99\n",
              "9409   Big Elephant Simulator: Wild African Animal 3D...  179.99\n",
              "9411                    Evil Wild Wolf Simulator 3D Full  179.99\n",
              "9491         Forest Owl Simulator Full - Be a wild bird!  179.99\n",
              "9545                    Offroad Tow Truck Simulator Full  179.99\n",
              "9550                Wild White Polar Bear Simulator Full  179.99\n",
              "9724            Wild Snow Leopard: Animal Simulator Full  179.99\n",
              "12437                        Tanks Battle Simulator Full  179.99"
            ]
          },
          "metadata": {
            "tags": []
          },
          "execution_count": 24
        }
      ]
    },
    {
      "cell_type": "markdown",
      "metadata": {
        "id": "zdf7mjnaIErs"
      },
      "source": [
        "## Condition\n",
        "- A and B\n",
        "- A or B"
      ]
    },
    {
      "cell_type": "code",
      "metadata": {
        "id": "ee1rVgF1HqNU",
        "colab": {
          "base_uri": "https://localhost:8080/",
          "height": 49
        },
        "outputId": "f4ef5334-eef8-4056-cf3c-e1feef10b4bf"
      },
      "source": [
        "df_apps[[\"Name\", \"Price\"]][(df_apps[\"Price\"] > 100) & (df_apps[\"Price\"] < 10)]"
      ],
      "execution_count": null,
      "outputs": [
        {
          "output_type": "execute_result",
          "data": {
            "text/html": [
              "<div>\n",
              "<style scoped>\n",
              "    .dataframe tbody tr th:only-of-type {\n",
              "        vertical-align: middle;\n",
              "    }\n",
              "\n",
              "    .dataframe tbody tr th {\n",
              "        vertical-align: top;\n",
              "    }\n",
              "\n",
              "    .dataframe thead th {\n",
              "        text-align: right;\n",
              "    }\n",
              "</style>\n",
              "<table border=\"1\" class=\"dataframe\">\n",
              "  <thead>\n",
              "    <tr style=\"text-align: right;\">\n",
              "      <th></th>\n",
              "      <th>Name</th>\n",
              "      <th>Price</th>\n",
              "    </tr>\n",
              "  </thead>\n",
              "  <tbody>\n",
              "  </tbody>\n",
              "</table>\n",
              "</div>"
            ],
            "text/plain": [
              "Empty DataFrame\n",
              "Columns: [Name, Price]\n",
              "Index: []"
            ]
          },
          "metadata": {
            "tags": []
          },
          "execution_count": 25
        }
      ]
    },
    {
      "cell_type": "code",
      "metadata": {
        "id": "9ivbDVyNH_q8",
        "colab": {
          "base_uri": "https://localhost:8080/",
          "height": 49
        },
        "outputId": "6e9df191-f94e-4c4f-c692-00f55f0cfe2e"
      },
      "source": [
        "df_apps[[\"Name\", \"Price\"]][(df_apps[\"Price\"] >= 100) & (df_apps[\"Price\"] <= 10)]"
      ],
      "execution_count": null,
      "outputs": [
        {
          "output_type": "execute_result",
          "data": {
            "text/html": [
              "<div>\n",
              "<style scoped>\n",
              "    .dataframe tbody tr th:only-of-type {\n",
              "        vertical-align: middle;\n",
              "    }\n",
              "\n",
              "    .dataframe tbody tr th {\n",
              "        vertical-align: top;\n",
              "    }\n",
              "\n",
              "    .dataframe thead th {\n",
              "        text-align: right;\n",
              "    }\n",
              "</style>\n",
              "<table border=\"1\" class=\"dataframe\">\n",
              "  <thead>\n",
              "    <tr style=\"text-align: right;\">\n",
              "      <th></th>\n",
              "      <th>Name</th>\n",
              "      <th>Price</th>\n",
              "    </tr>\n",
              "  </thead>\n",
              "  <tbody>\n",
              "  </tbody>\n",
              "</table>\n",
              "</div>"
            ],
            "text/plain": [
              "Empty DataFrame\n",
              "Columns: [Name, Price]\n",
              "Index: []"
            ]
          },
          "metadata": {
            "tags": []
          },
          "execution_count": 26
        }
      ]
    },
    {
      "cell_type": "code",
      "metadata": {
        "id": "f_3lhm4sH_pX",
        "colab": {
          "base_uri": "https://localhost:8080/",
          "height": 415
        },
        "outputId": "7f288000-ba3f-4360-ae07-3cbbf40c1dfa"
      },
      "source": [
        "df_apps[[\"Name\", \"Price\"]][(df_apps[\"Price\"] > 100) | (df_apps[\"Price\"] < 10)]"
      ],
      "execution_count": null,
      "outputs": [
        {
          "output_type": "execute_result",
          "data": {
            "text/html": [
              "<div>\n",
              "<style scoped>\n",
              "    .dataframe tbody tr th:only-of-type {\n",
              "        vertical-align: middle;\n",
              "    }\n",
              "\n",
              "    .dataframe tbody tr th {\n",
              "        vertical-align: top;\n",
              "    }\n",
              "\n",
              "    .dataframe thead th {\n",
              "        text-align: right;\n",
              "    }\n",
              "</style>\n",
              "<table border=\"1\" class=\"dataframe\">\n",
              "  <thead>\n",
              "    <tr style=\"text-align: right;\">\n",
              "      <th></th>\n",
              "      <th>Name</th>\n",
              "      <th>Price</th>\n",
              "    </tr>\n",
              "  </thead>\n",
              "  <tbody>\n",
              "    <tr>\n",
              "      <th>0</th>\n",
              "      <td>Sudoku</td>\n",
              "      <td>2.99</td>\n",
              "    </tr>\n",
              "    <tr>\n",
              "      <th>1</th>\n",
              "      <td>Reversi</td>\n",
              "      <td>1.99</td>\n",
              "    </tr>\n",
              "    <tr>\n",
              "      <th>2</th>\n",
              "      <td>Morocco</td>\n",
              "      <td>0.00</td>\n",
              "    </tr>\n",
              "    <tr>\n",
              "      <th>3</th>\n",
              "      <td>Sudoku (Free)</td>\n",
              "      <td>0.00</td>\n",
              "    </tr>\n",
              "    <tr>\n",
              "      <th>4</th>\n",
              "      <td>Senet Deluxe</td>\n",
              "      <td>2.99</td>\n",
              "    </tr>\n",
              "    <tr>\n",
              "      <th>...</th>\n",
              "      <td>...</td>\n",
              "      <td>...</td>\n",
              "    </tr>\n",
              "    <tr>\n",
              "      <th>17002</th>\n",
              "      <td>Stack Puzzle : Rise Tower</td>\n",
              "      <td>0.00</td>\n",
              "    </tr>\n",
              "    <tr>\n",
              "      <th>17003</th>\n",
              "      <td>EachOther</td>\n",
              "      <td>0.00</td>\n",
              "    </tr>\n",
              "    <tr>\n",
              "      <th>17004</th>\n",
              "      <td>Rabbit Vs Tortoise</td>\n",
              "      <td>0.00</td>\n",
              "    </tr>\n",
              "    <tr>\n",
              "      <th>17005</th>\n",
              "      <td>FaTaLL</td>\n",
              "      <td>0.00</td>\n",
              "    </tr>\n",
              "    <tr>\n",
              "      <th>17006</th>\n",
              "      <td>The Three Kingdoms :Bomb</td>\n",
              "      <td>0.00</td>\n",
              "    </tr>\n",
              "  </tbody>\n",
              "</table>\n",
              "<p>16899 rows × 2 columns</p>\n",
              "</div>"
            ],
            "text/plain": [
              "                            Name  Price\n",
              "0                         Sudoku   2.99\n",
              "1                        Reversi   1.99\n",
              "2                        Morocco   0.00\n",
              "3                  Sudoku (Free)   0.00\n",
              "4                   Senet Deluxe   2.99\n",
              "...                          ...    ...\n",
              "17002  Stack Puzzle : Rise Tower   0.00\n",
              "17003                  EachOther   0.00\n",
              "17004         Rabbit Vs Tortoise   0.00\n",
              "17005                     FaTaLL   0.00\n",
              "17006   The Three Kingdoms :Bomb   0.00\n",
              "\n",
              "[16899 rows x 2 columns]"
            ]
          },
          "metadata": {
            "tags": []
          },
          "execution_count": 27
        }
      ]
    },
    {
      "cell_type": "code",
      "metadata": {
        "id": "95vqCaSaH_mn",
        "colab": {
          "base_uri": "https://localhost:8080/",
          "height": 49
        },
        "outputId": "f5fe247e-87d8-41bc-b155-7362839e07f4"
      },
      "source": [
        "df_apps[[\"Name\", \"Price\"]][(df_apps[\"Price\"] == 100) & (df_apps[\"Price\"] != 10)]"
      ],
      "execution_count": null,
      "outputs": [
        {
          "output_type": "execute_result",
          "data": {
            "text/html": [
              "<div>\n",
              "<style scoped>\n",
              "    .dataframe tbody tr th:only-of-type {\n",
              "        vertical-align: middle;\n",
              "    }\n",
              "\n",
              "    .dataframe tbody tr th {\n",
              "        vertical-align: top;\n",
              "    }\n",
              "\n",
              "    .dataframe thead th {\n",
              "        text-align: right;\n",
              "    }\n",
              "</style>\n",
              "<table border=\"1\" class=\"dataframe\">\n",
              "  <thead>\n",
              "    <tr style=\"text-align: right;\">\n",
              "      <th></th>\n",
              "      <th>Name</th>\n",
              "      <th>Price</th>\n",
              "    </tr>\n",
              "  </thead>\n",
              "  <tbody>\n",
              "  </tbody>\n",
              "</table>\n",
              "</div>"
            ],
            "text/plain": [
              "Empty DataFrame\n",
              "Columns: [Name, Price]\n",
              "Index: []"
            ]
          },
          "metadata": {
            "tags": []
          },
          "execution_count": 29
        }
      ]
    },
    {
      "cell_type": "code",
      "metadata": {
        "id": "ayaeSTt6H_kA",
        "colab": {
          "base_uri": "https://localhost:8080/",
          "height": 49
        },
        "outputId": "c2ee4e7c-4e43-4683-ffec-3461de5eb4ba"
      },
      "source": [
        "df_apps[[\"Name\", \"Price\"]][(df_apps[\"Price\"] < 10) & (df_apps[\"Name\"] == \"Dragon\")]"
      ],
      "execution_count": null,
      "outputs": [
        {
          "output_type": "execute_result",
          "data": {
            "text/html": [
              "<div>\n",
              "<style scoped>\n",
              "    .dataframe tbody tr th:only-of-type {\n",
              "        vertical-align: middle;\n",
              "    }\n",
              "\n",
              "    .dataframe tbody tr th {\n",
              "        vertical-align: top;\n",
              "    }\n",
              "\n",
              "    .dataframe thead th {\n",
              "        text-align: right;\n",
              "    }\n",
              "</style>\n",
              "<table border=\"1\" class=\"dataframe\">\n",
              "  <thead>\n",
              "    <tr style=\"text-align: right;\">\n",
              "      <th></th>\n",
              "      <th>Name</th>\n",
              "      <th>Price</th>\n",
              "    </tr>\n",
              "  </thead>\n",
              "  <tbody>\n",
              "  </tbody>\n",
              "</table>\n",
              "</div>"
            ],
            "text/plain": [
              "Empty DataFrame\n",
              "Columns: [Name, Price]\n",
              "Index: []"
            ]
          },
          "metadata": {
            "tags": []
          },
          "execution_count": 31
        }
      ]
    },
    {
      "cell_type": "code",
      "metadata": {
        "id": "E2xQ02dSH_e9",
        "colab": {
          "base_uri": "https://localhost:8080/",
          "height": 415
        },
        "outputId": "b51319c9-81f6-47db-8f11-808cdfee3b04"
      },
      "source": [
        "df_apps[[\"Name\", \"Price\"]][(df_apps[\"Price\"] < 10) & (df_apps[\"Name\"].str.contains(\"Dragon\"))]"
      ],
      "execution_count": null,
      "outputs": [
        {
          "output_type": "execute_result",
          "data": {
            "text/html": [
              "<div>\n",
              "<style scoped>\n",
              "    .dataframe tbody tr th:only-of-type {\n",
              "        vertical-align: middle;\n",
              "    }\n",
              "\n",
              "    .dataframe tbody tr th {\n",
              "        vertical-align: top;\n",
              "    }\n",
              "\n",
              "    .dataframe thead th {\n",
              "        text-align: right;\n",
              "    }\n",
              "</style>\n",
              "<table border=\"1\" class=\"dataframe\">\n",
              "  <thead>\n",
              "    <tr style=\"text-align: right;\">\n",
              "      <th></th>\n",
              "      <th>Name</th>\n",
              "      <th>Price</th>\n",
              "    </tr>\n",
              "  </thead>\n",
              "  <tbody>\n",
              "    <tr>\n",
              "      <th>185</th>\n",
              "      <td>King of Dragon Pass</td>\n",
              "      <td>9.99</td>\n",
              "    </tr>\n",
              "    <tr>\n",
              "      <th>371</th>\n",
              "      <td>Dragon Go Client</td>\n",
              "      <td>0.00</td>\n",
              "    </tr>\n",
              "    <tr>\n",
              "      <th>411</th>\n",
              "      <td>Hunt The Dragon</td>\n",
              "      <td>0.99</td>\n",
              "    </tr>\n",
              "    <tr>\n",
              "      <th>690</th>\n",
              "      <td>Dragon Lords</td>\n",
              "      <td>0.00</td>\n",
              "    </tr>\n",
              "    <tr>\n",
              "      <th>759</th>\n",
              "      <td>Hunt The Dragon HD</td>\n",
              "      <td>0.99</td>\n",
              "    </tr>\n",
              "    <tr>\n",
              "      <th>...</th>\n",
              "      <td>...</td>\n",
              "      <td>...</td>\n",
              "    </tr>\n",
              "    <tr>\n",
              "      <th>16264</th>\n",
              "      <td>Tournament Of Dragons</td>\n",
              "      <td>0.00</td>\n",
              "    </tr>\n",
              "    <tr>\n",
              "      <th>16265</th>\n",
              "      <td>Dragons City War 2019</td>\n",
              "      <td>0.00</td>\n",
              "    </tr>\n",
              "    <tr>\n",
              "      <th>16270</th>\n",
              "      <td>Battle Of Dragons &amp; Training</td>\n",
              "      <td>0.00</td>\n",
              "    </tr>\n",
              "    <tr>\n",
              "      <th>16372</th>\n",
              "      <td>Magic &amp; Dragons</td>\n",
              "      <td>0.00</td>\n",
              "    </tr>\n",
              "    <tr>\n",
              "      <th>16498</th>\n",
              "      <td>Attack Dragons</td>\n",
              "      <td>0.00</td>\n",
              "    </tr>\n",
              "  </tbody>\n",
              "</table>\n",
              "<p>113 rows × 2 columns</p>\n",
              "</div>"
            ],
            "text/plain": [
              "                               Name  Price\n",
              "185             King of Dragon Pass   9.99\n",
              "371                Dragon Go Client   0.00\n",
              "411                 Hunt The Dragon   0.99\n",
              "690                    Dragon Lords   0.00\n",
              "759              Hunt The Dragon HD   0.99\n",
              "...                             ...    ...\n",
              "16264         Tournament Of Dragons   0.00\n",
              "16265         Dragons City War 2019   0.00\n",
              "16270  Battle Of Dragons & Training   0.00\n",
              "16372               Magic & Dragons   0.00\n",
              "16498                Attack Dragons   0.00\n",
              "\n",
              "[113 rows x 2 columns]"
            ]
          },
          "metadata": {
            "tags": []
          },
          "execution_count": 32
        }
      ]
    },
    {
      "cell_type": "markdown",
      "metadata": {
        "id": "sIAqlc3tKJOC"
      },
      "source": [
        "## Filter RegEx"
      ]
    },
    {
      "cell_type": "code",
      "metadata": {
        "id": "hXb2YeNHJ6oO",
        "colab": {
          "base_uri": "https://localhost:8080/",
          "height": 35
        },
        "outputId": "401859f8-0133-471b-e23a-d2adb477fb69"
      },
      "source": [
        "df_apps[[\"Name\", \"Price\"]][(df_apps[\"Price\"] < 10) & (df_apps[\"Name\"].str.contains(r\"^Dragon.\"))].shape"
      ],
      "execution_count": null,
      "outputs": [
        {
          "output_type": "execute_result",
          "data": {
            "text/plain": [
              "(49, 2)"
            ]
          },
          "metadata": {
            "tags": []
          },
          "execution_count": 34
        }
      ]
    },
    {
      "cell_type": "markdown",
      "metadata": {
        "id": "2kHcbczwOpTT"
      },
      "source": [
        "## แปลงราคา Price ให้เป็น Price + Tax\n",
        "= columns * 0.07"
      ]
    },
    {
      "cell_type": "code",
      "metadata": {
        "id": "tPETrFMuOa-6",
        "colab": {
          "base_uri": "https://localhost:8080/",
          "height": 35
        },
        "outputId": "e3ede1ae-3284-4b7b-9edc-6f7904705e85"
      },
      "source": [
        "len(df_apps.columns)"
      ],
      "execution_count": null,
      "outputs": [
        {
          "output_type": "execute_result",
          "data": {
            "text/plain": [
              "18"
            ]
          },
          "metadata": {
            "tags": []
          },
          "execution_count": 36
        }
      ]
    },
    {
      "cell_type": "code",
      "metadata": {
        "id": "WP15OQcPOa8e"
      },
      "source": [
        "df_apps[\"Price_tax\"] =  df_apps[\"Price\"] + (df_apps[\"Price\"] * 0.07)"
      ],
      "execution_count": null,
      "outputs": []
    },
    {
      "cell_type": "code",
      "metadata": {
        "id": "y6jTl-bhOa66",
        "colab": {
          "base_uri": "https://localhost:8080/",
          "height": 202
        },
        "outputId": "2441509d-202e-462d-b854-db8db7f40211"
      },
      "source": [
        "df_apps[[\"Price\", \"Price_tax\"]].sample(5)"
      ],
      "execution_count": null,
      "outputs": [
        {
          "output_type": "execute_result",
          "data": {
            "text/html": [
              "<div>\n",
              "<style scoped>\n",
              "    .dataframe tbody tr th:only-of-type {\n",
              "        vertical-align: middle;\n",
              "    }\n",
              "\n",
              "    .dataframe tbody tr th {\n",
              "        vertical-align: top;\n",
              "    }\n",
              "\n",
              "    .dataframe thead th {\n",
              "        text-align: right;\n",
              "    }\n",
              "</style>\n",
              "<table border=\"1\" class=\"dataframe\">\n",
              "  <thead>\n",
              "    <tr style=\"text-align: right;\">\n",
              "      <th></th>\n",
              "      <th>Price</th>\n",
              "      <th>Price_tax</th>\n",
              "    </tr>\n",
              "  </thead>\n",
              "  <tbody>\n",
              "    <tr>\n",
              "      <th>12382</th>\n",
              "      <td>0.99</td>\n",
              "      <td>1.0593</td>\n",
              "    </tr>\n",
              "    <tr>\n",
              "      <th>4253</th>\n",
              "      <td>0.00</td>\n",
              "      <td>0.0000</td>\n",
              "    </tr>\n",
              "    <tr>\n",
              "      <th>2931</th>\n",
              "      <td>1.99</td>\n",
              "      <td>2.1293</td>\n",
              "    </tr>\n",
              "    <tr>\n",
              "      <th>12325</th>\n",
              "      <td>0.00</td>\n",
              "      <td>0.0000</td>\n",
              "    </tr>\n",
              "    <tr>\n",
              "      <th>11474</th>\n",
              "      <td>9.99</td>\n",
              "      <td>10.6893</td>\n",
              "    </tr>\n",
              "  </tbody>\n",
              "</table>\n",
              "</div>"
            ],
            "text/plain": [
              "       Price  Price_tax\n",
              "12382   0.99     1.0593\n",
              "4253    0.00     0.0000\n",
              "2931    1.99     2.1293\n",
              "12325   0.00     0.0000\n",
              "11474   9.99    10.6893"
            ]
          },
          "metadata": {
            "tags": []
          },
          "execution_count": 39
        }
      ]
    },
    {
      "cell_type": "code",
      "metadata": {
        "id": "unBVlaV0Oa5R"
      },
      "source": [
        "# df_apps = df_apps.drop(columns=\"columns\")"
      ],
      "execution_count": null,
      "outputs": []
    },
    {
      "cell_type": "markdown",
      "metadata": {
        "id": "c18RN-OjQenx"
      },
      "source": [
        "# จำลองเหตุการณ์"
      ]
    },
    {
      "cell_type": "code",
      "metadata": {
        "id": "dh1tguVJOa4M",
        "colab": {
          "base_uri": "https://localhost:8080/",
          "height": 121
        },
        "outputId": "8c3d135e-6517-48ce-b33c-b6901375b3cf"
      },
      "source": [
        "df_apps.columns"
      ],
      "execution_count": null,
      "outputs": [
        {
          "output_type": "execute_result",
          "data": {
            "text/plain": [
              "Index(['URL', 'ID', 'Name', 'Subtitle', 'Icon URL', 'Average User Rating',\n",
              "       'User Rating Count', 'Price', 'In-app Purchases', 'Description',\n",
              "       'Developer', 'Age Rating', 'Languages', 'Size', 'Primary Genre',\n",
              "       'Genres', 'Original Release Date', 'Current Version Release Date',\n",
              "       'Price_tax'],\n",
              "      dtype='object')"
            ]
          },
          "metadata": {
            "tags": []
          },
          "execution_count": 40
        }
      ]
    },
    {
      "cell_type": "code",
      "metadata": {
        "id": "5VxVL4r3Oa1_",
        "colab": {
          "base_uri": "https://localhost:8080/",
          "height": 202
        },
        "outputId": "6114ceb9-3b00-4b42-ec17-d11392209a0a"
      },
      "source": [
        "df_apps[['Average User Rating', 'In-app Purchases', 'Price', 'User Rating Count']].sample(5)"
      ],
      "execution_count": null,
      "outputs": [
        {
          "output_type": "execute_result",
          "data": {
            "text/html": [
              "<div>\n",
              "<style scoped>\n",
              "    .dataframe tbody tr th:only-of-type {\n",
              "        vertical-align: middle;\n",
              "    }\n",
              "\n",
              "    .dataframe tbody tr th {\n",
              "        vertical-align: top;\n",
              "    }\n",
              "\n",
              "    .dataframe thead th {\n",
              "        text-align: right;\n",
              "    }\n",
              "</style>\n",
              "<table border=\"1\" class=\"dataframe\">\n",
              "  <thead>\n",
              "    <tr style=\"text-align: right;\">\n",
              "      <th></th>\n",
              "      <th>Average User Rating</th>\n",
              "      <th>In-app Purchases</th>\n",
              "      <th>Price</th>\n",
              "      <th>User Rating Count</th>\n",
              "    </tr>\n",
              "  </thead>\n",
              "  <tbody>\n",
              "    <tr>\n",
              "      <th>9040</th>\n",
              "      <td>NaN</td>\n",
              "      <td>2.99</td>\n",
              "      <td>0.0</td>\n",
              "      <td>NaN</td>\n",
              "    </tr>\n",
              "    <tr>\n",
              "      <th>2787</th>\n",
              "      <td>NaN</td>\n",
              "      <td>1.99, 0.99, 1.99, 2.99, 14.99</td>\n",
              "      <td>0.0</td>\n",
              "      <td>NaN</td>\n",
              "    </tr>\n",
              "    <tr>\n",
              "      <th>13682</th>\n",
              "      <td>4.5</td>\n",
              "      <td>2.99, 2.99, 4.99, 9.99, 1.99, 19.99, 49.99, 99.99</td>\n",
              "      <td>0.0</td>\n",
              "      <td>39985.0</td>\n",
              "    </tr>\n",
              "    <tr>\n",
              "      <th>9769</th>\n",
              "      <td>NaN</td>\n",
              "      <td>NaN</td>\n",
              "      <td>0.0</td>\n",
              "      <td>NaN</td>\n",
              "    </tr>\n",
              "    <tr>\n",
              "      <th>11829</th>\n",
              "      <td>NaN</td>\n",
              "      <td>1.99, 4.99, 9.99, 19.99</td>\n",
              "      <td>0.0</td>\n",
              "      <td>NaN</td>\n",
              "    </tr>\n",
              "  </tbody>\n",
              "</table>\n",
              "</div>"
            ],
            "text/plain": [
              "       Average User Rating  ... User Rating Count\n",
              "9040                   NaN  ...               NaN\n",
              "2787                   NaN  ...               NaN\n",
              "13682                  4.5  ...           39985.0\n",
              "9769                   NaN  ...               NaN\n",
              "11829                  NaN  ...               NaN\n",
              "\n",
              "[5 rows x 4 columns]"
            ]
          },
          "metadata": {
            "tags": []
          },
          "execution_count": 41
        }
      ]
    },
    {
      "cell_type": "code",
      "metadata": {
        "id": "B5oSu9rzOayl"
      },
      "source": [
        "df_features = df_apps[['Average User Rating', 'In-app Purchases', 'Price', 'User Rating Count']].copy()"
      ],
      "execution_count": null,
      "outputs": []
    },
    {
      "cell_type": "code",
      "metadata": {
        "id": "Jqudrjf2Oaw-",
        "colab": {
          "base_uri": "https://localhost:8080/",
          "height": 171
        },
        "outputId": "edd16423-f1a4-4819-b5c1-276547cf74c4"
      },
      "source": [
        "df_features[:4]"
      ],
      "execution_count": null,
      "outputs": [
        {
          "output_type": "execute_result",
          "data": {
            "text/html": [
              "<div>\n",
              "<style scoped>\n",
              "    .dataframe tbody tr th:only-of-type {\n",
              "        vertical-align: middle;\n",
              "    }\n",
              "\n",
              "    .dataframe tbody tr th {\n",
              "        vertical-align: top;\n",
              "    }\n",
              "\n",
              "    .dataframe thead th {\n",
              "        text-align: right;\n",
              "    }\n",
              "</style>\n",
              "<table border=\"1\" class=\"dataframe\">\n",
              "  <thead>\n",
              "    <tr style=\"text-align: right;\">\n",
              "      <th></th>\n",
              "      <th>Average User Rating</th>\n",
              "      <th>In-app Purchases</th>\n",
              "      <th>Price</th>\n",
              "      <th>User Rating Count</th>\n",
              "    </tr>\n",
              "  </thead>\n",
              "  <tbody>\n",
              "    <tr>\n",
              "      <th>0</th>\n",
              "      <td>4.0</td>\n",
              "      <td>NaN</td>\n",
              "      <td>2.99</td>\n",
              "      <td>3553.0</td>\n",
              "    </tr>\n",
              "    <tr>\n",
              "      <th>1</th>\n",
              "      <td>3.5</td>\n",
              "      <td>NaN</td>\n",
              "      <td>1.99</td>\n",
              "      <td>284.0</td>\n",
              "    </tr>\n",
              "    <tr>\n",
              "      <th>2</th>\n",
              "      <td>3.0</td>\n",
              "      <td>NaN</td>\n",
              "      <td>0.00</td>\n",
              "      <td>8376.0</td>\n",
              "    </tr>\n",
              "    <tr>\n",
              "      <th>3</th>\n",
              "      <td>3.5</td>\n",
              "      <td>NaN</td>\n",
              "      <td>0.00</td>\n",
              "      <td>190394.0</td>\n",
              "    </tr>\n",
              "  </tbody>\n",
              "</table>\n",
              "</div>"
            ],
            "text/plain": [
              "   Average User Rating In-app Purchases  Price  User Rating Count\n",
              "0                  4.0              NaN   2.99             3553.0\n",
              "1                  3.5              NaN   1.99              284.0\n",
              "2                  3.0              NaN   0.00             8376.0\n",
              "3                  3.5              NaN   0.00           190394.0"
            ]
          },
          "metadata": {
            "tags": []
          },
          "execution_count": 43
        }
      ]
    },
    {
      "cell_type": "code",
      "metadata": {
        "id": "1XOzSYM2OavA",
        "colab": {
          "base_uri": "https://localhost:8080/",
          "height": 173
        },
        "outputId": "3eac68fb-65b2-4513-ed5e-2f0a2fdd7386"
      },
      "source": [
        "df_features.info()"
      ],
      "execution_count": null,
      "outputs": [
        {
          "output_type": "stream",
          "text": [
            "<class 'pandas.core.frame.DataFrame'>\n",
            "RangeIndex: 17007 entries, 0 to 17006\n",
            "Data columns (total 4 columns):\n",
            "Average User Rating    7561 non-null float64\n",
            "In-app Purchases       7683 non-null object\n",
            "Price                  16983 non-null float64\n",
            "User Rating Count      7561 non-null float64\n",
            "dtypes: float64(3), object(1)\n",
            "memory usage: 531.6+ KB\n"
          ],
          "name": "stdout"
        }
      ]
    },
    {
      "cell_type": "code",
      "metadata": {
        "id": "BOgoj-4hOarH"
      },
      "source": [
        "inapps_ls = df_features[\"In-app Purchases\"].tolist()"
      ],
      "execution_count": null,
      "outputs": []
    },
    {
      "cell_type": "code",
      "metadata": {
        "id": "Y-rSoyr-Oapd",
        "colab": {
          "base_uri": "https://localhost:8080/",
          "height": 104
        },
        "outputId": "df5146b1-dcf6-4ba7-e955-598fa0bdd782"
      },
      "source": [
        "inapps_ls[100:105]"
      ],
      "execution_count": null,
      "outputs": [
        {
          "output_type": "execute_result",
          "data": {
            "text/plain": [
              "['0.99, 0.99',\n",
              " nan,\n",
              " '0.99, 0.99, 0.99, 1.99, 0.99, 2.99, 4.99, 0.99, 0.99, 0.99',\n",
              " nan,\n",
              " nan]"
            ]
          },
          "metadata": {
            "tags": []
          },
          "execution_count": 49
        }
      ]
    },
    {
      "cell_type": "code",
      "metadata": {
        "id": "Ujto7ZIRUhk9",
        "colab": {
          "base_uri": "https://localhost:8080/",
          "height": 191
        },
        "outputId": "df47b774-45c9-49e0-eecd-fbbc8da3fa94"
      },
      "source": [
        "test_ls = '0.99, 0.99, 0.99, 1.99, 0.99, 2.99, 4.99, 0.99, 0.99, 0.99'.split(\", \")\n",
        "test_ls"
      ],
      "execution_count": null,
      "outputs": [
        {
          "output_type": "execute_result",
          "data": {
            "text/plain": [
              "['0.99',\n",
              " '0.99',\n",
              " '0.99',\n",
              " '1.99',\n",
              " '0.99',\n",
              " '2.99',\n",
              " '4.99',\n",
              " '0.99',\n",
              " '0.99',\n",
              " '0.99']"
            ]
          },
          "metadata": {
            "tags": []
          },
          "execution_count": 52
        }
      ]
    },
    {
      "cell_type": "code",
      "metadata": {
        "id": "OppSVLTNVHkD",
        "colab": {
          "base_uri": "https://localhost:8080/",
          "height": 35
        },
        "outputId": "cf535aa0-0772-41d6-d3f4-4e6a44d6d731"
      },
      "source": [
        "# List Comprehension\n",
        "test_float_ls = [float(elem) for elem in test_ls]\n",
        "test_float_ls"
      ],
      "execution_count": null,
      "outputs": [
        {
          "output_type": "execute_result",
          "data": {
            "text/plain": [
              "[0.99, 0.99, 0.99, 1.99, 0.99, 2.99, 4.99, 0.99, 0.99, 0.99]"
            ]
          },
          "metadata": {
            "tags": []
          },
          "execution_count": 53
        }
      ]
    },
    {
      "cell_type": "code",
      "metadata": {
        "id": "xt-isQa2VZCi",
        "colab": {
          "base_uri": "https://localhost:8080/",
          "height": 35
        },
        "outputId": "465d15bf-d5a5-4ff8-9b93-c9549d04f386"
      },
      "source": [
        "test_float_ls = []\n",
        "for elem in test_ls:\n",
        "    float_elem = float(elem)\n",
        "    test_float_ls.append(float_elem)\n",
        "\n",
        "test_float_ls"
      ],
      "execution_count": null,
      "outputs": [
        {
          "output_type": "execute_result",
          "data": {
            "text/plain": [
              "[0.99, 0.99, 0.99, 1.99, 0.99, 2.99, 4.99, 0.99, 0.99, 0.99]"
            ]
          },
          "metadata": {
            "tags": []
          },
          "execution_count": 54
        }
      ]
    },
    {
      "cell_type": "code",
      "metadata": {
        "id": "R6hKrSy-Wip-"
      },
      "source": [
        "import numpy as np"
      ],
      "execution_count": null,
      "outputs": []
    },
    {
      "cell_type": "code",
      "metadata": {
        "id": "Iq0aXrYmUB8C"
      },
      "source": [
        "avg_inapps_ls = []\n",
        "for elem in inapps_ls:\n",
        "    str_elem_ls = str(elem).split(\", \")\n",
        "    float_elem_ls = [float(elem) for elem in str_elem_ls]\n",
        "    avg_inapps = np.mean(np.array(float_elem_ls))\n",
        "    avg_inapps_ls.append(avg_inapps)"
      ],
      "execution_count": null,
      "outputs": []
    },
    {
      "cell_type": "code",
      "metadata": {
        "id": "TzPby8yXUB04",
        "colab": {
          "base_uri": "https://localhost:8080/",
          "height": 52
        },
        "outputId": "44f9b758-a778-450d-f124-5528ebfb1fe6"
      },
      "source": [
        "print(inapps_ls[100:105])\n",
        "print(avg_inapps_ls[100:105])"
      ],
      "execution_count": null,
      "outputs": [
        {
          "output_type": "stream",
          "text": [
            "['0.99, 0.99', nan, '0.99, 0.99, 0.99, 1.99, 0.99, 2.99, 4.99, 0.99, 0.99, 0.99', nan, nan]\n",
            "[0.99, nan, 1.6900000000000002, nan, nan]\n"
          ],
          "name": "stdout"
        }
      ]
    },
    {
      "cell_type": "code",
      "metadata": {
        "id": "93vf_n2AUBym",
        "colab": {
          "base_uri": "https://localhost:8080/",
          "height": 35
        },
        "outputId": "5b41c9ff-7aee-4f9d-f850-cdee76d7f9bd"
      },
      "source": [
        "len(avg_inapps_ls)"
      ],
      "execution_count": null,
      "outputs": [
        {
          "output_type": "execute_result",
          "data": {
            "text/plain": [
              "17007"
            ]
          },
          "metadata": {
            "tags": []
          },
          "execution_count": 66
        }
      ]
    },
    {
      "cell_type": "code",
      "metadata": {
        "id": "9NXaTFWIOamW"
      },
      "source": [
        "df_features[\"avg_in_app_puchase\"] = avg_inapps_ls"
      ],
      "execution_count": null,
      "outputs": []
    },
    {
      "cell_type": "code",
      "metadata": {
        "id": "_qDk1ugdK4C3",
        "colab": {
          "base_uri": "https://localhost:8080/",
          "height": 202
        },
        "outputId": "d8784b80-83fa-49e0-81b1-108b9d575d02"
      },
      "source": [
        "df_features[[\"In-app Purchases\", \"avg_in_app_puchase\"]].sample(5)"
      ],
      "execution_count": null,
      "outputs": [
        {
          "output_type": "execute_result",
          "data": {
            "text/html": [
              "<div>\n",
              "<style scoped>\n",
              "    .dataframe tbody tr th:only-of-type {\n",
              "        vertical-align: middle;\n",
              "    }\n",
              "\n",
              "    .dataframe tbody tr th {\n",
              "        vertical-align: top;\n",
              "    }\n",
              "\n",
              "    .dataframe thead th {\n",
              "        text-align: right;\n",
              "    }\n",
              "</style>\n",
              "<table border=\"1\" class=\"dataframe\">\n",
              "  <thead>\n",
              "    <tr style=\"text-align: right;\">\n",
              "      <th></th>\n",
              "      <th>In-app Purchases</th>\n",
              "      <th>avg_in_app_puchase</th>\n",
              "    </tr>\n",
              "  </thead>\n",
              "  <tbody>\n",
              "    <tr>\n",
              "      <th>13539</th>\n",
              "      <td>NaN</td>\n",
              "      <td>NaN</td>\n",
              "    </tr>\n",
              "    <tr>\n",
              "      <th>9008</th>\n",
              "      <td>1.99, 9.99, 0.99</td>\n",
              "      <td>4.323333</td>\n",
              "    </tr>\n",
              "    <tr>\n",
              "      <th>3450</th>\n",
              "      <td>NaN</td>\n",
              "      <td>NaN</td>\n",
              "    </tr>\n",
              "    <tr>\n",
              "      <th>11110</th>\n",
              "      <td>9.99, 4.99, 1.99, 4.99, 29.99, 4.99, 9.99, 29....</td>\n",
              "      <td>10.390000</td>\n",
              "    </tr>\n",
              "    <tr>\n",
              "      <th>1007</th>\n",
              "      <td>NaN</td>\n",
              "      <td>NaN</td>\n",
              "    </tr>\n",
              "  </tbody>\n",
              "</table>\n",
              "</div>"
            ],
            "text/plain": [
              "                                        In-app Purchases  avg_in_app_puchase\n",
              "13539                                                NaN                 NaN\n",
              "9008                                    1.99, 9.99, 0.99            4.323333\n",
              "3450                                                 NaN                 NaN\n",
              "11110  9.99, 4.99, 1.99, 4.99, 29.99, 4.99, 9.99, 29....           10.390000\n",
              "1007                                                 NaN                 NaN"
            ]
          },
          "metadata": {
            "tags": []
          },
          "execution_count": 69
        }
      ]
    },
    {
      "cell_type": "markdown",
      "metadata": {
        "id": "pG_6cqLxZnqD"
      },
      "source": [
        "## จัดการ Missing Values"
      ]
    },
    {
      "cell_type": "code",
      "metadata": {
        "id": "oIj0vYoJZJJ_",
        "colab": {
          "base_uri": "https://localhost:8080/",
          "height": 69
        },
        "outputId": "d1d9460e-8970-4f06-9479-bddf43adb083"
      },
      "source": [
        "df_features.columns"
      ],
      "execution_count": null,
      "outputs": [
        {
          "output_type": "execute_result",
          "data": {
            "text/plain": [
              "Index(['Average User Rating', 'In-app Purchases', 'Price', 'User Rating Count',\n",
              "       'avg_in_app_puchase'],\n",
              "      dtype='object')"
            ]
          },
          "metadata": {
            "tags": []
          },
          "execution_count": 70
        }
      ]
    },
    {
      "cell_type": "code",
      "metadata": {
        "id": "_33zr_QnZJHk"
      },
      "source": [
        "df_features = df_features.fillna(0)"
      ],
      "execution_count": null,
      "outputs": []
    },
    {
      "cell_type": "code",
      "metadata": {
        "id": "er4g1W-jZJFW",
        "colab": {
          "base_uri": "https://localhost:8080/",
          "height": 191
        },
        "outputId": "5cf5d9fb-f81d-4061-afc3-4cb78b160afd"
      },
      "source": [
        "df_features.info()"
      ],
      "execution_count": null,
      "outputs": [
        {
          "output_type": "stream",
          "text": [
            "<class 'pandas.core.frame.DataFrame'>\n",
            "RangeIndex: 17007 entries, 0 to 17006\n",
            "Data columns (total 5 columns):\n",
            "Average User Rating    17007 non-null float64\n",
            "In-app Purchases       17007 non-null object\n",
            "Price                  17007 non-null float64\n",
            "User Rating Count      17007 non-null float64\n",
            "avg_in_app_puchase     17007 non-null float64\n",
            "dtypes: float64(4), object(1)\n",
            "memory usage: 664.5+ KB\n"
          ],
          "name": "stdout"
        }
      ]
    },
    {
      "cell_type": "code",
      "metadata": {
        "id": "EeEpMRe-ZJDv",
        "colab": {
          "base_uri": "https://localhost:8080/",
          "height": 294
        },
        "outputId": "4bc165dc-67d3-4cc3-b958-5ac9f4cff022"
      },
      "source": [
        "df_features.describe()"
      ],
      "execution_count": null,
      "outputs": [
        {
          "output_type": "execute_result",
          "data": {
            "text/html": [
              "<div>\n",
              "<style scoped>\n",
              "    .dataframe tbody tr th:only-of-type {\n",
              "        vertical-align: middle;\n",
              "    }\n",
              "\n",
              "    .dataframe tbody tr th {\n",
              "        vertical-align: top;\n",
              "    }\n",
              "\n",
              "    .dataframe thead th {\n",
              "        text-align: right;\n",
              "    }\n",
              "</style>\n",
              "<table border=\"1\" class=\"dataframe\">\n",
              "  <thead>\n",
              "    <tr style=\"text-align: right;\">\n",
              "      <th></th>\n",
              "      <th>Average User Rating</th>\n",
              "      <th>Price</th>\n",
              "      <th>User Rating Count</th>\n",
              "      <th>avg_in_app_puchase</th>\n",
              "    </tr>\n",
              "  </thead>\n",
              "  <tbody>\n",
              "    <tr>\n",
              "      <th>count</th>\n",
              "      <td>17007.000000</td>\n",
              "      <td>17007.000000</td>\n",
              "      <td>1.700700e+04</td>\n",
              "      <td>17007.000000</td>\n",
              "    </tr>\n",
              "    <tr>\n",
              "      <th>mean</th>\n",
              "      <td>1.805404</td>\n",
              "      <td>0.812271</td>\n",
              "      <td>1.470023e+03</td>\n",
              "      <td>3.337221</td>\n",
              "    </tr>\n",
              "    <tr>\n",
              "      <th>std</th>\n",
              "      <td>2.079264</td>\n",
              "      <td>7.830260</td>\n",
              "      <td>2.826616e+04</td>\n",
              "      <td>7.144740</td>\n",
              "    </tr>\n",
              "    <tr>\n",
              "      <th>min</th>\n",
              "      <td>0.000000</td>\n",
              "      <td>0.000000</td>\n",
              "      <td>0.000000e+00</td>\n",
              "      <td>0.000000</td>\n",
              "    </tr>\n",
              "    <tr>\n",
              "      <th>25%</th>\n",
              "      <td>0.000000</td>\n",
              "      <td>0.000000</td>\n",
              "      <td>0.000000e+00</td>\n",
              "      <td>0.000000</td>\n",
              "    </tr>\n",
              "    <tr>\n",
              "      <th>50%</th>\n",
              "      <td>0.000000</td>\n",
              "      <td>0.000000</td>\n",
              "      <td>0.000000e+00</td>\n",
              "      <td>0.000000</td>\n",
              "    </tr>\n",
              "    <tr>\n",
              "      <th>75%</th>\n",
              "      <td>4.000000</td>\n",
              "      <td>0.000000</td>\n",
              "      <td>3.100000e+01</td>\n",
              "      <td>2.990000</td>\n",
              "    </tr>\n",
              "    <tr>\n",
              "      <th>max</th>\n",
              "      <td>5.000000</td>\n",
              "      <td>179.990000</td>\n",
              "      <td>3.032734e+06</td>\n",
              "      <td>89.990000</td>\n",
              "    </tr>\n",
              "  </tbody>\n",
              "</table>\n",
              "</div>"
            ],
            "text/plain": [
              "       Average User Rating         Price  User Rating Count  avg_in_app_puchase\n",
              "count         17007.000000  17007.000000       1.700700e+04        17007.000000\n",
              "mean              1.805404      0.812271       1.470023e+03            3.337221\n",
              "std               2.079264      7.830260       2.826616e+04            7.144740\n",
              "min               0.000000      0.000000       0.000000e+00            0.000000\n",
              "25%               0.000000      0.000000       0.000000e+00            0.000000\n",
              "50%               0.000000      0.000000       0.000000e+00            0.000000\n",
              "75%               4.000000      0.000000       3.100000e+01            2.990000\n",
              "max               5.000000    179.990000       3.032734e+06           89.990000"
            ]
          },
          "metadata": {
            "tags": []
          },
          "execution_count": 73
        }
      ]
    },
    {
      "cell_type": "markdown",
      "metadata": {
        "id": "ttmn3QN3cqwg"
      },
      "source": [
        "## Normalization"
      ]
    },
    {
      "cell_type": "code",
      "metadata": {
        "id": "jD09jEN9ZJBw"
      },
      "source": [
        "from sklearn.preprocessing import MinMaxScaler"
      ],
      "execution_count": null,
      "outputs": []
    },
    {
      "cell_type": "code",
      "metadata": {
        "id": "sgSFxLvSZI_P"
      },
      "source": [
        "norm = MinMaxScaler((0,100))"
      ],
      "execution_count": null,
      "outputs": []
    },
    {
      "cell_type": "code",
      "metadata": {
        "id": "izBqYWKpeqSr",
        "colab": {
          "base_uri": "https://localhost:8080/",
          "height": 139
        },
        "outputId": "0147d662-56af-48a3-aab6-5b7e900f139d"
      },
      "source": [
        "df_features[\"Average User Rating\"].values.reshape((17007, 1))"
      ],
      "execution_count": null,
      "outputs": [
        {
          "output_type": "execute_result",
          "data": {
            "text/plain": [
              "array([[4. ],\n",
              "       [3.5],\n",
              "       [3. ],\n",
              "       ...,\n",
              "       [0. ],\n",
              "       [0. ],\n",
              "       [0. ]])"
            ]
          },
          "metadata": {
            "tags": []
          },
          "execution_count": 82
        }
      ]
    },
    {
      "cell_type": "code",
      "metadata": {
        "id": "Eo6AivlUeiod",
        "colab": {
          "base_uri": "https://localhost:8080/",
          "height": 139
        },
        "outputId": "ac1fde21-92e9-4ec0-b85f-96085ec7a8a9"
      },
      "source": [
        "norm.fit_transform(df_features[\"Average User Rating\"].values.reshape((17007, 1)))"
      ],
      "execution_count": null,
      "outputs": [
        {
          "output_type": "execute_result",
          "data": {
            "text/plain": [
              "array([[80.],\n",
              "       [70.],\n",
              "       [60.],\n",
              "       ...,\n",
              "       [ 0.],\n",
              "       [ 0.],\n",
              "       [ 0.]])"
            ]
          },
          "metadata": {
            "tags": []
          },
          "execution_count": 83
        }
      ]
    },
    {
      "cell_type": "code",
      "metadata": {
        "id": "X4yORpAfc2C9"
      },
      "source": [
        "df_features[\"norm_Average User Rating\"] = norm.fit_transform(df_features[\"Average User Rating\"].values.reshape((17007, 1)))\n",
        "df_features[\"norm_Price\"] = norm.fit_transform(df_features[\"Price\"].values.reshape((17007, 1)))\n",
        "df_features[\"norm_User Rating Count\"] = norm.fit_transform(df_features[\"User Rating Count\"].values.reshape((17007, 1)))\n",
        "df_features[\"norm_avg_in_app_puchase\"] = norm.fit_transform(df_features[\"avg_in_app_puchase\"].values.reshape((17007, 1)))"
      ],
      "execution_count": null,
      "outputs": []
    },
    {
      "cell_type": "code",
      "metadata": {
        "id": "REAvSWQ4gAzd",
        "colab": {
          "base_uri": "https://localhost:8080/",
          "height": 311
        },
        "outputId": "5d606477-0550-4e08-eed9-af04c547db5f"
      },
      "source": [
        "df_features[[\"norm_Average User Rating\", \n",
        "              \"norm_Price\", \n",
        "              \"norm_User Rating Count\", \n",
        "              \"norm_avg_in_app_puchase\"]].describe()"
      ],
      "execution_count": null,
      "outputs": [
        {
          "output_type": "stream",
          "text": [
            "ERROR! Session/line number was not unique in database. History logging moved to new session 59\n"
          ],
          "name": "stdout"
        },
        {
          "output_type": "execute_result",
          "data": {
            "text/html": [
              "<div>\n",
              "<style scoped>\n",
              "    .dataframe tbody tr th:only-of-type {\n",
              "        vertical-align: middle;\n",
              "    }\n",
              "\n",
              "    .dataframe tbody tr th {\n",
              "        vertical-align: top;\n",
              "    }\n",
              "\n",
              "    .dataframe thead th {\n",
              "        text-align: right;\n",
              "    }\n",
              "</style>\n",
              "<table border=\"1\" class=\"dataframe\">\n",
              "  <thead>\n",
              "    <tr style=\"text-align: right;\">\n",
              "      <th></th>\n",
              "      <th>norm_Average User Rating</th>\n",
              "      <th>norm_Price</th>\n",
              "      <th>norm_User Rating Count</th>\n",
              "      <th>norm_avg_in_app_puchase</th>\n",
              "    </tr>\n",
              "  </thead>\n",
              "  <tbody>\n",
              "    <tr>\n",
              "      <th>count</th>\n",
              "      <td>17007.000000</td>\n",
              "      <td>17007.000000</td>\n",
              "      <td>17007.000000</td>\n",
              "      <td>17007.000000</td>\n",
              "    </tr>\n",
              "    <tr>\n",
              "      <th>mean</th>\n",
              "      <td>36.108073</td>\n",
              "      <td>0.451287</td>\n",
              "      <td>0.048472</td>\n",
              "      <td>3.708435</td>\n",
              "    </tr>\n",
              "    <tr>\n",
              "      <th>std</th>\n",
              "      <td>41.585290</td>\n",
              "      <td>4.350386</td>\n",
              "      <td>0.932035</td>\n",
              "      <td>7.939482</td>\n",
              "    </tr>\n",
              "    <tr>\n",
              "      <th>min</th>\n",
              "      <td>0.000000</td>\n",
              "      <td>0.000000</td>\n",
              "      <td>0.000000</td>\n",
              "      <td>0.000000</td>\n",
              "    </tr>\n",
              "    <tr>\n",
              "      <th>25%</th>\n",
              "      <td>0.000000</td>\n",
              "      <td>0.000000</td>\n",
              "      <td>0.000000</td>\n",
              "      <td>0.000000</td>\n",
              "    </tr>\n",
              "    <tr>\n",
              "      <th>50%</th>\n",
              "      <td>0.000000</td>\n",
              "      <td>0.000000</td>\n",
              "      <td>0.000000</td>\n",
              "      <td>0.000000</td>\n",
              "    </tr>\n",
              "    <tr>\n",
              "      <th>75%</th>\n",
              "      <td>80.000000</td>\n",
              "      <td>0.000000</td>\n",
              "      <td>0.001022</td>\n",
              "      <td>3.322591</td>\n",
              "    </tr>\n",
              "    <tr>\n",
              "      <th>max</th>\n",
              "      <td>100.000000</td>\n",
              "      <td>100.000000</td>\n",
              "      <td>100.000000</td>\n",
              "      <td>100.000000</td>\n",
              "    </tr>\n",
              "  </tbody>\n",
              "</table>\n",
              "</div>"
            ],
            "text/plain": [
              "       norm_Average User Rating  ...  norm_avg_in_app_puchase\n",
              "count              17007.000000  ...             17007.000000\n",
              "mean                  36.108073  ...                 3.708435\n",
              "std                   41.585290  ...                 7.939482\n",
              "min                    0.000000  ...                 0.000000\n",
              "25%                    0.000000  ...                 0.000000\n",
              "50%                    0.000000  ...                 0.000000\n",
              "75%                   80.000000  ...                 3.322591\n",
              "max                  100.000000  ...               100.000000\n",
              "\n",
              "[8 rows x 4 columns]"
            ]
          },
          "metadata": {
            "tags": []
          },
          "execution_count": 85
        }
      ]
    },
    {
      "cell_type": "markdown",
      "metadata": {
        "id": "gkpzj-BhwTfT"
      },
      "source": [
        "### Average"
      ]
    },
    {
      "cell_type": "code",
      "metadata": {
        "id": "9FtzL3fVc2A3"
      },
      "source": [
        "df_features[\"luxe_score\"] = df_features[[\"norm_Average User Rating\", \n",
        "                                            \"norm_Price\", \n",
        "                                            \"norm_User Rating Count\", \n",
        "                                            \"norm_avg_in_app_puchase\"]].mean(axis=1)"
      ],
      "execution_count": null,
      "outputs": []
    },
    {
      "cell_type": "code",
      "metadata": {
        "id": "TCucbFgzc1-6",
        "colab": {
          "base_uri": "https://localhost:8080/",
          "height": 202
        },
        "outputId": "517573a6-2dae-498b-c3a4-70adcdd2083a"
      },
      "source": [
        "df_features[[\"luxe_score\"]][:5]"
      ],
      "execution_count": null,
      "outputs": [
        {
          "output_type": "execute_result",
          "data": {
            "text/html": [
              "<div>\n",
              "<style scoped>\n",
              "    .dataframe tbody tr th:only-of-type {\n",
              "        vertical-align: middle;\n",
              "    }\n",
              "\n",
              "    .dataframe tbody tr th {\n",
              "        vertical-align: top;\n",
              "    }\n",
              "\n",
              "    .dataframe thead th {\n",
              "        text-align: right;\n",
              "    }\n",
              "</style>\n",
              "<table border=\"1\" class=\"dataframe\">\n",
              "  <thead>\n",
              "    <tr style=\"text-align: right;\">\n",
              "      <th></th>\n",
              "      <th>luxe_score</th>\n",
              "    </tr>\n",
              "  </thead>\n",
              "  <tbody>\n",
              "    <tr>\n",
              "      <th>0</th>\n",
              "      <td>20.444590</td>\n",
              "    </tr>\n",
              "    <tr>\n",
              "      <th>1</th>\n",
              "      <td>17.778745</td>\n",
              "    </tr>\n",
              "    <tr>\n",
              "      <th>2</th>\n",
              "      <td>15.069047</td>\n",
              "    </tr>\n",
              "    <tr>\n",
              "      <th>3</th>\n",
              "      <td>19.069491</td>\n",
              "    </tr>\n",
              "    <tr>\n",
              "      <th>4</th>\n",
              "      <td>17.915532</td>\n",
              "    </tr>\n",
              "  </tbody>\n",
              "</table>\n",
              "</div>"
            ],
            "text/plain": [
              "   luxe_score\n",
              "0   20.444590\n",
              "1   17.778745\n",
              "2   15.069047\n",
              "3   19.069491\n",
              "4   17.915532"
            ]
          },
          "metadata": {
            "tags": []
          },
          "execution_count": 87
        }
      ]
    },
    {
      "cell_type": "code",
      "metadata": {
        "id": "KPpVu-qfc188",
        "colab": {
          "base_uri": "https://localhost:8080/",
          "height": 87
        },
        "outputId": "8bf5856a-6a8c-4118-e68a-16d0489635f4"
      },
      "source": [
        "df_features.columns"
      ],
      "execution_count": null,
      "outputs": [
        {
          "output_type": "execute_result",
          "data": {
            "text/plain": [
              "Index(['Average User Rating', 'In-app Purchases', 'Price', 'User Rating Count',\n",
              "       'avg_in_app_puchase', 'norm_Average User Rating', 'norm_Price',\n",
              "       'norm_User Rating Count', 'norm_avg_in_app_puchase', 'luxe_score'],\n",
              "      dtype='object')"
            ]
          },
          "metadata": {
            "tags": []
          },
          "execution_count": 88
        }
      ]
    },
    {
      "cell_type": "code",
      "metadata": {
        "id": "ipJSdVbhc17a",
        "colab": {
          "base_uri": "https://localhost:8080/",
          "height": 35
        },
        "outputId": "b53e348c-b562-4df9-eee4-cee111cfcc79"
      },
      "source": [
        "df_apps.shape, df_features.shape"
      ],
      "execution_count": null,
      "outputs": [
        {
          "output_type": "execute_result",
          "data": {
            "text/plain": [
              "((17007, 19), (17007, 10))"
            ]
          },
          "metadata": {
            "tags": []
          },
          "execution_count": 90
        }
      ]
    },
    {
      "cell_type": "markdown",
      "metadata": {
        "id": "ATVJOExuxoMH"
      },
      "source": [
        "### Joining"
      ]
    },
    {
      "cell_type": "code",
      "metadata": {
        "id": "cE_0juVKc15I"
      },
      "source": [
        "df_join = df_apps.join(df_features[[\"luxe_score\"]], how=\"inner\")"
      ],
      "execution_count": null,
      "outputs": []
    },
    {
      "cell_type": "code",
      "metadata": {
        "id": "oNJdmH7Zc13E",
        "colab": {
          "base_uri": "https://localhost:8080/",
          "height": 121
        },
        "outputId": "237c5fa3-728e-4521-e89d-cbabbc110851"
      },
      "source": [
        "df_join.columns"
      ],
      "execution_count": null,
      "outputs": [
        {
          "output_type": "execute_result",
          "data": {
            "text/plain": [
              "Index(['URL', 'ID', 'Name', 'Subtitle', 'Icon URL', 'Average User Rating',\n",
              "       'User Rating Count', 'Price', 'In-app Purchases', 'Description',\n",
              "       'Developer', 'Age Rating', 'Languages', 'Size', 'Primary Genre',\n",
              "       'Genres', 'Original Release Date', 'Current Version Release Date',\n",
              "       'Price_tax', 'luxe_score'],\n",
              "      dtype='object')"
            ]
          },
          "metadata": {
            "tags": []
          },
          "execution_count": 93
        }
      ]
    },
    {
      "cell_type": "markdown",
      "metadata": {
        "id": "PKLgl8Ae0gfS"
      },
      "source": [
        "### Sorting"
      ]
    },
    {
      "cell_type": "code",
      "metadata": {
        "id": "X1ZlPHCQc10t",
        "colab": {
          "base_uri": "https://localhost:8080/",
          "height": 415
        },
        "outputId": "6815fe39-67a6-4481-a4d9-4dc8dd071647"
      },
      "source": [
        "df_join[[\"Name\", \"luxe_score\"]].sort_values(by=\"luxe_score\", ascending=False)"
      ],
      "execution_count": null,
      "outputs": [
        {
          "output_type": "execute_result",
          "data": {
            "text/html": [
              "<div>\n",
              "<style scoped>\n",
              "    .dataframe tbody tr th:only-of-type {\n",
              "        vertical-align: middle;\n",
              "    }\n",
              "\n",
              "    .dataframe tbody tr th {\n",
              "        vertical-align: top;\n",
              "    }\n",
              "\n",
              "    .dataframe thead th {\n",
              "        text-align: right;\n",
              "    }\n",
              "</style>\n",
              "<table border=\"1\" class=\"dataframe\">\n",
              "  <thead>\n",
              "    <tr style=\"text-align: right;\">\n",
              "      <th></th>\n",
              "      <th>Name</th>\n",
              "      <th>luxe_score</th>\n",
              "    </tr>\n",
              "  </thead>\n",
              "  <tbody>\n",
              "    <tr>\n",
              "      <th>1378</th>\n",
              "      <td>Clash of Clans</td>\n",
              "      <td>53.053395</td>\n",
              "    </tr>\n",
              "    <tr>\n",
              "      <th>2634</th>\n",
              "      <td>Finabase: realtime stocks</td>\n",
              "      <td>48.617825</td>\n",
              "    </tr>\n",
              "    <tr>\n",
              "      <th>16085</th>\n",
              "      <td>Arcane Pets: Plushie Empire</td>\n",
              "      <td>43.332977</td>\n",
              "    </tr>\n",
              "    <tr>\n",
              "      <th>8946</th>\n",
              "      <td>War Planet Online</td>\n",
              "      <td>41.027593</td>\n",
              "    </tr>\n",
              "    <tr>\n",
              "      <th>1683</th>\n",
              "      <td>War of Nations\\u2122 - PVP Strategy</td>\n",
              "      <td>38.865776</td>\n",
              "    </tr>\n",
              "    <tr>\n",
              "      <th>...</th>\n",
              "      <td>...</td>\n",
              "      <td>...</td>\n",
              "    </tr>\n",
              "    <tr>\n",
              "      <th>9391</th>\n",
              "      <td>Super block 10x10 puzzle games for kids dots &amp;...</td>\n",
              "      <td>0.000000</td>\n",
              "    </tr>\n",
              "    <tr>\n",
              "      <th>1327</th>\n",
              "      <td>Shoot Apple</td>\n",
              "      <td>0.000000</td>\n",
              "    </tr>\n",
              "    <tr>\n",
              "      <th>9393</th>\n",
              "      <td>Strike Boom</td>\n",
              "      <td>0.000000</td>\n",
              "    </tr>\n",
              "    <tr>\n",
              "      <th>3154</th>\n",
              "      <td>Diamond-Rush</td>\n",
              "      <td>0.000000</td>\n",
              "    </tr>\n",
              "    <tr>\n",
              "      <th>17006</th>\n",
              "      <td>The Three Kingdoms :Bomb</td>\n",
              "      <td>0.000000</td>\n",
              "    </tr>\n",
              "  </tbody>\n",
              "</table>\n",
              "<p>17007 rows × 2 columns</p>\n",
              "</div>"
            ],
            "text/plain": [
              "                                                    Name  luxe_score\n",
              "1378                                      Clash of Clans   53.053395\n",
              "2634                           Finabase: realtime stocks   48.617825\n",
              "16085                        Arcane Pets: Plushie Empire   43.332977\n",
              "8946                                   War Planet Online   41.027593\n",
              "1683                 War of Nations\\u2122 - PVP Strategy   38.865776\n",
              "...                                                  ...         ...\n",
              "9391   Super block 10x10 puzzle games for kids dots &...    0.000000\n",
              "1327                                         Shoot Apple    0.000000\n",
              "9393                                         Strike Boom    0.000000\n",
              "3154                                        Diamond-Rush    0.000000\n",
              "17006                           The Three Kingdoms :Bomb    0.000000\n",
              "\n",
              "[17007 rows x 2 columns]"
            ]
          },
          "metadata": {
            "tags": []
          },
          "execution_count": 95
        }
      ]
    },
    {
      "cell_type": "code",
      "metadata": {
        "id": "8o0b50Fr0VwC",
        "colab": {
          "base_uri": "https://localhost:8080/",
          "height": 415
        },
        "outputId": "d42c733c-37dc-4949-df6b-0dcecd00cd21"
      },
      "source": [
        "df_leads = df_join[[\"Name\", \"luxe_score\"]].sort_values(by=\"luxe_score\", ascending=False)\n",
        "df_leads"
      ],
      "execution_count": null,
      "outputs": [
        {
          "output_type": "execute_result",
          "data": {
            "text/html": [
              "<div>\n",
              "<style scoped>\n",
              "    .dataframe tbody tr th:only-of-type {\n",
              "        vertical-align: middle;\n",
              "    }\n",
              "\n",
              "    .dataframe tbody tr th {\n",
              "        vertical-align: top;\n",
              "    }\n",
              "\n",
              "    .dataframe thead th {\n",
              "        text-align: right;\n",
              "    }\n",
              "</style>\n",
              "<table border=\"1\" class=\"dataframe\">\n",
              "  <thead>\n",
              "    <tr style=\"text-align: right;\">\n",
              "      <th></th>\n",
              "      <th>Name</th>\n",
              "      <th>luxe_score</th>\n",
              "    </tr>\n",
              "  </thead>\n",
              "  <tbody>\n",
              "    <tr>\n",
              "      <th>1378</th>\n",
              "      <td>Clash of Clans</td>\n",
              "      <td>53.053395</td>\n",
              "    </tr>\n",
              "    <tr>\n",
              "      <th>2634</th>\n",
              "      <td>Finabase: realtime stocks</td>\n",
              "      <td>48.617825</td>\n",
              "    </tr>\n",
              "    <tr>\n",
              "      <th>16085</th>\n",
              "      <td>Arcane Pets: Plushie Empire</td>\n",
              "      <td>43.332977</td>\n",
              "    </tr>\n",
              "    <tr>\n",
              "      <th>8946</th>\n",
              "      <td>War Planet Online</td>\n",
              "      <td>41.027593</td>\n",
              "    </tr>\n",
              "    <tr>\n",
              "      <th>1683</th>\n",
              "      <td>War of Nations\\u2122 - PVP Strategy</td>\n",
              "      <td>38.865776</td>\n",
              "    </tr>\n",
              "    <tr>\n",
              "      <th>...</th>\n",
              "      <td>...</td>\n",
              "      <td>...</td>\n",
              "    </tr>\n",
              "    <tr>\n",
              "      <th>9391</th>\n",
              "      <td>Super block 10x10 puzzle games for kids dots &amp;...</td>\n",
              "      <td>0.000000</td>\n",
              "    </tr>\n",
              "    <tr>\n",
              "      <th>1327</th>\n",
              "      <td>Shoot Apple</td>\n",
              "      <td>0.000000</td>\n",
              "    </tr>\n",
              "    <tr>\n",
              "      <th>9393</th>\n",
              "      <td>Strike Boom</td>\n",
              "      <td>0.000000</td>\n",
              "    </tr>\n",
              "    <tr>\n",
              "      <th>3154</th>\n",
              "      <td>Diamond-Rush</td>\n",
              "      <td>0.000000</td>\n",
              "    </tr>\n",
              "    <tr>\n",
              "      <th>17006</th>\n",
              "      <td>The Three Kingdoms :Bomb</td>\n",
              "      <td>0.000000</td>\n",
              "    </tr>\n",
              "  </tbody>\n",
              "</table>\n",
              "<p>17007 rows × 2 columns</p>\n",
              "</div>"
            ],
            "text/plain": [
              "                                                    Name  luxe_score\n",
              "1378                                      Clash of Clans   53.053395\n",
              "2634                           Finabase: realtime stocks   48.617825\n",
              "16085                        Arcane Pets: Plushie Empire   43.332977\n",
              "8946                                   War Planet Online   41.027593\n",
              "1683                 War of Nations\\u2122 - PVP Strategy   38.865776\n",
              "...                                                  ...         ...\n",
              "9391   Super block 10x10 puzzle games for kids dots &...    0.000000\n",
              "1327                                         Shoot Apple    0.000000\n",
              "9393                                         Strike Boom    0.000000\n",
              "3154                                        Diamond-Rush    0.000000\n",
              "17006                           The Three Kingdoms :Bomb    0.000000\n",
              "\n",
              "[17007 rows x 2 columns]"
            ]
          },
          "metadata": {
            "tags": []
          },
          "execution_count": 96
        }
      ]
    },
    {
      "cell_type": "code",
      "metadata": {
        "id": "GG-640sL13zk",
        "colab": {
          "base_uri": "https://localhost:8080/",
          "height": 35
        },
        "outputId": "35e6436e-6971-47ef-b67b-21ad595ca5e7"
      },
      "source": [
        "PATH_FILE"
      ],
      "execution_count": null,
      "outputs": [
        {
          "output_type": "execute_result",
          "data": {
            "text/plain": [
              "'/content/drive/My Drive/Pandas รอบที่ 6/17k-apple-app-store-strategy-games.zip'"
            ]
          },
          "metadata": {
            "tags": []
          },
          "execution_count": 97
        }
      ]
    },
    {
      "cell_type": "code",
      "metadata": {
        "id": "KXSeA_cb1eeP"
      },
      "source": [
        "df_leads.to_csv('/content/drive/My Drive/Pandas รอบที่ 6/leads.csv')"
      ],
      "execution_count": null,
      "outputs": []
    },
    {
      "cell_type": "markdown",
      "metadata": {
        "id": "qc42UVyQ2eWm"
      },
      "source": [
        "# Insight เพิ่มเติม"
      ]
    },
    {
      "cell_type": "code",
      "metadata": {
        "id": "5nkhoP892cKH",
        "colab": {
          "base_uri": "https://localhost:8080/",
          "height": 121
        },
        "outputId": "094644c7-a4fc-4e73-8c54-12dc4926127e"
      },
      "source": [
        "df_join.columns"
      ],
      "execution_count": null,
      "outputs": [
        {
          "output_type": "execute_result",
          "data": {
            "text/plain": [
              "Index(['URL', 'ID', 'Name', 'Subtitle', 'Icon URL', 'Average User Rating',\n",
              "       'User Rating Count', 'Price', 'In-app Purchases', 'Description',\n",
              "       'Developer', 'Age Rating', 'Languages', 'Size', 'Primary Genre',\n",
              "       'Genres', 'Original Release Date', 'Current Version Release Date',\n",
              "       'Price_tax', 'luxe_score'],\n",
              "      dtype='object')"
            ]
          },
          "metadata": {
            "tags": []
          },
          "execution_count": 99
        }
      ]
    },
    {
      "cell_type": "code",
      "metadata": {
        "id": "usIhYshK2cH1",
        "colab": {
          "base_uri": "https://localhost:8080/",
          "height": 202
        },
        "outputId": "2b188edc-423c-49f0-fc6b-8d1b7ebe7a9e"
      },
      "source": [
        "df_join[[\"Name\", \"Genres\"]][:5]"
      ],
      "execution_count": null,
      "outputs": [
        {
          "output_type": "execute_result",
          "data": {
            "text/html": [
              "<div>\n",
              "<style scoped>\n",
              "    .dataframe tbody tr th:only-of-type {\n",
              "        vertical-align: middle;\n",
              "    }\n",
              "\n",
              "    .dataframe tbody tr th {\n",
              "        vertical-align: top;\n",
              "    }\n",
              "\n",
              "    .dataframe thead th {\n",
              "        text-align: right;\n",
              "    }\n",
              "</style>\n",
              "<table border=\"1\" class=\"dataframe\">\n",
              "  <thead>\n",
              "    <tr style=\"text-align: right;\">\n",
              "      <th></th>\n",
              "      <th>Name</th>\n",
              "      <th>Genres</th>\n",
              "    </tr>\n",
              "  </thead>\n",
              "  <tbody>\n",
              "    <tr>\n",
              "      <th>0</th>\n",
              "      <td>Sudoku</td>\n",
              "      <td>Games, Strategy, Puzzle</td>\n",
              "    </tr>\n",
              "    <tr>\n",
              "      <th>1</th>\n",
              "      <td>Reversi</td>\n",
              "      <td>Games, Strategy, Board</td>\n",
              "    </tr>\n",
              "    <tr>\n",
              "      <th>2</th>\n",
              "      <td>Morocco</td>\n",
              "      <td>Games, Board, Strategy</td>\n",
              "    </tr>\n",
              "    <tr>\n",
              "      <th>3</th>\n",
              "      <td>Sudoku (Free)</td>\n",
              "      <td>Games, Strategy, Puzzle</td>\n",
              "    </tr>\n",
              "    <tr>\n",
              "      <th>4</th>\n",
              "      <td>Senet Deluxe</td>\n",
              "      <td>Games, Strategy, Board, Education</td>\n",
              "    </tr>\n",
              "  </tbody>\n",
              "</table>\n",
              "</div>"
            ],
            "text/plain": [
              "            Name                             Genres\n",
              "0         Sudoku            Games, Strategy, Puzzle\n",
              "1        Reversi             Games, Strategy, Board\n",
              "2        Morocco             Games, Board, Strategy\n",
              "3  Sudoku (Free)            Games, Strategy, Puzzle\n",
              "4   Senet Deluxe  Games, Strategy, Board, Education"
            ]
          },
          "metadata": {
            "tags": []
          },
          "execution_count": 101
        }
      ]
    },
    {
      "cell_type": "code",
      "metadata": {
        "id": "PSClosMU2cFg"
      },
      "source": [
        "genre_ls = df_join[\"Genres\"].tolist()"
      ],
      "execution_count": null,
      "outputs": []
    },
    {
      "cell_type": "code",
      "metadata": {
        "id": "1DsTRwui2cDq",
        "colab": {
          "base_uri": "https://localhost:8080/",
          "height": 104
        },
        "outputId": "db9b2d7f-7a67-404c-cad4-fb69b4b5ba44"
      },
      "source": [
        "genre_ls[:5]"
      ],
      "execution_count": null,
      "outputs": [
        {
          "output_type": "execute_result",
          "data": {
            "text/plain": [
              "['Games, Strategy, Puzzle',\n",
              " 'Games, Strategy, Board',\n",
              " 'Games, Board, Strategy',\n",
              " 'Games, Strategy, Puzzle',\n",
              " 'Games, Strategy, Board, Education']"
            ]
          },
          "metadata": {
            "tags": []
          },
          "execution_count": 103
        }
      ]
    },
    {
      "cell_type": "code",
      "metadata": {
        "id": "Ty0RxIxZ4RwL",
        "colab": {
          "base_uri": "https://localhost:8080/",
          "height": 35
        },
        "outputId": "1904554e-6b5f-449a-d366-0dc543077906"
      },
      "source": [
        "'Games, Strategy, Puzzle'.split(\", \")"
      ],
      "execution_count": null,
      "outputs": [
        {
          "output_type": "execute_result",
          "data": {
            "text/plain": [
              "['Games', 'Strategy', 'Puzzle']"
            ]
          },
          "metadata": {
            "tags": []
          },
          "execution_count": 104
        }
      ]
    },
    {
      "cell_type": "code",
      "metadata": {
        "id": "6zbUZcGt2cBY"
      },
      "source": [
        "all_genre_ls = []\n",
        "for genre in genre_ls:\n",
        "   list_of_genre = genre.split(\", \")\n",
        "   for each_genre in list_of_genre:\n",
        "       all_genre_ls.append(each_genre)"
      ],
      "execution_count": null,
      "outputs": []
    },
    {
      "cell_type": "code",
      "metadata": {
        "id": "5sToTKKp2b_l",
        "colab": {
          "base_uri": "https://localhost:8080/",
          "height": 35
        },
        "outputId": "33d59625-7d7d-4de9-9d13-adf980bf86d2"
      },
      "source": [
        "all_genre_ls[:4]"
      ],
      "execution_count": null,
      "outputs": [
        {
          "output_type": "execute_result",
          "data": {
            "text/plain": [
              "['Games', 'Strategy', 'Puzzle', 'Games']"
            ]
          },
          "metadata": {
            "tags": []
          },
          "execution_count": 106
        }
      ]
    },
    {
      "cell_type": "code",
      "metadata": {
        "id": "_upT1WhJ2b9Z",
        "colab": {
          "base_uri": "https://localhost:8080/",
          "height": 35
        },
        "outputId": "9613fe82-e980-4bd8-e7f8-e922070b344c"
      },
      "source": [
        "len(all_genre_ls)"
      ],
      "execution_count": null,
      "outputs": [
        {
          "output_type": "execute_result",
          "data": {
            "text/plain": [
              "60520"
            ]
          },
          "metadata": {
            "tags": []
          },
          "execution_count": 107
        }
      ]
    },
    {
      "cell_type": "code",
      "metadata": {
        "id": "GIusZihE2b6m",
        "colab": {
          "base_uri": "https://localhost:8080/",
          "height": 35
        },
        "outputId": "34b13dff-ef8a-4fe4-9380-91bd82475ba4"
      },
      "source": [
        "len(set(all_genre_ls))"
      ],
      "execution_count": null,
      "outputs": [
        {
          "output_type": "execute_result",
          "data": {
            "text/plain": [
              "47"
            ]
          },
          "metadata": {
            "tags": []
          },
          "execution_count": 109
        }
      ]
    },
    {
      "cell_type": "markdown",
      "metadata": {
        "id": "lvLr5D_v6Coh"
      },
      "source": [
        "## Dummies, One Hot Encoding"
      ]
    },
    {
      "cell_type": "markdown",
      "metadata": {
        "id": "uPlxmPPS636I"
      },
      "source": [
        "#### str.split()"
      ]
    },
    {
      "cell_type": "code",
      "metadata": {
        "id": "houT8udD6TSK",
        "colab": {
          "base_uri": "https://localhost:8080/",
          "height": 415
        },
        "outputId": "ca1e6aaf-6597-4519-9321-39a066cf0275"
      },
      "source": [
        "df_join[\"Genres\"].str.split(\", \", expand=True)"
      ],
      "execution_count": null,
      "outputs": [
        {
          "output_type": "execute_result",
          "data": {
            "text/html": [
              "<div>\n",
              "<style scoped>\n",
              "    .dataframe tbody tr th:only-of-type {\n",
              "        vertical-align: middle;\n",
              "    }\n",
              "\n",
              "    .dataframe tbody tr th {\n",
              "        vertical-align: top;\n",
              "    }\n",
              "\n",
              "    .dataframe thead th {\n",
              "        text-align: right;\n",
              "    }\n",
              "</style>\n",
              "<table border=\"1\" class=\"dataframe\">\n",
              "  <thead>\n",
              "    <tr style=\"text-align: right;\">\n",
              "      <th></th>\n",
              "      <th>0</th>\n",
              "      <th>1</th>\n",
              "      <th>2</th>\n",
              "      <th>3</th>\n",
              "      <th>4</th>\n",
              "      <th>5</th>\n",
              "    </tr>\n",
              "  </thead>\n",
              "  <tbody>\n",
              "    <tr>\n",
              "      <th>0</th>\n",
              "      <td>Games</td>\n",
              "      <td>Strategy</td>\n",
              "      <td>Puzzle</td>\n",
              "      <td>None</td>\n",
              "      <td>None</td>\n",
              "      <td>None</td>\n",
              "    </tr>\n",
              "    <tr>\n",
              "      <th>1</th>\n",
              "      <td>Games</td>\n",
              "      <td>Strategy</td>\n",
              "      <td>Board</td>\n",
              "      <td>None</td>\n",
              "      <td>None</td>\n",
              "      <td>None</td>\n",
              "    </tr>\n",
              "    <tr>\n",
              "      <th>2</th>\n",
              "      <td>Games</td>\n",
              "      <td>Board</td>\n",
              "      <td>Strategy</td>\n",
              "      <td>None</td>\n",
              "      <td>None</td>\n",
              "      <td>None</td>\n",
              "    </tr>\n",
              "    <tr>\n",
              "      <th>3</th>\n",
              "      <td>Games</td>\n",
              "      <td>Strategy</td>\n",
              "      <td>Puzzle</td>\n",
              "      <td>None</td>\n",
              "      <td>None</td>\n",
              "      <td>None</td>\n",
              "    </tr>\n",
              "    <tr>\n",
              "      <th>4</th>\n",
              "      <td>Games</td>\n",
              "      <td>Strategy</td>\n",
              "      <td>Board</td>\n",
              "      <td>Education</td>\n",
              "      <td>None</td>\n",
              "      <td>None</td>\n",
              "    </tr>\n",
              "    <tr>\n",
              "      <th>...</th>\n",
              "      <td>...</td>\n",
              "      <td>...</td>\n",
              "      <td>...</td>\n",
              "      <td>...</td>\n",
              "      <td>...</td>\n",
              "      <td>...</td>\n",
              "    </tr>\n",
              "    <tr>\n",
              "      <th>17002</th>\n",
              "      <td>Games</td>\n",
              "      <td>Entertainment</td>\n",
              "      <td>Casual</td>\n",
              "      <td>Strategy</td>\n",
              "      <td>None</td>\n",
              "      <td>None</td>\n",
              "    </tr>\n",
              "    <tr>\n",
              "      <th>17003</th>\n",
              "      <td>Games</td>\n",
              "      <td>Family</td>\n",
              "      <td>Strategy</td>\n",
              "      <td>None</td>\n",
              "      <td>None</td>\n",
              "      <td>None</td>\n",
              "    </tr>\n",
              "    <tr>\n",
              "      <th>17004</th>\n",
              "      <td>Games</td>\n",
              "      <td>Strategy</td>\n",
              "      <td>None</td>\n",
              "      <td>None</td>\n",
              "      <td>None</td>\n",
              "      <td>None</td>\n",
              "    </tr>\n",
              "    <tr>\n",
              "      <th>17005</th>\n",
              "      <td>Games</td>\n",
              "      <td>Strategy</td>\n",
              "      <td>Action</td>\n",
              "      <td>None</td>\n",
              "      <td>None</td>\n",
              "      <td>None</td>\n",
              "    </tr>\n",
              "    <tr>\n",
              "      <th>17006</th>\n",
              "      <td>Games</td>\n",
              "      <td>Strategy</td>\n",
              "      <td>Puzzle</td>\n",
              "      <td>None</td>\n",
              "      <td>None</td>\n",
              "      <td>None</td>\n",
              "    </tr>\n",
              "  </tbody>\n",
              "</table>\n",
              "<p>17007 rows × 6 columns</p>\n",
              "</div>"
            ],
            "text/plain": [
              "           0              1         2          3     4     5\n",
              "0      Games       Strategy    Puzzle       None  None  None\n",
              "1      Games       Strategy     Board       None  None  None\n",
              "2      Games          Board  Strategy       None  None  None\n",
              "3      Games       Strategy    Puzzle       None  None  None\n",
              "4      Games       Strategy     Board  Education  None  None\n",
              "...      ...            ...       ...        ...   ...   ...\n",
              "17002  Games  Entertainment    Casual   Strategy  None  None\n",
              "17003  Games         Family  Strategy       None  None  None\n",
              "17004  Games       Strategy      None       None  None  None\n",
              "17005  Games       Strategy    Action       None  None  None\n",
              "17006  Games       Strategy    Puzzle       None  None  None\n",
              "\n",
              "[17007 rows x 6 columns]"
            ]
          },
          "metadata": {
            "tags": []
          },
          "execution_count": 113
        }
      ]
    },
    {
      "cell_type": "code",
      "metadata": {
        "id": "0ZuvyjW367LF",
        "colab": {
          "base_uri": "https://localhost:8080/",
          "height": 225
        },
        "outputId": "b37f9092-0ad0-4338-bcf1-c41ca1f12f71"
      },
      "source": [
        "df_join[\"Genres\"].str.split(\", \", expand=True).stack()"
      ],
      "execution_count": null,
      "outputs": [
        {
          "output_type": "execute_result",
          "data": {
            "text/plain": [
              "0      0       Games\n",
              "       1    Strategy\n",
              "       2      Puzzle\n",
              "1      0       Games\n",
              "       1    Strategy\n",
              "              ...   \n",
              "17005  1    Strategy\n",
              "       2      Action\n",
              "17006  0       Games\n",
              "       1    Strategy\n",
              "       2      Puzzle\n",
              "Length: 60520, dtype: object"
            ]
          },
          "metadata": {
            "tags": []
          },
          "execution_count": 114
        }
      ]
    },
    {
      "cell_type": "code",
      "metadata": {
        "id": "tCpUPaAo68Ur",
        "colab": {
          "base_uri": "https://localhost:8080/",
          "height": 470
        },
        "outputId": "9b3d9da9-1b01-4b57-8457-9325ca9c6b26"
      },
      "source": [
        "df_join[\"Genres\"].str.split(\", \", expand=True).stack().str.get_dummies()"
      ],
      "execution_count": null,
      "outputs": [
        {
          "output_type": "execute_result",
          "data": {
            "text/html": [
              "<div>\n",
              "<style scoped>\n",
              "    .dataframe tbody tr th:only-of-type {\n",
              "        vertical-align: middle;\n",
              "    }\n",
              "\n",
              "    .dataframe tbody tr th {\n",
              "        vertical-align: top;\n",
              "    }\n",
              "\n",
              "    .dataframe thead th {\n",
              "        text-align: right;\n",
              "    }\n",
              "</style>\n",
              "<table border=\"1\" class=\"dataframe\">\n",
              "  <thead>\n",
              "    <tr style=\"text-align: right;\">\n",
              "      <th></th>\n",
              "      <th></th>\n",
              "      <th>Action</th>\n",
              "      <th>Adventure</th>\n",
              "      <th>Animals &amp; Nature</th>\n",
              "      <th>Art</th>\n",
              "      <th>Board</th>\n",
              "      <th>Books</th>\n",
              "      <th>Business</th>\n",
              "      <th>Card</th>\n",
              "      <th>Casino</th>\n",
              "      <th>Casual</th>\n",
              "      <th>Comics &amp; Cartoons</th>\n",
              "      <th>Education</th>\n",
              "      <th>Emoji &amp; Expressions</th>\n",
              "      <th>Entertainment</th>\n",
              "      <th>Family</th>\n",
              "      <th>Finance</th>\n",
              "      <th>Food &amp; Drink</th>\n",
              "      <th>Games</th>\n",
              "      <th>Gaming</th>\n",
              "      <th>Health &amp; Fitness</th>\n",
              "      <th>Kids &amp; Family</th>\n",
              "      <th>Lifestyle</th>\n",
              "      <th>Magazines &amp; Newspapers</th>\n",
              "      <th>Medical</th>\n",
              "      <th>Music</th>\n",
              "      <th>Navigation</th>\n",
              "      <th>News</th>\n",
              "      <th>People</th>\n",
              "      <th>Photo &amp; Video</th>\n",
              "      <th>Places &amp; Objects</th>\n",
              "      <th>Productivity</th>\n",
              "      <th>Puzzle</th>\n",
              "      <th>Racing</th>\n",
              "      <th>Reference</th>\n",
              "      <th>Role Playing</th>\n",
              "      <th>Shopping</th>\n",
              "      <th>Simulation</th>\n",
              "      <th>Social Networking</th>\n",
              "      <th>Sports</th>\n",
              "      <th>Sports &amp; Activities</th>\n",
              "      <th>Stickers</th>\n",
              "      <th>Strategy</th>\n",
              "      <th>Travel</th>\n",
              "      <th>Trivia</th>\n",
              "      <th>Utilities</th>\n",
              "      <th>Weather</th>\n",
              "      <th>Word</th>\n",
              "    </tr>\n",
              "  </thead>\n",
              "  <tbody>\n",
              "    <tr>\n",
              "      <th rowspan=\"3\" valign=\"top\">0</th>\n",
              "      <th>0</th>\n",
              "      <td>0</td>\n",
              "      <td>0</td>\n",
              "      <td>0</td>\n",
              "      <td>0</td>\n",
              "      <td>0</td>\n",
              "      <td>0</td>\n",
              "      <td>0</td>\n",
              "      <td>0</td>\n",
              "      <td>0</td>\n",
              "      <td>0</td>\n",
              "      <td>0</td>\n",
              "      <td>0</td>\n",
              "      <td>0</td>\n",
              "      <td>0</td>\n",
              "      <td>0</td>\n",
              "      <td>0</td>\n",
              "      <td>0</td>\n",
              "      <td>1</td>\n",
              "      <td>0</td>\n",
              "      <td>0</td>\n",
              "      <td>0</td>\n",
              "      <td>0</td>\n",
              "      <td>0</td>\n",
              "      <td>0</td>\n",
              "      <td>0</td>\n",
              "      <td>0</td>\n",
              "      <td>0</td>\n",
              "      <td>0</td>\n",
              "      <td>0</td>\n",
              "      <td>0</td>\n",
              "      <td>0</td>\n",
              "      <td>0</td>\n",
              "      <td>0</td>\n",
              "      <td>0</td>\n",
              "      <td>0</td>\n",
              "      <td>0</td>\n",
              "      <td>0</td>\n",
              "      <td>0</td>\n",
              "      <td>0</td>\n",
              "      <td>0</td>\n",
              "      <td>0</td>\n",
              "      <td>0</td>\n",
              "      <td>0</td>\n",
              "      <td>0</td>\n",
              "      <td>0</td>\n",
              "      <td>0</td>\n",
              "      <td>0</td>\n",
              "    </tr>\n",
              "    <tr>\n",
              "      <th>1</th>\n",
              "      <td>0</td>\n",
              "      <td>0</td>\n",
              "      <td>0</td>\n",
              "      <td>0</td>\n",
              "      <td>0</td>\n",
              "      <td>0</td>\n",
              "      <td>0</td>\n",
              "      <td>0</td>\n",
              "      <td>0</td>\n",
              "      <td>0</td>\n",
              "      <td>0</td>\n",
              "      <td>0</td>\n",
              "      <td>0</td>\n",
              "      <td>0</td>\n",
              "      <td>0</td>\n",
              "      <td>0</td>\n",
              "      <td>0</td>\n",
              "      <td>0</td>\n",
              "      <td>0</td>\n",
              "      <td>0</td>\n",
              "      <td>0</td>\n",
              "      <td>0</td>\n",
              "      <td>0</td>\n",
              "      <td>0</td>\n",
              "      <td>0</td>\n",
              "      <td>0</td>\n",
              "      <td>0</td>\n",
              "      <td>0</td>\n",
              "      <td>0</td>\n",
              "      <td>0</td>\n",
              "      <td>0</td>\n",
              "      <td>0</td>\n",
              "      <td>0</td>\n",
              "      <td>0</td>\n",
              "      <td>0</td>\n",
              "      <td>0</td>\n",
              "      <td>0</td>\n",
              "      <td>0</td>\n",
              "      <td>0</td>\n",
              "      <td>0</td>\n",
              "      <td>0</td>\n",
              "      <td>1</td>\n",
              "      <td>0</td>\n",
              "      <td>0</td>\n",
              "      <td>0</td>\n",
              "      <td>0</td>\n",
              "      <td>0</td>\n",
              "    </tr>\n",
              "    <tr>\n",
              "      <th>2</th>\n",
              "      <td>0</td>\n",
              "      <td>0</td>\n",
              "      <td>0</td>\n",
              "      <td>0</td>\n",
              "      <td>0</td>\n",
              "      <td>0</td>\n",
              "      <td>0</td>\n",
              "      <td>0</td>\n",
              "      <td>0</td>\n",
              "      <td>0</td>\n",
              "      <td>0</td>\n",
              "      <td>0</td>\n",
              "      <td>0</td>\n",
              "      <td>0</td>\n",
              "      <td>0</td>\n",
              "      <td>0</td>\n",
              "      <td>0</td>\n",
              "      <td>0</td>\n",
              "      <td>0</td>\n",
              "      <td>0</td>\n",
              "      <td>0</td>\n",
              "      <td>0</td>\n",
              "      <td>0</td>\n",
              "      <td>0</td>\n",
              "      <td>0</td>\n",
              "      <td>0</td>\n",
              "      <td>0</td>\n",
              "      <td>0</td>\n",
              "      <td>0</td>\n",
              "      <td>0</td>\n",
              "      <td>0</td>\n",
              "      <td>1</td>\n",
              "      <td>0</td>\n",
              "      <td>0</td>\n",
              "      <td>0</td>\n",
              "      <td>0</td>\n",
              "      <td>0</td>\n",
              "      <td>0</td>\n",
              "      <td>0</td>\n",
              "      <td>0</td>\n",
              "      <td>0</td>\n",
              "      <td>0</td>\n",
              "      <td>0</td>\n",
              "      <td>0</td>\n",
              "      <td>0</td>\n",
              "      <td>0</td>\n",
              "      <td>0</td>\n",
              "    </tr>\n",
              "    <tr>\n",
              "      <th rowspan=\"2\" valign=\"top\">1</th>\n",
              "      <th>0</th>\n",
              "      <td>0</td>\n",
              "      <td>0</td>\n",
              "      <td>0</td>\n",
              "      <td>0</td>\n",
              "      <td>0</td>\n",
              "      <td>0</td>\n",
              "      <td>0</td>\n",
              "      <td>0</td>\n",
              "      <td>0</td>\n",
              "      <td>0</td>\n",
              "      <td>0</td>\n",
              "      <td>0</td>\n",
              "      <td>0</td>\n",
              "      <td>0</td>\n",
              "      <td>0</td>\n",
              "      <td>0</td>\n",
              "      <td>0</td>\n",
              "      <td>1</td>\n",
              "      <td>0</td>\n",
              "      <td>0</td>\n",
              "      <td>0</td>\n",
              "      <td>0</td>\n",
              "      <td>0</td>\n",
              "      <td>0</td>\n",
              "      <td>0</td>\n",
              "      <td>0</td>\n",
              "      <td>0</td>\n",
              "      <td>0</td>\n",
              "      <td>0</td>\n",
              "      <td>0</td>\n",
              "      <td>0</td>\n",
              "      <td>0</td>\n",
              "      <td>0</td>\n",
              "      <td>0</td>\n",
              "      <td>0</td>\n",
              "      <td>0</td>\n",
              "      <td>0</td>\n",
              "      <td>0</td>\n",
              "      <td>0</td>\n",
              "      <td>0</td>\n",
              "      <td>0</td>\n",
              "      <td>0</td>\n",
              "      <td>0</td>\n",
              "      <td>0</td>\n",
              "      <td>0</td>\n",
              "      <td>0</td>\n",
              "      <td>0</td>\n",
              "    </tr>\n",
              "    <tr>\n",
              "      <th>1</th>\n",
              "      <td>0</td>\n",
              "      <td>0</td>\n",
              "      <td>0</td>\n",
              "      <td>0</td>\n",
              "      <td>0</td>\n",
              "      <td>0</td>\n",
              "      <td>0</td>\n",
              "      <td>0</td>\n",
              "      <td>0</td>\n",
              "      <td>0</td>\n",
              "      <td>0</td>\n",
              "      <td>0</td>\n",
              "      <td>0</td>\n",
              "      <td>0</td>\n",
              "      <td>0</td>\n",
              "      <td>0</td>\n",
              "      <td>0</td>\n",
              "      <td>0</td>\n",
              "      <td>0</td>\n",
              "      <td>0</td>\n",
              "      <td>0</td>\n",
              "      <td>0</td>\n",
              "      <td>0</td>\n",
              "      <td>0</td>\n",
              "      <td>0</td>\n",
              "      <td>0</td>\n",
              "      <td>0</td>\n",
              "      <td>0</td>\n",
              "      <td>0</td>\n",
              "      <td>0</td>\n",
              "      <td>0</td>\n",
              "      <td>0</td>\n",
              "      <td>0</td>\n",
              "      <td>0</td>\n",
              "      <td>0</td>\n",
              "      <td>0</td>\n",
              "      <td>0</td>\n",
              "      <td>0</td>\n",
              "      <td>0</td>\n",
              "      <td>0</td>\n",
              "      <td>0</td>\n",
              "      <td>1</td>\n",
              "      <td>0</td>\n",
              "      <td>0</td>\n",
              "      <td>0</td>\n",
              "      <td>0</td>\n",
              "      <td>0</td>\n",
              "    </tr>\n",
              "    <tr>\n",
              "      <th>...</th>\n",
              "      <th>...</th>\n",
              "      <td>...</td>\n",
              "      <td>...</td>\n",
              "      <td>...</td>\n",
              "      <td>...</td>\n",
              "      <td>...</td>\n",
              "      <td>...</td>\n",
              "      <td>...</td>\n",
              "      <td>...</td>\n",
              "      <td>...</td>\n",
              "      <td>...</td>\n",
              "      <td>...</td>\n",
              "      <td>...</td>\n",
              "      <td>...</td>\n",
              "      <td>...</td>\n",
              "      <td>...</td>\n",
              "      <td>...</td>\n",
              "      <td>...</td>\n",
              "      <td>...</td>\n",
              "      <td>...</td>\n",
              "      <td>...</td>\n",
              "      <td>...</td>\n",
              "      <td>...</td>\n",
              "      <td>...</td>\n",
              "      <td>...</td>\n",
              "      <td>...</td>\n",
              "      <td>...</td>\n",
              "      <td>...</td>\n",
              "      <td>...</td>\n",
              "      <td>...</td>\n",
              "      <td>...</td>\n",
              "      <td>...</td>\n",
              "      <td>...</td>\n",
              "      <td>...</td>\n",
              "      <td>...</td>\n",
              "      <td>...</td>\n",
              "      <td>...</td>\n",
              "      <td>...</td>\n",
              "      <td>...</td>\n",
              "      <td>...</td>\n",
              "      <td>...</td>\n",
              "      <td>...</td>\n",
              "      <td>...</td>\n",
              "      <td>...</td>\n",
              "      <td>...</td>\n",
              "      <td>...</td>\n",
              "      <td>...</td>\n",
              "      <td>...</td>\n",
              "    </tr>\n",
              "    <tr>\n",
              "      <th rowspan=\"2\" valign=\"top\">17005</th>\n",
              "      <th>1</th>\n",
              "      <td>0</td>\n",
              "      <td>0</td>\n",
              "      <td>0</td>\n",
              "      <td>0</td>\n",
              "      <td>0</td>\n",
              "      <td>0</td>\n",
              "      <td>0</td>\n",
              "      <td>0</td>\n",
              "      <td>0</td>\n",
              "      <td>0</td>\n",
              "      <td>0</td>\n",
              "      <td>0</td>\n",
              "      <td>0</td>\n",
              "      <td>0</td>\n",
              "      <td>0</td>\n",
              "      <td>0</td>\n",
              "      <td>0</td>\n",
              "      <td>0</td>\n",
              "      <td>0</td>\n",
              "      <td>0</td>\n",
              "      <td>0</td>\n",
              "      <td>0</td>\n",
              "      <td>0</td>\n",
              "      <td>0</td>\n",
              "      <td>0</td>\n",
              "      <td>0</td>\n",
              "      <td>0</td>\n",
              "      <td>0</td>\n",
              "      <td>0</td>\n",
              "      <td>0</td>\n",
              "      <td>0</td>\n",
              "      <td>0</td>\n",
              "      <td>0</td>\n",
              "      <td>0</td>\n",
              "      <td>0</td>\n",
              "      <td>0</td>\n",
              "      <td>0</td>\n",
              "      <td>0</td>\n",
              "      <td>0</td>\n",
              "      <td>0</td>\n",
              "      <td>0</td>\n",
              "      <td>1</td>\n",
              "      <td>0</td>\n",
              "      <td>0</td>\n",
              "      <td>0</td>\n",
              "      <td>0</td>\n",
              "      <td>0</td>\n",
              "    </tr>\n",
              "    <tr>\n",
              "      <th>2</th>\n",
              "      <td>1</td>\n",
              "      <td>0</td>\n",
              "      <td>0</td>\n",
              "      <td>0</td>\n",
              "      <td>0</td>\n",
              "      <td>0</td>\n",
              "      <td>0</td>\n",
              "      <td>0</td>\n",
              "      <td>0</td>\n",
              "      <td>0</td>\n",
              "      <td>0</td>\n",
              "      <td>0</td>\n",
              "      <td>0</td>\n",
              "      <td>0</td>\n",
              "      <td>0</td>\n",
              "      <td>0</td>\n",
              "      <td>0</td>\n",
              "      <td>0</td>\n",
              "      <td>0</td>\n",
              "      <td>0</td>\n",
              "      <td>0</td>\n",
              "      <td>0</td>\n",
              "      <td>0</td>\n",
              "      <td>0</td>\n",
              "      <td>0</td>\n",
              "      <td>0</td>\n",
              "      <td>0</td>\n",
              "      <td>0</td>\n",
              "      <td>0</td>\n",
              "      <td>0</td>\n",
              "      <td>0</td>\n",
              "      <td>0</td>\n",
              "      <td>0</td>\n",
              "      <td>0</td>\n",
              "      <td>0</td>\n",
              "      <td>0</td>\n",
              "      <td>0</td>\n",
              "      <td>0</td>\n",
              "      <td>0</td>\n",
              "      <td>0</td>\n",
              "      <td>0</td>\n",
              "      <td>0</td>\n",
              "      <td>0</td>\n",
              "      <td>0</td>\n",
              "      <td>0</td>\n",
              "      <td>0</td>\n",
              "      <td>0</td>\n",
              "    </tr>\n",
              "    <tr>\n",
              "      <th rowspan=\"3\" valign=\"top\">17006</th>\n",
              "      <th>0</th>\n",
              "      <td>0</td>\n",
              "      <td>0</td>\n",
              "      <td>0</td>\n",
              "      <td>0</td>\n",
              "      <td>0</td>\n",
              "      <td>0</td>\n",
              "      <td>0</td>\n",
              "      <td>0</td>\n",
              "      <td>0</td>\n",
              "      <td>0</td>\n",
              "      <td>0</td>\n",
              "      <td>0</td>\n",
              "      <td>0</td>\n",
              "      <td>0</td>\n",
              "      <td>0</td>\n",
              "      <td>0</td>\n",
              "      <td>0</td>\n",
              "      <td>1</td>\n",
              "      <td>0</td>\n",
              "      <td>0</td>\n",
              "      <td>0</td>\n",
              "      <td>0</td>\n",
              "      <td>0</td>\n",
              "      <td>0</td>\n",
              "      <td>0</td>\n",
              "      <td>0</td>\n",
              "      <td>0</td>\n",
              "      <td>0</td>\n",
              "      <td>0</td>\n",
              "      <td>0</td>\n",
              "      <td>0</td>\n",
              "      <td>0</td>\n",
              "      <td>0</td>\n",
              "      <td>0</td>\n",
              "      <td>0</td>\n",
              "      <td>0</td>\n",
              "      <td>0</td>\n",
              "      <td>0</td>\n",
              "      <td>0</td>\n",
              "      <td>0</td>\n",
              "      <td>0</td>\n",
              "      <td>0</td>\n",
              "      <td>0</td>\n",
              "      <td>0</td>\n",
              "      <td>0</td>\n",
              "      <td>0</td>\n",
              "      <td>0</td>\n",
              "    </tr>\n",
              "    <tr>\n",
              "      <th>1</th>\n",
              "      <td>0</td>\n",
              "      <td>0</td>\n",
              "      <td>0</td>\n",
              "      <td>0</td>\n",
              "      <td>0</td>\n",
              "      <td>0</td>\n",
              "      <td>0</td>\n",
              "      <td>0</td>\n",
              "      <td>0</td>\n",
              "      <td>0</td>\n",
              "      <td>0</td>\n",
              "      <td>0</td>\n",
              "      <td>0</td>\n",
              "      <td>0</td>\n",
              "      <td>0</td>\n",
              "      <td>0</td>\n",
              "      <td>0</td>\n",
              "      <td>0</td>\n",
              "      <td>0</td>\n",
              "      <td>0</td>\n",
              "      <td>0</td>\n",
              "      <td>0</td>\n",
              "      <td>0</td>\n",
              "      <td>0</td>\n",
              "      <td>0</td>\n",
              "      <td>0</td>\n",
              "      <td>0</td>\n",
              "      <td>0</td>\n",
              "      <td>0</td>\n",
              "      <td>0</td>\n",
              "      <td>0</td>\n",
              "      <td>0</td>\n",
              "      <td>0</td>\n",
              "      <td>0</td>\n",
              "      <td>0</td>\n",
              "      <td>0</td>\n",
              "      <td>0</td>\n",
              "      <td>0</td>\n",
              "      <td>0</td>\n",
              "      <td>0</td>\n",
              "      <td>0</td>\n",
              "      <td>1</td>\n",
              "      <td>0</td>\n",
              "      <td>0</td>\n",
              "      <td>0</td>\n",
              "      <td>0</td>\n",
              "      <td>0</td>\n",
              "    </tr>\n",
              "    <tr>\n",
              "      <th>2</th>\n",
              "      <td>0</td>\n",
              "      <td>0</td>\n",
              "      <td>0</td>\n",
              "      <td>0</td>\n",
              "      <td>0</td>\n",
              "      <td>0</td>\n",
              "      <td>0</td>\n",
              "      <td>0</td>\n",
              "      <td>0</td>\n",
              "      <td>0</td>\n",
              "      <td>0</td>\n",
              "      <td>0</td>\n",
              "      <td>0</td>\n",
              "      <td>0</td>\n",
              "      <td>0</td>\n",
              "      <td>0</td>\n",
              "      <td>0</td>\n",
              "      <td>0</td>\n",
              "      <td>0</td>\n",
              "      <td>0</td>\n",
              "      <td>0</td>\n",
              "      <td>0</td>\n",
              "      <td>0</td>\n",
              "      <td>0</td>\n",
              "      <td>0</td>\n",
              "      <td>0</td>\n",
              "      <td>0</td>\n",
              "      <td>0</td>\n",
              "      <td>0</td>\n",
              "      <td>0</td>\n",
              "      <td>0</td>\n",
              "      <td>1</td>\n",
              "      <td>0</td>\n",
              "      <td>0</td>\n",
              "      <td>0</td>\n",
              "      <td>0</td>\n",
              "      <td>0</td>\n",
              "      <td>0</td>\n",
              "      <td>0</td>\n",
              "      <td>0</td>\n",
              "      <td>0</td>\n",
              "      <td>0</td>\n",
              "      <td>0</td>\n",
              "      <td>0</td>\n",
              "      <td>0</td>\n",
              "      <td>0</td>\n",
              "      <td>0</td>\n",
              "    </tr>\n",
              "  </tbody>\n",
              "</table>\n",
              "<p>60520 rows × 47 columns</p>\n",
              "</div>"
            ],
            "text/plain": [
              "         Action  Adventure  Animals & Nature  ...  Utilities  Weather  Word\n",
              "0     0       0          0                 0  ...          0        0     0\n",
              "      1       0          0                 0  ...          0        0     0\n",
              "      2       0          0                 0  ...          0        0     0\n",
              "1     0       0          0                 0  ...          0        0     0\n",
              "      1       0          0                 0  ...          0        0     0\n",
              "...         ...        ...               ...  ...        ...      ...   ...\n",
              "17005 1       0          0                 0  ...          0        0     0\n",
              "      2       1          0                 0  ...          0        0     0\n",
              "17006 0       0          0                 0  ...          0        0     0\n",
              "      1       0          0                 0  ...          0        0     0\n",
              "      2       0          0                 0  ...          0        0     0\n",
              "\n",
              "[60520 rows x 47 columns]"
            ]
          },
          "metadata": {
            "tags": []
          },
          "execution_count": 115
        }
      ]
    },
    {
      "cell_type": "code",
      "metadata": {
        "id": "i8jTyAH868Nl"
      },
      "source": [
        "df_genres = df_join[\"Genres\"].str.split(\", \", expand=True).stack().str.get_dummies().sum(level=0)"
      ],
      "execution_count": null,
      "outputs": []
    },
    {
      "cell_type": "code",
      "metadata": {
        "id": "i4Z5RBot68Gl",
        "colab": {
          "base_uri": "https://localhost:8080/",
          "height": 257
        },
        "outputId": "ae94d883-a11f-45e4-f36d-1c5b621fb7fd"
      },
      "source": [
        "df_genres[:5]"
      ],
      "execution_count": null,
      "outputs": [
        {
          "output_type": "execute_result",
          "data": {
            "text/html": [
              "<div>\n",
              "<style scoped>\n",
              "    .dataframe tbody tr th:only-of-type {\n",
              "        vertical-align: middle;\n",
              "    }\n",
              "\n",
              "    .dataframe tbody tr th {\n",
              "        vertical-align: top;\n",
              "    }\n",
              "\n",
              "    .dataframe thead th {\n",
              "        text-align: right;\n",
              "    }\n",
              "</style>\n",
              "<table border=\"1\" class=\"dataframe\">\n",
              "  <thead>\n",
              "    <tr style=\"text-align: right;\">\n",
              "      <th></th>\n",
              "      <th>Action</th>\n",
              "      <th>Adventure</th>\n",
              "      <th>Animals &amp; Nature</th>\n",
              "      <th>Art</th>\n",
              "      <th>Board</th>\n",
              "      <th>Books</th>\n",
              "      <th>Business</th>\n",
              "      <th>Card</th>\n",
              "      <th>Casino</th>\n",
              "      <th>Casual</th>\n",
              "      <th>Comics &amp; Cartoons</th>\n",
              "      <th>Education</th>\n",
              "      <th>Emoji &amp; Expressions</th>\n",
              "      <th>Entertainment</th>\n",
              "      <th>Family</th>\n",
              "      <th>Finance</th>\n",
              "      <th>Food &amp; Drink</th>\n",
              "      <th>Games</th>\n",
              "      <th>Gaming</th>\n",
              "      <th>Health &amp; Fitness</th>\n",
              "      <th>Kids &amp; Family</th>\n",
              "      <th>Lifestyle</th>\n",
              "      <th>Magazines &amp; Newspapers</th>\n",
              "      <th>Medical</th>\n",
              "      <th>Music</th>\n",
              "      <th>Navigation</th>\n",
              "      <th>News</th>\n",
              "      <th>People</th>\n",
              "      <th>Photo &amp; Video</th>\n",
              "      <th>Places &amp; Objects</th>\n",
              "      <th>Productivity</th>\n",
              "      <th>Puzzle</th>\n",
              "      <th>Racing</th>\n",
              "      <th>Reference</th>\n",
              "      <th>Role Playing</th>\n",
              "      <th>Shopping</th>\n",
              "      <th>Simulation</th>\n",
              "      <th>Social Networking</th>\n",
              "      <th>Sports</th>\n",
              "      <th>Sports &amp; Activities</th>\n",
              "      <th>Stickers</th>\n",
              "      <th>Strategy</th>\n",
              "      <th>Travel</th>\n",
              "      <th>Trivia</th>\n",
              "      <th>Utilities</th>\n",
              "      <th>Weather</th>\n",
              "      <th>Word</th>\n",
              "    </tr>\n",
              "  </thead>\n",
              "  <tbody>\n",
              "    <tr>\n",
              "      <th>0</th>\n",
              "      <td>0</td>\n",
              "      <td>0</td>\n",
              "      <td>0</td>\n",
              "      <td>0</td>\n",
              "      <td>0</td>\n",
              "      <td>0</td>\n",
              "      <td>0</td>\n",
              "      <td>0</td>\n",
              "      <td>0</td>\n",
              "      <td>0</td>\n",
              "      <td>0</td>\n",
              "      <td>0</td>\n",
              "      <td>0</td>\n",
              "      <td>0</td>\n",
              "      <td>0</td>\n",
              "      <td>0</td>\n",
              "      <td>0</td>\n",
              "      <td>1</td>\n",
              "      <td>0</td>\n",
              "      <td>0</td>\n",
              "      <td>0</td>\n",
              "      <td>0</td>\n",
              "      <td>0</td>\n",
              "      <td>0</td>\n",
              "      <td>0</td>\n",
              "      <td>0</td>\n",
              "      <td>0</td>\n",
              "      <td>0</td>\n",
              "      <td>0</td>\n",
              "      <td>0</td>\n",
              "      <td>0</td>\n",
              "      <td>1</td>\n",
              "      <td>0</td>\n",
              "      <td>0</td>\n",
              "      <td>0</td>\n",
              "      <td>0</td>\n",
              "      <td>0</td>\n",
              "      <td>0</td>\n",
              "      <td>0</td>\n",
              "      <td>0</td>\n",
              "      <td>0</td>\n",
              "      <td>1</td>\n",
              "      <td>0</td>\n",
              "      <td>0</td>\n",
              "      <td>0</td>\n",
              "      <td>0</td>\n",
              "      <td>0</td>\n",
              "    </tr>\n",
              "    <tr>\n",
              "      <th>1</th>\n",
              "      <td>0</td>\n",
              "      <td>0</td>\n",
              "      <td>0</td>\n",
              "      <td>0</td>\n",
              "      <td>1</td>\n",
              "      <td>0</td>\n",
              "      <td>0</td>\n",
              "      <td>0</td>\n",
              "      <td>0</td>\n",
              "      <td>0</td>\n",
              "      <td>0</td>\n",
              "      <td>0</td>\n",
              "      <td>0</td>\n",
              "      <td>0</td>\n",
              "      <td>0</td>\n",
              "      <td>0</td>\n",
              "      <td>0</td>\n",
              "      <td>1</td>\n",
              "      <td>0</td>\n",
              "      <td>0</td>\n",
              "      <td>0</td>\n",
              "      <td>0</td>\n",
              "      <td>0</td>\n",
              "      <td>0</td>\n",
              "      <td>0</td>\n",
              "      <td>0</td>\n",
              "      <td>0</td>\n",
              "      <td>0</td>\n",
              "      <td>0</td>\n",
              "      <td>0</td>\n",
              "      <td>0</td>\n",
              "      <td>0</td>\n",
              "      <td>0</td>\n",
              "      <td>0</td>\n",
              "      <td>0</td>\n",
              "      <td>0</td>\n",
              "      <td>0</td>\n",
              "      <td>0</td>\n",
              "      <td>0</td>\n",
              "      <td>0</td>\n",
              "      <td>0</td>\n",
              "      <td>1</td>\n",
              "      <td>0</td>\n",
              "      <td>0</td>\n",
              "      <td>0</td>\n",
              "      <td>0</td>\n",
              "      <td>0</td>\n",
              "    </tr>\n",
              "    <tr>\n",
              "      <th>2</th>\n",
              "      <td>0</td>\n",
              "      <td>0</td>\n",
              "      <td>0</td>\n",
              "      <td>0</td>\n",
              "      <td>1</td>\n",
              "      <td>0</td>\n",
              "      <td>0</td>\n",
              "      <td>0</td>\n",
              "      <td>0</td>\n",
              "      <td>0</td>\n",
              "      <td>0</td>\n",
              "      <td>0</td>\n",
              "      <td>0</td>\n",
              "      <td>0</td>\n",
              "      <td>0</td>\n",
              "      <td>0</td>\n",
              "      <td>0</td>\n",
              "      <td>1</td>\n",
              "      <td>0</td>\n",
              "      <td>0</td>\n",
              "      <td>0</td>\n",
              "      <td>0</td>\n",
              "      <td>0</td>\n",
              "      <td>0</td>\n",
              "      <td>0</td>\n",
              "      <td>0</td>\n",
              "      <td>0</td>\n",
              "      <td>0</td>\n",
              "      <td>0</td>\n",
              "      <td>0</td>\n",
              "      <td>0</td>\n",
              "      <td>0</td>\n",
              "      <td>0</td>\n",
              "      <td>0</td>\n",
              "      <td>0</td>\n",
              "      <td>0</td>\n",
              "      <td>0</td>\n",
              "      <td>0</td>\n",
              "      <td>0</td>\n",
              "      <td>0</td>\n",
              "      <td>0</td>\n",
              "      <td>1</td>\n",
              "      <td>0</td>\n",
              "      <td>0</td>\n",
              "      <td>0</td>\n",
              "      <td>0</td>\n",
              "      <td>0</td>\n",
              "    </tr>\n",
              "    <tr>\n",
              "      <th>3</th>\n",
              "      <td>0</td>\n",
              "      <td>0</td>\n",
              "      <td>0</td>\n",
              "      <td>0</td>\n",
              "      <td>0</td>\n",
              "      <td>0</td>\n",
              "      <td>0</td>\n",
              "      <td>0</td>\n",
              "      <td>0</td>\n",
              "      <td>0</td>\n",
              "      <td>0</td>\n",
              "      <td>0</td>\n",
              "      <td>0</td>\n",
              "      <td>0</td>\n",
              "      <td>0</td>\n",
              "      <td>0</td>\n",
              "      <td>0</td>\n",
              "      <td>1</td>\n",
              "      <td>0</td>\n",
              "      <td>0</td>\n",
              "      <td>0</td>\n",
              "      <td>0</td>\n",
              "      <td>0</td>\n",
              "      <td>0</td>\n",
              "      <td>0</td>\n",
              "      <td>0</td>\n",
              "      <td>0</td>\n",
              "      <td>0</td>\n",
              "      <td>0</td>\n",
              "      <td>0</td>\n",
              "      <td>0</td>\n",
              "      <td>1</td>\n",
              "      <td>0</td>\n",
              "      <td>0</td>\n",
              "      <td>0</td>\n",
              "      <td>0</td>\n",
              "      <td>0</td>\n",
              "      <td>0</td>\n",
              "      <td>0</td>\n",
              "      <td>0</td>\n",
              "      <td>0</td>\n",
              "      <td>1</td>\n",
              "      <td>0</td>\n",
              "      <td>0</td>\n",
              "      <td>0</td>\n",
              "      <td>0</td>\n",
              "      <td>0</td>\n",
              "    </tr>\n",
              "    <tr>\n",
              "      <th>4</th>\n",
              "      <td>0</td>\n",
              "      <td>0</td>\n",
              "      <td>0</td>\n",
              "      <td>0</td>\n",
              "      <td>1</td>\n",
              "      <td>0</td>\n",
              "      <td>0</td>\n",
              "      <td>0</td>\n",
              "      <td>0</td>\n",
              "      <td>0</td>\n",
              "      <td>0</td>\n",
              "      <td>1</td>\n",
              "      <td>0</td>\n",
              "      <td>0</td>\n",
              "      <td>0</td>\n",
              "      <td>0</td>\n",
              "      <td>0</td>\n",
              "      <td>1</td>\n",
              "      <td>0</td>\n",
              "      <td>0</td>\n",
              "      <td>0</td>\n",
              "      <td>0</td>\n",
              "      <td>0</td>\n",
              "      <td>0</td>\n",
              "      <td>0</td>\n",
              "      <td>0</td>\n",
              "      <td>0</td>\n",
              "      <td>0</td>\n",
              "      <td>0</td>\n",
              "      <td>0</td>\n",
              "      <td>0</td>\n",
              "      <td>0</td>\n",
              "      <td>0</td>\n",
              "      <td>0</td>\n",
              "      <td>0</td>\n",
              "      <td>0</td>\n",
              "      <td>0</td>\n",
              "      <td>0</td>\n",
              "      <td>0</td>\n",
              "      <td>0</td>\n",
              "      <td>0</td>\n",
              "      <td>1</td>\n",
              "      <td>0</td>\n",
              "      <td>0</td>\n",
              "      <td>0</td>\n",
              "      <td>0</td>\n",
              "      <td>0</td>\n",
              "    </tr>\n",
              "  </tbody>\n",
              "</table>\n",
              "</div>"
            ],
            "text/plain": [
              "   Action  Adventure  Animals & Nature  Art  ...  Trivia  Utilities  Weather  Word\n",
              "0       0          0                 0    0  ...       0          0        0     0\n",
              "1       0          0                 0    0  ...       0          0        0     0\n",
              "2       0          0                 0    0  ...       0          0        0     0\n",
              "3       0          0                 0    0  ...       0          0        0     0\n",
              "4       0          0                 0    0  ...       0          0        0     0\n",
              "\n",
              "[5 rows x 47 columns]"
            ]
          },
          "metadata": {
            "tags": []
          },
          "execution_count": 118
        }
      ]
    },
    {
      "cell_type": "code",
      "metadata": {
        "id": "tS7EIDyO8A8p",
        "colab": {
          "base_uri": "https://localhost:8080/",
          "height": 832
        },
        "outputId": "03a276f8-a949-45b4-ed7e-f0822ef88133"
      },
      "source": [
        "col_genre = df_genres.columns.tolist()\n",
        "col_genre"
      ],
      "execution_count": null,
      "outputs": [
        {
          "output_type": "execute_result",
          "data": {
            "text/plain": [
              "['Action',\n",
              " 'Adventure',\n",
              " 'Animals & Nature',\n",
              " 'Art',\n",
              " 'Board',\n",
              " 'Books',\n",
              " 'Business',\n",
              " 'Card',\n",
              " 'Casino',\n",
              " 'Casual',\n",
              " 'Comics & Cartoons',\n",
              " 'Education',\n",
              " 'Emoji & Expressions',\n",
              " 'Entertainment',\n",
              " 'Family',\n",
              " 'Finance',\n",
              " 'Food & Drink',\n",
              " 'Games',\n",
              " 'Gaming',\n",
              " 'Health & Fitness',\n",
              " 'Kids & Family',\n",
              " 'Lifestyle',\n",
              " 'Magazines & Newspapers',\n",
              " 'Medical',\n",
              " 'Music',\n",
              " 'Navigation',\n",
              " 'News',\n",
              " 'People',\n",
              " 'Photo & Video',\n",
              " 'Places & Objects',\n",
              " 'Productivity',\n",
              " 'Puzzle',\n",
              " 'Racing',\n",
              " 'Reference',\n",
              " 'Role Playing',\n",
              " 'Shopping',\n",
              " 'Simulation',\n",
              " 'Social Networking',\n",
              " 'Sports',\n",
              " 'Sports & Activities',\n",
              " 'Stickers',\n",
              " 'Strategy',\n",
              " 'Travel',\n",
              " 'Trivia',\n",
              " 'Utilities',\n",
              " 'Weather',\n",
              " 'Word']"
            ]
          },
          "metadata": {
            "tags": []
          },
          "execution_count": 120
        }
      ]
    },
    {
      "cell_type": "code",
      "metadata": {
        "id": "w6NAXG-y8qF0",
        "colab": {
          "base_uri": "https://localhost:8080/",
          "height": 35
        },
        "outputId": "30b35b2a-8223-4a4c-8875-8c7ba76cae02"
      },
      "source": [
        "df_genres[df_genres['Word'] == 1].shape[0]"
      ],
      "execution_count": null,
      "outputs": [
        {
          "output_type": "execute_result",
          "data": {
            "text/plain": [
              "125"
            ]
          },
          "metadata": {
            "tags": []
          },
          "execution_count": 123
        }
      ]
    },
    {
      "cell_type": "code",
      "metadata": {
        "id": "Iotlj63P8A6r",
        "colab": {
          "base_uri": "https://localhost:8080/",
          "height": 832
        },
        "outputId": "26d7ad5d-eeb1-41db-9cec-141331bcc8d1"
      },
      "source": [
        "for genre in col_genre:\n",
        "    no_of_row = df_genres[df_genres[genre] == 1].shape[0]\n",
        "    print(\"Genre: \", genre, \"มีจำนวน: \", no_of_row)"
      ],
      "execution_count": null,
      "outputs": [
        {
          "output_type": "stream",
          "text": [
            "Genre:  Action มีจำนวน:  2012\n",
            "Genre:  Adventure มีจำนวน:  836\n",
            "Genre:  Animals & Nature มีจำนวน:  4\n",
            "Genre:  Art มีจำนวน:  2\n",
            "Genre:  Board มีจำนวน:  1722\n",
            "Genre:  Books มีจำนวน:  38\n",
            "Genre:  Business มีจำนวน:  45\n",
            "Genre:  Card มีจำนวน:  674\n",
            "Genre:  Casino มีจำนวน:  75\n",
            "Genre:  Casual มีจำนวน:  1697\n",
            "Genre:  Comics & Cartoons มีจำนวน:  2\n",
            "Genre:  Education มีจำนวน:  951\n",
            "Genre:  Emoji & Expressions มีจำนวน:  15\n",
            "Genre:  Entertainment มีจำนวน:  7991\n",
            "Genre:  Family มีจำนวน:  773\n",
            "Genre:  Finance มีจำนวน:  51\n",
            "Genre:  Food & Drink มีจำนวน:  57\n",
            "Genre:  Games มีจำนวน:  17007\n",
            "Genre:  Gaming มีจำนวน:  25\n",
            "Genre:  Health & Fitness มีจำนวน:  34\n",
            "Genre:  Kids & Family มีจำนวน:  3\n",
            "Genre:  Lifestyle มีจำนวน:  220\n",
            "Genre:  Magazines & Newspapers มีจำนวน:  1\n",
            "Genre:  Medical มีจำนวน:  7\n",
            "Genre:  Music มีจำนวน:  94\n",
            "Genre:  Navigation มีจำนวน:  15\n",
            "Genre:  News มีจำนวน:  20\n",
            "Genre:  People มีจำนวน:  3\n",
            "Genre:  Photo & Video มีจำนวน:  25\n",
            "Genre:  Places & Objects มีจำนวน:  4\n",
            "Genre:  Productivity มีจำนวน:  62\n",
            "Genre:  Puzzle มีจำนวน:  3960\n",
            "Genre:  Racing มีจำนวน:  129\n",
            "Genre:  Reference มีจำนวน:  84\n",
            "Genre:  Role Playing มีจำนวน:  1126\n",
            "Genre:  Shopping มีจำนวน:  4\n",
            "Genre:  Simulation มีจำนวน:  2143\n",
            "Genre:  Social Networking มีจำนวน:  126\n",
            "Genre:  Sports มีจำนวน:  391\n",
            "Genre:  Sports & Activities มีจำนวน:  4\n",
            "Genre:  Stickers มีจำนวน:  31\n",
            "Genre:  Strategy มีจำนวน:  17006\n",
            "Genre:  Travel มีจำนวน:  93\n",
            "Genre:  Trivia มีจำนวน:  289\n",
            "Genre:  Utilities มีจำนวน:  177\n",
            "Genre:  Weather มีจำนวน:  1\n",
            "Genre:  Word มีจำนวน:  125\n"
          ],
          "name": "stdout"
        }
      ]
    },
    {
      "cell_type": "code",
      "metadata": {
        "id": "umeoU8or8A1s"
      },
      "source": [
        "selected_genres = [\"Entertainment\", \"Sports\", \"Puzzle\", \"Simulation\", \"Role Playing\"]"
      ],
      "execution_count": null,
      "outputs": []
    },
    {
      "cell_type": "markdown",
      "metadata": {
        "id": "Md513pop-4LD"
      },
      "source": [
        "# Apply Logic to Each Genres\n",
        "## หาตารางหลัก จากการ Join"
      ]
    },
    {
      "cell_type": "code",
      "metadata": {
        "id": "zZHbDJCH8AxW"
      },
      "source": [
        "df_full = df_apps.join(df_genres[selected_genres], how=\"inner\")"
      ],
      "execution_count": null,
      "outputs": []
    },
    {
      "cell_type": "code",
      "metadata": {
        "id": "10eXDsFM8Ava",
        "colab": {
          "base_uri": "https://localhost:8080/",
          "height": 139
        },
        "outputId": "2596af93-e789-4a56-a0de-fecaf23fbc6d"
      },
      "source": [
        "df_full.columns"
      ],
      "execution_count": null,
      "outputs": [
        {
          "output_type": "execute_result",
          "data": {
            "text/plain": [
              "Index(['URL', 'ID', 'Name', 'Subtitle', 'Icon URL', 'Average User Rating',\n",
              "       'User Rating Count', 'Price', 'In-app Purchases', 'Description',\n",
              "       'Developer', 'Age Rating', 'Languages', 'Size', 'Primary Genre',\n",
              "       'Genres', 'Original Release Date', 'Current Version Release Date',\n",
              "       'Price_tax', 'Entertainment', 'Sports', 'Puzzle', 'Simulation',\n",
              "       'Role Playing'],\n",
              "      dtype='object')"
            ]
          },
          "metadata": {
            "tags": []
          },
          "execution_count": 130
        }
      ]
    },
    {
      "cell_type": "code",
      "metadata": {
        "id": "6UBvv03t8AtS"
      },
      "source": [
        "feature_columns = ['Average User Rating', 'User Rating Count', 'Price', 'In-app Purchases']"
      ],
      "execution_count": null,
      "outputs": []
    },
    {
      "cell_type": "code",
      "metadata": {
        "id": "OfoNUGVc8ArF",
        "colab": {
          "base_uri": "https://localhost:8080/",
          "height": 35
        },
        "outputId": "88edeb30-a4dc-4bdd-d74b-a61407f3fe8b"
      },
      "source": [
        "def calculate_luxe_score(_genre=\"Sports\"):\n",
        "    _df_filter = df_full[df_full[_genre] == 1]\n",
        "    _df_features = _df_filter[feature_columns].copy()\n",
        "\n",
        "    ### ต้องมาปรับ 'In-app Purchases'\n",
        "    _inapps_ls = _df_features[\"In-app Purchases\"].tolist()\n",
        "    _avg_inapps_ls = []\n",
        "    for _elem in _inapps_ls:\n",
        "        _str_elem_ls = str(_elem).split(\", \")\n",
        "        _float_elem_ls = [float(_elem) for _elem in _str_elem_ls]\n",
        "        _avg_inapps = np.mean(np.array(_float_elem_ls))\n",
        "        _avg_inapps_ls.append(_avg_inapps)\n",
        "\n",
        "    _df_features[\"avg_in_app_puchase\"] = _avg_inapps_ls\n",
        "\n",
        "    ### Fill Missing Values\n",
        "    _df_features = _df_features.fillna(0)\n",
        "\n",
        "    ### Normalization\n",
        "    _df_features[\"norm_Average User Rating\"] = norm.fit_transform(_df_features[\"Average User Rating\"].values.reshape((len(_df_features), 1)))\n",
        "    _df_features[\"norm_Price\"] = norm.fit_transform(_df_features[\"Price\"].values.reshape(((len(_df_features), 1))))\n",
        "    _df_features[\"norm_User Rating Count\"] = norm.fit_transform(_df_features[\"User Rating Count\"].values.reshape(((len(_df_features), 1))))\n",
        "    _df_features[\"norm_avg_in_app_puchase\"] = norm.fit_transform(_df_features[\"avg_in_app_puchase\"].values.reshape(((len(_df_features), 1))))\n",
        "\n",
        "    ### Average (Luxe_score)\n",
        "    _df_features[\"luxe_score\"] = _df_features[[\"norm_Average User Rating\", \n",
        "                                            \"norm_Price\", \n",
        "                                            \"norm_User Rating Count\", \n",
        "                                            \"norm_avg_in_app_puchase\"]].mean(axis=1)\n",
        "    \n",
        "    ### Join and Get Leads\n",
        "    _df_join = _df_filter.join(_df_features[[\"luxe_score\"]], how=\"inner\")\n",
        "    _df_leads = _df_join[[\"Name\", \"luxe_score\"]].sort_values(by=\"luxe_score\", ascending=False)\n",
        "\n",
        "    return _df_leads"
      ],
      "execution_count": null,
      "outputs": [
        {
          "output_type": "stream",
          "text": [
            "ERROR! Session/line number was not unique in database. History logging moved to new session 61\n"
          ],
          "name": "stdout"
        }
      ]
    },
    {
      "cell_type": "code",
      "metadata": {
        "id": "5GQ-Taj48AoK",
        "colab": {
          "base_uri": "https://localhost:8080/",
          "height": 202
        },
        "outputId": "1b70731a-8107-483c-846d-1ffefda8b771"
      },
      "source": [
        "df_sports = calculate_luxe_score(_genre=\"Sports\")\n",
        "df_sports[:5]"
      ],
      "execution_count": null,
      "outputs": [
        {
          "output_type": "execute_result",
          "data": {
            "text/html": [
              "<div>\n",
              "<style scoped>\n",
              "    .dataframe tbody tr th:only-of-type {\n",
              "        vertical-align: middle;\n",
              "    }\n",
              "\n",
              "    .dataframe tbody tr th {\n",
              "        vertical-align: top;\n",
              "    }\n",
              "\n",
              "    .dataframe thead th {\n",
              "        text-align: right;\n",
              "    }\n",
              "</style>\n",
              "<table border=\"1\" class=\"dataframe\">\n",
              "  <thead>\n",
              "    <tr style=\"text-align: right;\">\n",
              "      <th></th>\n",
              "      <th>Name</th>\n",
              "      <th>luxe_score</th>\n",
              "    </tr>\n",
              "  </thead>\n",
              "  <tbody>\n",
              "    <tr>\n",
              "      <th>6932</th>\n",
              "      <td>Football Clicker</td>\n",
              "      <td>56.049425</td>\n",
              "    </tr>\n",
              "    <tr>\n",
              "      <th>7276</th>\n",
              "      <td>Basketball Clicker</td>\n",
              "      <td>44.191908</td>\n",
              "    </tr>\n",
              "    <tr>\n",
              "      <th>7275</th>\n",
              "      <td>Soccer Clicker</td>\n",
              "      <td>43.103394</td>\n",
              "    </tr>\n",
              "    <tr>\n",
              "      <th>9857</th>\n",
              "      <td>Touchdown Manager</td>\n",
              "      <td>41.200553</td>\n",
              "    </tr>\n",
              "    <tr>\n",
              "      <th>7277</th>\n",
              "      <td>Hockey Clicker</td>\n",
              "      <td>40.983200</td>\n",
              "    </tr>\n",
              "  </tbody>\n",
              "</table>\n",
              "</div>"
            ],
            "text/plain": [
              "                    Name  luxe_score\n",
              "6932    Football Clicker   56.049425\n",
              "7276  Basketball Clicker   44.191908\n",
              "7275      Soccer Clicker   43.103394\n",
              "9857   Touchdown Manager   41.200553\n",
              "7277      Hockey Clicker   40.983200"
            ]
          },
          "metadata": {
            "tags": []
          },
          "execution_count": 136
        }
      ]
    },
    {
      "cell_type": "code",
      "metadata": {
        "id": "3RSN1OhoE0hl",
        "colab": {
          "base_uri": "https://localhost:8080/",
          "height": 202
        },
        "outputId": "028f54fe-b16c-484b-ff4e-2ed2faa2de87"
      },
      "source": [
        "df_ent = calculate_luxe_score(_genre=\"Entertainment\")\n",
        "df_ent[:5]"
      ],
      "execution_count": null,
      "outputs": [
        {
          "output_type": "execute_result",
          "data": {
            "text/html": [
              "<div>\n",
              "<style scoped>\n",
              "    .dataframe tbody tr th:only-of-type {\n",
              "        vertical-align: middle;\n",
              "    }\n",
              "\n",
              "    .dataframe tbody tr th {\n",
              "        vertical-align: top;\n",
              "    }\n",
              "\n",
              "    .dataframe thead th {\n",
              "        text-align: right;\n",
              "    }\n",
              "</style>\n",
              "<table border=\"1\" class=\"dataframe\">\n",
              "  <thead>\n",
              "    <tr style=\"text-align: right;\">\n",
              "      <th></th>\n",
              "      <th>Name</th>\n",
              "      <th>luxe_score</th>\n",
              "    </tr>\n",
              "  </thead>\n",
              "  <tbody>\n",
              "    <tr>\n",
              "      <th>1378</th>\n",
              "      <td>Clash of Clans</td>\n",
              "      <td>53.053395</td>\n",
              "    </tr>\n",
              "    <tr>\n",
              "      <th>276</th>\n",
              "      <td>SmartGo Kifu</td>\n",
              "      <td>47.501871</td>\n",
              "    </tr>\n",
              "    <tr>\n",
              "      <th>4885</th>\n",
              "      <td>Warhammer 40,000: Armageddon</td>\n",
              "      <td>46.618366</td>\n",
              "    </tr>\n",
              "    <tr>\n",
              "      <th>1683</th>\n",
              "      <td>War of Nations\\u2122 - PVP Strategy</td>\n",
              "      <td>38.865776</td>\n",
              "    </tr>\n",
              "    <tr>\n",
              "      <th>185</th>\n",
              "      <td>King of Dragon Pass</td>\n",
              "      <td>37.501661</td>\n",
              "    </tr>\n",
              "  </tbody>\n",
              "</table>\n",
              "</div>"
            ],
            "text/plain": [
              "                                     Name  luxe_score\n",
              "1378                       Clash of Clans   53.053395\n",
              "276                          SmartGo Kifu   47.501871\n",
              "4885         Warhammer 40,000: Armageddon   46.618366\n",
              "1683  War of Nations\\u2122 - PVP Strategy   38.865776\n",
              "185                   King of Dragon Pass   37.501661"
            ]
          },
          "metadata": {
            "tags": []
          },
          "execution_count": 138
        }
      ]
    },
    {
      "cell_type": "code",
      "metadata": {
        "id": "hnfsuaUsE9bO",
        "colab": {
          "base_uri": "https://localhost:8080/",
          "height": 202
        },
        "outputId": "a5908edd-7862-43e8-b6de-df9a7ca40c54"
      },
      "source": [
        "calculate_luxe_score()[:5]"
      ],
      "execution_count": null,
      "outputs": [
        {
          "output_type": "execute_result",
          "data": {
            "text/html": [
              "<div>\n",
              "<style scoped>\n",
              "    .dataframe tbody tr th:only-of-type {\n",
              "        vertical-align: middle;\n",
              "    }\n",
              "\n",
              "    .dataframe tbody tr th {\n",
              "        vertical-align: top;\n",
              "    }\n",
              "\n",
              "    .dataframe thead th {\n",
              "        text-align: right;\n",
              "    }\n",
              "</style>\n",
              "<table border=\"1\" class=\"dataframe\">\n",
              "  <thead>\n",
              "    <tr style=\"text-align: right;\">\n",
              "      <th></th>\n",
              "      <th>Name</th>\n",
              "      <th>luxe_score</th>\n",
              "    </tr>\n",
              "  </thead>\n",
              "  <tbody>\n",
              "    <tr>\n",
              "      <th>6932</th>\n",
              "      <td>Football Clicker</td>\n",
              "      <td>56.049425</td>\n",
              "    </tr>\n",
              "    <tr>\n",
              "      <th>7276</th>\n",
              "      <td>Basketball Clicker</td>\n",
              "      <td>44.191908</td>\n",
              "    </tr>\n",
              "    <tr>\n",
              "      <th>7275</th>\n",
              "      <td>Soccer Clicker</td>\n",
              "      <td>43.103394</td>\n",
              "    </tr>\n",
              "    <tr>\n",
              "      <th>9857</th>\n",
              "      <td>Touchdown Manager</td>\n",
              "      <td>41.200553</td>\n",
              "    </tr>\n",
              "    <tr>\n",
              "      <th>7277</th>\n",
              "      <td>Hockey Clicker</td>\n",
              "      <td>40.983200</td>\n",
              "    </tr>\n",
              "  </tbody>\n",
              "</table>\n",
              "</div>"
            ],
            "text/plain": [
              "                    Name  luxe_score\n",
              "6932    Football Clicker   56.049425\n",
              "7276  Basketball Clicker   44.191908\n",
              "7275      Soccer Clicker   43.103394\n",
              "9857   Touchdown Manager   41.200553\n",
              "7277      Hockey Clicker   40.983200"
            ]
          },
          "metadata": {
            "tags": []
          },
          "execution_count": 139
        }
      ]
    },
    {
      "cell_type": "code",
      "metadata": {
        "id": "7ib-ePqK6Lko",
        "colab": {
          "base_uri": "https://localhost:8080/",
          "height": 202
        },
        "outputId": "7110d91d-12fb-45a3-e0b6-634e85d85dd9"
      },
      "source": [
        "df_leads[:5]"
      ],
      "execution_count": null,
      "outputs": [
        {
          "output_type": "execute_result",
          "data": {
            "text/html": [
              "<div>\n",
              "<style scoped>\n",
              "    .dataframe tbody tr th:only-of-type {\n",
              "        vertical-align: middle;\n",
              "    }\n",
              "\n",
              "    .dataframe tbody tr th {\n",
              "        vertical-align: top;\n",
              "    }\n",
              "\n",
              "    .dataframe thead th {\n",
              "        text-align: right;\n",
              "    }\n",
              "</style>\n",
              "<table border=\"1\" class=\"dataframe\">\n",
              "  <thead>\n",
              "    <tr style=\"text-align: right;\">\n",
              "      <th></th>\n",
              "      <th>Name</th>\n",
              "      <th>luxe_score</th>\n",
              "    </tr>\n",
              "  </thead>\n",
              "  <tbody>\n",
              "    <tr>\n",
              "      <th>1378</th>\n",
              "      <td>Clash of Clans</td>\n",
              "      <td>53.053395</td>\n",
              "    </tr>\n",
              "    <tr>\n",
              "      <th>2634</th>\n",
              "      <td>Finabase: realtime stocks</td>\n",
              "      <td>48.617825</td>\n",
              "    </tr>\n",
              "    <tr>\n",
              "      <th>16085</th>\n",
              "      <td>Arcane Pets: Plushie Empire</td>\n",
              "      <td>43.332977</td>\n",
              "    </tr>\n",
              "    <tr>\n",
              "      <th>8946</th>\n",
              "      <td>War Planet Online</td>\n",
              "      <td>41.027593</td>\n",
              "    </tr>\n",
              "    <tr>\n",
              "      <th>1683</th>\n",
              "      <td>War of Nations\\u2122 - PVP Strategy</td>\n",
              "      <td>38.865776</td>\n",
              "    </tr>\n",
              "  </tbody>\n",
              "</table>\n",
              "</div>"
            ],
            "text/plain": [
              "                                      Name  luxe_score\n",
              "1378                        Clash of Clans   53.053395\n",
              "2634             Finabase: realtime stocks   48.617825\n",
              "16085          Arcane Pets: Plushie Empire   43.332977\n",
              "8946                     War Planet Online   41.027593\n",
              "1683   War of Nations\\u2122 - PVP Strategy   38.865776"
            ]
          },
          "metadata": {
            "tags": []
          },
          "execution_count": 137
        }
      ]
    },
    {
      "cell_type": "markdown",
      "metadata": {
        "id": "x_D3gLdVIUKS"
      },
      "source": [
        "# For Loop Tecnique"
      ]
    },
    {
      "cell_type": "code",
      "metadata": {
        "id": "_6uWUFqiEA1Q",
        "colab": {
          "base_uri": "https://localhost:8080/",
          "height": 35
        },
        "outputId": "2bf73709-bca4-4b66-84c0-0f56e70da379"
      },
      "source": [
        "selected_genres"
      ],
      "execution_count": null,
      "outputs": [
        {
          "output_type": "execute_result",
          "data": {
            "text/plain": [
              "['Entertainment', 'Sports', 'Puzzle', 'Simulation', 'Role Playing']"
            ]
          },
          "metadata": {
            "tags": []
          },
          "execution_count": 140
        }
      ]
    },
    {
      "cell_type": "markdown",
      "metadata": {
        "id": "xrMd6WIaKsJ0"
      },
      "source": [
        "## จับเวลา Forloop"
      ]
    },
    {
      "cell_type": "code",
      "metadata": {
        "id": "wcr7sAY0Kuzd"
      },
      "source": [
        "from datetime import datetime"
      ],
      "execution_count": null,
      "outputs": []
    },
    {
      "cell_type": "code",
      "metadata": {
        "id": "kddFAv9aKytd",
        "colab": {
          "base_uri": "https://localhost:8080/",
          "height": 35
        },
        "outputId": "92297c8c-1c82-4ff2-8676-fe20d26c5d09"
      },
      "source": [
        "datetime.now()"
      ],
      "execution_count": null,
      "outputs": [
        {
          "output_type": "execute_result",
          "data": {
            "text/plain": [
              "datetime.datetime(2020, 3, 28, 8, 3, 59, 868172)"
            ]
          },
          "metadata": {
            "tags": []
          },
          "execution_count": 146
        }
      ]
    },
    {
      "cell_type": "code",
      "metadata": {
        "id": "ACiRueC4IW5V",
        "colab": {
          "base_uri": "https://localhost:8080/",
          "height": 104
        },
        "outputId": "94fbd9ca-e67f-4a7c-ffcf-172e3ffd808f"
      },
      "source": [
        "df_ls = []\n",
        "for elem in selected_genres:\n",
        "    start_time = datetime.now()\n",
        "    df = calculate_luxe_score(_genre=elem)\n",
        "    df_ls.append(df)\n",
        "    stop_time = datetime.now()\n",
        "    print(\"Time Spent: {} {}\".format(stop_time - start_time, elem))"
      ],
      "execution_count": null,
      "outputs": [
        {
          "output_type": "stream",
          "text": [
            "Time Spent: 0:00:00.120054 Entertainment\n",
            "Time Spent: 0:00:00.017126 Sports\n",
            "Time Spent: 0:00:00.054678 Puzzle\n",
            "Time Spent: 0:00:00.038048 Simulation\n",
            "Time Spent: 0:00:00.027034 Role Playing\n"
          ],
          "name": "stdout"
        }
      ]
    },
    {
      "cell_type": "code",
      "metadata": {
        "id": "YFXSAL_vIvaY"
      },
      "source": [
        "for df, genre in zip(df_ls, selected_genres):\n",
        "    df.to_csv('/content/drive/My Drive/Pandas รอบที่ 6/leads_{}.csv'.format(genre))"
      ],
      "execution_count": null,
      "outputs": []
    },
    {
      "cell_type": "markdown",
      "metadata": {
        "id": "p-lUvbMRTq01"
      },
      "source": [
        "# Pivoting"
      ]
    },
    {
      "cell_type": "code",
      "metadata": {
        "id": "kWmziahVTqmL",
        "colab": {
          "base_uri": "https://localhost:8080/",
          "height": 202
        },
        "outputId": "ab3bc29f-7a89-4d26-e070-c9c5c0e5fb91"
      },
      "source": [
        "df_apps[[\"Name\", \"Primary Genre\"]][:5]"
      ],
      "execution_count": null,
      "outputs": [
        {
          "output_type": "execute_result",
          "data": {
            "text/html": [
              "<div>\n",
              "<style scoped>\n",
              "    .dataframe tbody tr th:only-of-type {\n",
              "        vertical-align: middle;\n",
              "    }\n",
              "\n",
              "    .dataframe tbody tr th {\n",
              "        vertical-align: top;\n",
              "    }\n",
              "\n",
              "    .dataframe thead th {\n",
              "        text-align: right;\n",
              "    }\n",
              "</style>\n",
              "<table border=\"1\" class=\"dataframe\">\n",
              "  <thead>\n",
              "    <tr style=\"text-align: right;\">\n",
              "      <th></th>\n",
              "      <th>Name</th>\n",
              "      <th>Primary Genre</th>\n",
              "    </tr>\n",
              "  </thead>\n",
              "  <tbody>\n",
              "    <tr>\n",
              "      <th>0</th>\n",
              "      <td>Sudoku</td>\n",
              "      <td>Games</td>\n",
              "    </tr>\n",
              "    <tr>\n",
              "      <th>1</th>\n",
              "      <td>Reversi</td>\n",
              "      <td>Games</td>\n",
              "    </tr>\n",
              "    <tr>\n",
              "      <th>2</th>\n",
              "      <td>Morocco</td>\n",
              "      <td>Games</td>\n",
              "    </tr>\n",
              "    <tr>\n",
              "      <th>3</th>\n",
              "      <td>Sudoku (Free)</td>\n",
              "      <td>Games</td>\n",
              "    </tr>\n",
              "    <tr>\n",
              "      <th>4</th>\n",
              "      <td>Senet Deluxe</td>\n",
              "      <td>Games</td>\n",
              "    </tr>\n",
              "  </tbody>\n",
              "</table>\n",
              "</div>"
            ],
            "text/plain": [
              "            Name Primary Genre\n",
              "0         Sudoku         Games\n",
              "1        Reversi         Games\n",
              "2        Morocco         Games\n",
              "3  Sudoku (Free)         Games\n",
              "4   Senet Deluxe         Games"
            ]
          },
          "metadata": {
            "tags": []
          },
          "execution_count": 199
        }
      ]
    },
    {
      "cell_type": "code",
      "metadata": {
        "id": "6v8wFGVLTph-",
        "colab": {
          "base_uri": "https://localhost:8080/",
          "height": 951
        },
        "outputId": "dbe510b4-28fb-458d-a72e-19303b086402"
      },
      "source": [
        "pd.pivot_table(df_apps, values=\"Price\", index=\"Name\", columns=\"Primary Genre\", aggfunc='mean')"
      ],
      "execution_count": null,
      "outputs": [
        {
          "output_type": "execute_result",
          "data": {
            "text/html": [
              "<div>\n",
              "<style scoped>\n",
              "    .dataframe tbody tr th:only-of-type {\n",
              "        vertical-align: middle;\n",
              "    }\n",
              "\n",
              "    .dataframe tbody tr th {\n",
              "        vertical-align: top;\n",
              "    }\n",
              "\n",
              "    .dataframe thead th {\n",
              "        text-align: right;\n",
              "    }\n",
              "</style>\n",
              "<table border=\"1\" class=\"dataframe\">\n",
              "  <thead>\n",
              "    <tr style=\"text-align: right;\">\n",
              "      <th>Primary Genre</th>\n",
              "      <th>Book</th>\n",
              "      <th>Business</th>\n",
              "      <th>Education</th>\n",
              "      <th>Entertainment</th>\n",
              "      <th>Finance</th>\n",
              "      <th>Food &amp; Drink</th>\n",
              "      <th>Games</th>\n",
              "      <th>Health &amp; Fitness</th>\n",
              "      <th>Lifestyle</th>\n",
              "      <th>Medical</th>\n",
              "      <th>Music</th>\n",
              "      <th>Navigation</th>\n",
              "      <th>News</th>\n",
              "      <th>Productivity</th>\n",
              "      <th>Reference</th>\n",
              "      <th>Shopping</th>\n",
              "      <th>Social Networking</th>\n",
              "      <th>Sports</th>\n",
              "      <th>Stickers</th>\n",
              "      <th>Travel</th>\n",
              "      <th>Utilities</th>\n",
              "    </tr>\n",
              "    <tr>\n",
              "      <th>Name</th>\n",
              "      <th></th>\n",
              "      <th></th>\n",
              "      <th></th>\n",
              "      <th></th>\n",
              "      <th></th>\n",
              "      <th></th>\n",
              "      <th></th>\n",
              "      <th></th>\n",
              "      <th></th>\n",
              "      <th></th>\n",
              "      <th></th>\n",
              "      <th></th>\n",
              "      <th></th>\n",
              "      <th></th>\n",
              "      <th></th>\n",
              "      <th></th>\n",
              "      <th></th>\n",
              "      <th></th>\n",
              "      <th></th>\n",
              "      <th></th>\n",
              "      <th></th>\n",
              "    </tr>\n",
              "  </thead>\n",
              "  <tbody>\n",
              "    <tr>\n",
              "      <th>! Chess !</th>\n",
              "      <td>NaN</td>\n",
              "      <td>NaN</td>\n",
              "      <td>NaN</td>\n",
              "      <td>NaN</td>\n",
              "      <td>NaN</td>\n",
              "      <td>NaN</td>\n",
              "      <td>0.00</td>\n",
              "      <td>NaN</td>\n",
              "      <td>NaN</td>\n",
              "      <td>NaN</td>\n",
              "      <td>NaN</td>\n",
              "      <td>NaN</td>\n",
              "      <td>NaN</td>\n",
              "      <td>NaN</td>\n",
              "      <td>NaN</td>\n",
              "      <td>NaN</td>\n",
              "      <td>NaN</td>\n",
              "      <td>NaN</td>\n",
              "      <td>NaN</td>\n",
              "      <td>NaN</td>\n",
              "      <td>NaN</td>\n",
              "    </tr>\n",
              "    <tr>\n",
              "      <th>! OH Fantastic Free Kick + Kick Wall Challenge</th>\n",
              "      <td>NaN</td>\n",
              "      <td>NaN</td>\n",
              "      <td>NaN</td>\n",
              "      <td>NaN</td>\n",
              "      <td>NaN</td>\n",
              "      <td>NaN</td>\n",
              "      <td>0.00</td>\n",
              "      <td>NaN</td>\n",
              "      <td>NaN</td>\n",
              "      <td>NaN</td>\n",
              "      <td>NaN</td>\n",
              "      <td>NaN</td>\n",
              "      <td>NaN</td>\n",
              "      <td>NaN</td>\n",
              "      <td>NaN</td>\n",
              "      <td>NaN</td>\n",
              "      <td>NaN</td>\n",
              "      <td>NaN</td>\n",
              "      <td>NaN</td>\n",
              "      <td>NaN</td>\n",
              "      <td>NaN</td>\n",
              "    </tr>\n",
              "    <tr>\n",
              "      <th>!Ball Shots - Premium</th>\n",
              "      <td>NaN</td>\n",
              "      <td>NaN</td>\n",
              "      <td>NaN</td>\n",
              "      <td>NaN</td>\n",
              "      <td>NaN</td>\n",
              "      <td>NaN</td>\n",
              "      <td>1.99</td>\n",
              "      <td>NaN</td>\n",
              "      <td>NaN</td>\n",
              "      <td>NaN</td>\n",
              "      <td>NaN</td>\n",
              "      <td>NaN</td>\n",
              "      <td>NaN</td>\n",
              "      <td>NaN</td>\n",
              "      <td>NaN</td>\n",
              "      <td>NaN</td>\n",
              "      <td>NaN</td>\n",
              "      <td>NaN</td>\n",
              "      <td>NaN</td>\n",
              "      <td>NaN</td>\n",
              "      <td>NaN</td>\n",
              "    </tr>\n",
              "    <tr>\n",
              "      <th>!Dice In Cup : Premium</th>\n",
              "      <td>NaN</td>\n",
              "      <td>NaN</td>\n",
              "      <td>NaN</td>\n",
              "      <td>NaN</td>\n",
              "      <td>NaN</td>\n",
              "      <td>NaN</td>\n",
              "      <td>0.99</td>\n",
              "      <td>NaN</td>\n",
              "      <td>NaN</td>\n",
              "      <td>NaN</td>\n",
              "      <td>NaN</td>\n",
              "      <td>NaN</td>\n",
              "      <td>NaN</td>\n",
              "      <td>NaN</td>\n",
              "      <td>NaN</td>\n",
              "      <td>NaN</td>\n",
              "      <td>NaN</td>\n",
              "      <td>NaN</td>\n",
              "      <td>NaN</td>\n",
              "      <td>NaN</td>\n",
              "      <td>NaN</td>\n",
              "    </tr>\n",
              "    <tr>\n",
              "      <th>!Dots and Boxes : Premium</th>\n",
              "      <td>NaN</td>\n",
              "      <td>NaN</td>\n",
              "      <td>NaN</td>\n",
              "      <td>NaN</td>\n",
              "      <td>NaN</td>\n",
              "      <td>NaN</td>\n",
              "      <td>0.99</td>\n",
              "      <td>NaN</td>\n",
              "      <td>NaN</td>\n",
              "      <td>NaN</td>\n",
              "      <td>NaN</td>\n",
              "      <td>NaN</td>\n",
              "      <td>NaN</td>\n",
              "      <td>NaN</td>\n",
              "      <td>NaN</td>\n",
              "      <td>NaN</td>\n",
              "      <td>NaN</td>\n",
              "      <td>NaN</td>\n",
              "      <td>NaN</td>\n",
              "      <td>NaN</td>\n",
              "      <td>NaN</td>\n",
              "    </tr>\n",
              "    <tr>\n",
              "      <th>...</th>\n",
              "      <td>...</td>\n",
              "      <td>...</td>\n",
              "      <td>...</td>\n",
              "      <td>...</td>\n",
              "      <td>...</td>\n",
              "      <td>...</td>\n",
              "      <td>...</td>\n",
              "      <td>...</td>\n",
              "      <td>...</td>\n",
              "      <td>...</td>\n",
              "      <td>...</td>\n",
              "      <td>...</td>\n",
              "      <td>...</td>\n",
              "      <td>...</td>\n",
              "      <td>...</td>\n",
              "      <td>...</td>\n",
              "      <td>...</td>\n",
              "      <td>...</td>\n",
              "      <td>...</td>\n",
              "      <td>...</td>\n",
              "      <td>...</td>\n",
              "    </tr>\n",
              "    <tr>\n",
              "      <th>` Flea Pop Puzzle Games For Free Kids Mind Teaser Quiz</th>\n",
              "      <td>NaN</td>\n",
              "      <td>NaN</td>\n",
              "      <td>NaN</td>\n",
              "      <td>NaN</td>\n",
              "      <td>NaN</td>\n",
              "      <td>NaN</td>\n",
              "      <td>0.00</td>\n",
              "      <td>NaN</td>\n",
              "      <td>NaN</td>\n",
              "      <td>NaN</td>\n",
              "      <td>NaN</td>\n",
              "      <td>NaN</td>\n",
              "      <td>NaN</td>\n",
              "      <td>NaN</td>\n",
              "      <td>NaN</td>\n",
              "      <td>NaN</td>\n",
              "      <td>NaN</td>\n",
              "      <td>NaN</td>\n",
              "      <td>NaN</td>\n",
              "      <td>NaN</td>\n",
              "      <td>NaN</td>\n",
              "    </tr>\n",
              "    <tr>\n",
              "      <th>`119</th>\n",
              "      <td>NaN</td>\n",
              "      <td>NaN</td>\n",
              "      <td>NaN</td>\n",
              "      <td>NaN</td>\n",
              "      <td>NaN</td>\n",
              "      <td>NaN</td>\n",
              "      <td>0.00</td>\n",
              "      <td>NaN</td>\n",
              "      <td>NaN</td>\n",
              "      <td>NaN</td>\n",
              "      <td>NaN</td>\n",
              "      <td>NaN</td>\n",
              "      <td>NaN</td>\n",
              "      <td>NaN</td>\n",
              "      <td>NaN</td>\n",
              "      <td>NaN</td>\n",
              "      <td>NaN</td>\n",
              "      <td>NaN</td>\n",
              "      <td>NaN</td>\n",
              "      <td>NaN</td>\n",
              "      <td>NaN</td>\n",
              "    </tr>\n",
              "    <tr>\n",
              "      <th>`Four in a row</th>\n",
              "      <td>NaN</td>\n",
              "      <td>NaN</td>\n",
              "      <td>NaN</td>\n",
              "      <td>NaN</td>\n",
              "      <td>NaN</td>\n",
              "      <td>NaN</td>\n",
              "      <td>0.00</td>\n",
              "      <td>NaN</td>\n",
              "      <td>NaN</td>\n",
              "      <td>NaN</td>\n",
              "      <td>NaN</td>\n",
              "      <td>NaN</td>\n",
              "      <td>NaN</td>\n",
              "      <td>NaN</td>\n",
              "      <td>NaN</td>\n",
              "      <td>NaN</td>\n",
              "      <td>NaN</td>\n",
              "      <td>NaN</td>\n",
              "      <td>NaN</td>\n",
              "      <td>NaN</td>\n",
              "      <td>NaN</td>\n",
              "    </tr>\n",
              "    <tr>\n",
              "      <th>``` A Candy Fable ``` - puzzle match-3 jam in juice fruit land free</th>\n",
              "      <td>NaN</td>\n",
              "      <td>NaN</td>\n",
              "      <td>NaN</td>\n",
              "      <td>NaN</td>\n",
              "      <td>NaN</td>\n",
              "      <td>NaN</td>\n",
              "      <td>0.00</td>\n",
              "      <td>NaN</td>\n",
              "      <td>NaN</td>\n",
              "      <td>NaN</td>\n",
              "      <td>NaN</td>\n",
              "      <td>NaN</td>\n",
              "      <td>NaN</td>\n",
              "      <td>NaN</td>\n",
              "      <td>NaN</td>\n",
              "      <td>NaN</td>\n",
              "      <td>NaN</td>\n",
              "      <td>NaN</td>\n",
              "      <td>NaN</td>\n",
              "      <td>NaN</td>\n",
              "      <td>NaN</td>\n",
              "    </tr>\n",
              "    <tr>\n",
              "      <th>kraken chess</th>\n",
              "      <td>NaN</td>\n",
              "      <td>NaN</td>\n",
              "      <td>NaN</td>\n",
              "      <td>NaN</td>\n",
              "      <td>NaN</td>\n",
              "      <td>NaN</td>\n",
              "      <td>0.00</td>\n",
              "      <td>NaN</td>\n",
              "      <td>NaN</td>\n",
              "      <td>NaN</td>\n",
              "      <td>NaN</td>\n",
              "      <td>NaN</td>\n",
              "      <td>NaN</td>\n",
              "      <td>NaN</td>\n",
              "      <td>NaN</td>\n",
              "      <td>NaN</td>\n",
              "      <td>NaN</td>\n",
              "      <td>NaN</td>\n",
              "      <td>NaN</td>\n",
              "      <td>NaN</td>\n",
              "      <td>NaN</td>\n",
              "    </tr>\n",
              "  </tbody>\n",
              "</table>\n",
              "<p>16823 rows × 21 columns</p>\n",
              "</div>"
            ],
            "text/plain": [
              "Primary Genre                                       Book  ...  Utilities\n",
              "Name                                                      ...           \n",
              "! Chess !                                            NaN  ...        NaN\n",
              "! OH Fantastic Free Kick + Kick Wall Challenge       NaN  ...        NaN\n",
              "!Ball Shots - Premium                                NaN  ...        NaN\n",
              "!Dice In Cup : Premium                               NaN  ...        NaN\n",
              "!Dots and Boxes : Premium                            NaN  ...        NaN\n",
              "...                                                  ...  ...        ...\n",
              "` Flea Pop Puzzle Games For Free Kids Mind Teas...   NaN  ...        NaN\n",
              "`119                                                 NaN  ...        NaN\n",
              "`Four in a row                                       NaN  ...        NaN\n",
              "``` A Candy Fable ``` - puzzle match-3 jam in j...   NaN  ...        NaN\n",
              "kraken chess                                         NaN  ...        NaN\n",
              "\n",
              "[16823 rows x 21 columns]"
            ]
          },
          "metadata": {
            "tags": []
          },
          "execution_count": 203
        }
      ]
    },
    {
      "cell_type": "code",
      "metadata": {
        "id": "LZtRcapBTpfW"
      },
      "source": [
        ""
      ],
      "execution_count": null,
      "outputs": []
    },
    {
      "cell_type": "code",
      "metadata": {
        "id": "05J24FWhTpcy"
      },
      "source": [
        ""
      ],
      "execution_count": null,
      "outputs": []
    },
    {
      "cell_type": "code",
      "metadata": {
        "id": "TlAVEyvpTpaD"
      },
      "source": [
        ""
      ],
      "execution_count": null,
      "outputs": []
    },
    {
      "cell_type": "code",
      "metadata": {
        "id": "bbEPe2dsTpWZ"
      },
      "source": [
        ""
      ],
      "execution_count": null,
      "outputs": []
    },
    {
      "cell_type": "code",
      "metadata": {
        "id": "TqdOTBg8TpSy"
      },
      "source": [
        ""
      ],
      "execution_count": null,
      "outputs": []
    },
    {
      "cell_type": "code",
      "metadata": {
        "id": "2jHoNqKdTpOD"
      },
      "source": [
        ""
      ],
      "execution_count": null,
      "outputs": []
    },
    {
      "cell_type": "markdown",
      "metadata": {
        "id": "85BgXrvKLhvX"
      },
      "source": [
        "# Pandas อ่าน HTML"
      ]
    },
    {
      "cell_type": "code",
      "metadata": {
        "id": "hInshXQXMK1f"
      },
      "source": [
        "URL = \"https://www.settrade.com/C04_02_stock_historical_p1.jsp?txtSymbol=MINT&selectPage=2&max=1000&offset=1\""
      ],
      "execution_count": null,
      "outputs": []
    },
    {
      "cell_type": "code",
      "metadata": {
        "id": "xXYEazw4I18-"
      },
      "source": [
        "df_mint_ls = pd.read_html(URL)"
      ],
      "execution_count": null,
      "outputs": []
    },
    {
      "cell_type": "code",
      "metadata": {
        "id": "QkXpWXNLMRKm",
        "colab": {
          "base_uri": "https://localhost:8080/",
          "height": 35
        },
        "outputId": "c0500cb6-5615-4829-ac1a-16664447e283"
      },
      "source": [
        "df_mint_ls[0].shape"
      ],
      "execution_count": null,
      "outputs": [
        {
          "output_type": "execute_result",
          "data": {
            "text/plain": [
              "(122, 12)"
            ]
          },
          "metadata": {
            "tags": []
          },
          "execution_count": 190
        }
      ]
    },
    {
      "cell_type": "code",
      "metadata": {
        "id": "ASKYr1TyPpIv"
      },
      "source": [
        "df_mint = df_mint_ls[0]"
      ],
      "execution_count": null,
      "outputs": []
    },
    {
      "cell_type": "code",
      "metadata": {
        "id": "5vs7NZKAQBkE",
        "colab": {
          "base_uri": "https://localhost:8080/",
          "height": 171
        },
        "outputId": "d2323b8e-d610-4e95-a0de-9a4ea7d62834"
      },
      "source": [
        "df_mint[:4]"
      ],
      "execution_count": null,
      "outputs": [
        {
          "output_type": "execute_result",
          "data": {
            "text/html": [
              "<div>\n",
              "<style scoped>\n",
              "    .dataframe tbody tr th:only-of-type {\n",
              "        vertical-align: middle;\n",
              "    }\n",
              "\n",
              "    .dataframe tbody tr th {\n",
              "        vertical-align: top;\n",
              "    }\n",
              "\n",
              "    .dataframe thead th {\n",
              "        text-align: right;\n",
              "    }\n",
              "</style>\n",
              "<table border=\"1\" class=\"dataframe\">\n",
              "  <thead>\n",
              "    <tr style=\"text-align: right;\">\n",
              "      <th></th>\n",
              "      <th>วันที่</th>\n",
              "      <th>ราคาเปิด</th>\n",
              "      <th>ราคาสูงสุด</th>\n",
              "      <th>ราคาต่ำสุด</th>\n",
              "      <th>ราคาเฉลี่ย</th>\n",
              "      <th>ราคาปิด</th>\n",
              "      <th>เปลี่ยนแปลง</th>\n",
              "      <th>%เปลี่ยนแปลง</th>\n",
              "      <th>ปริมาณ(พันหุ้น)</th>\n",
              "      <th>มูลค่า(ล้านบาท)</th>\n",
              "      <th>SETIndex</th>\n",
              "      <th>%เปลี่ยนแปลง.1</th>\n",
              "    </tr>\n",
              "  </thead>\n",
              "  <tbody>\n",
              "    <tr>\n",
              "      <th>0</th>\n",
              "      <td>26/03/20</td>\n",
              "      <td>14.1</td>\n",
              "      <td>16.2</td>\n",
              "      <td>14.1</td>\n",
              "      <td>15.55</td>\n",
              "      <td>15.8</td>\n",
              "      <td>1.7</td>\n",
              "      <td>12.06</td>\n",
              "      <td>99177.84</td>\n",
              "      <td>1542.49</td>\n",
              "      <td>1091.96</td>\n",
              "      <td>1.10</td>\n",
              "    </tr>\n",
              "    <tr>\n",
              "      <th>1</th>\n",
              "      <td>25/03/20</td>\n",
              "      <td>14.0</td>\n",
              "      <td>14.7</td>\n",
              "      <td>13.9</td>\n",
              "      <td>14.30</td>\n",
              "      <td>14.1</td>\n",
              "      <td>0.4</td>\n",
              "      <td>2.92</td>\n",
              "      <td>72619.48</td>\n",
              "      <td>1038.75</td>\n",
              "      <td>1080.03</td>\n",
              "      <td>4.47</td>\n",
              "    </tr>\n",
              "    <tr>\n",
              "      <th>2</th>\n",
              "      <td>24/03/20</td>\n",
              "      <td>14.9</td>\n",
              "      <td>14.9</td>\n",
              "      <td>13.5</td>\n",
              "      <td>14.03</td>\n",
              "      <td>13.7</td>\n",
              "      <td>-0.5</td>\n",
              "      <td>-3.52</td>\n",
              "      <td>47031.34</td>\n",
              "      <td>660.03</td>\n",
              "      <td>1033.84</td>\n",
              "      <td>0.92</td>\n",
              "    </tr>\n",
              "    <tr>\n",
              "      <th>3</th>\n",
              "      <td>23/03/20</td>\n",
              "      <td>14.4</td>\n",
              "      <td>15.2</td>\n",
              "      <td>14.2</td>\n",
              "      <td>14.55</td>\n",
              "      <td>14.2</td>\n",
              "      <td>-2.4</td>\n",
              "      <td>-14.46</td>\n",
              "      <td>42205.60</td>\n",
              "      <td>614.28</td>\n",
              "      <td>1024.46</td>\n",
              "      <td>-9.12</td>\n",
              "    </tr>\n",
              "  </tbody>\n",
              "</table>\n",
              "</div>"
            ],
            "text/plain": [
              "     วันที่  ราคาเปิด  ราคาสูงสุด  ...  มูลค่า(ล้านบาท)  SETIndex  %เปลี่ยนแปลง.1\n",
              "0  26/03/20      14.1        16.2  ...          1542.49   1091.96            1.10\n",
              "1  25/03/20      14.0        14.7  ...          1038.75   1080.03            4.47\n",
              "2  24/03/20      14.9        14.9  ...           660.03   1033.84            0.92\n",
              "3  23/03/20      14.4        15.2  ...           614.28   1024.46           -9.12\n",
              "\n",
              "[4 rows x 12 columns]"
            ]
          },
          "metadata": {
            "tags": []
          },
          "execution_count": 192
        }
      ]
    },
    {
      "cell_type": "code",
      "metadata": {
        "id": "miJxpJuoQBgM"
      },
      "source": [
        "df_mint = df_mint.rename(columns={\"วันที่\":\"date\", \"ราคาเปิด\":\"open\"})"
      ],
      "execution_count": null,
      "outputs": []
    },
    {
      "cell_type": "code",
      "metadata": {
        "id": "T4FX0UBfQXRl",
        "colab": {
          "base_uri": "https://localhost:8080/",
          "height": 171
        },
        "outputId": "f2f1325c-f426-4d44-ad54-9c56520851fa"
      },
      "source": [
        "df_mint[:4]"
      ],
      "execution_count": null,
      "outputs": [
        {
          "output_type": "execute_result",
          "data": {
            "text/html": [
              "<div>\n",
              "<style scoped>\n",
              "    .dataframe tbody tr th:only-of-type {\n",
              "        vertical-align: middle;\n",
              "    }\n",
              "\n",
              "    .dataframe tbody tr th {\n",
              "        vertical-align: top;\n",
              "    }\n",
              "\n",
              "    .dataframe thead th {\n",
              "        text-align: right;\n",
              "    }\n",
              "</style>\n",
              "<table border=\"1\" class=\"dataframe\">\n",
              "  <thead>\n",
              "    <tr style=\"text-align: right;\">\n",
              "      <th></th>\n",
              "      <th>date</th>\n",
              "      <th>open</th>\n",
              "      <th>ราคาสูงสุด</th>\n",
              "      <th>ราคาต่ำสุด</th>\n",
              "      <th>ราคาเฉลี่ย</th>\n",
              "      <th>ราคาปิด</th>\n",
              "      <th>เปลี่ยนแปลง</th>\n",
              "      <th>%เปลี่ยนแปลง</th>\n",
              "      <th>ปริมาณ(พันหุ้น)</th>\n",
              "      <th>มูลค่า(ล้านบาท)</th>\n",
              "      <th>SETIndex</th>\n",
              "      <th>%เปลี่ยนแปลง.1</th>\n",
              "    </tr>\n",
              "  </thead>\n",
              "  <tbody>\n",
              "    <tr>\n",
              "      <th>0</th>\n",
              "      <td>26/03/20</td>\n",
              "      <td>14.1</td>\n",
              "      <td>16.2</td>\n",
              "      <td>14.1</td>\n",
              "      <td>15.55</td>\n",
              "      <td>15.8</td>\n",
              "      <td>1.7</td>\n",
              "      <td>12.06</td>\n",
              "      <td>99177.84</td>\n",
              "      <td>1542.49</td>\n",
              "      <td>1091.96</td>\n",
              "      <td>1.10</td>\n",
              "    </tr>\n",
              "    <tr>\n",
              "      <th>1</th>\n",
              "      <td>25/03/20</td>\n",
              "      <td>14.0</td>\n",
              "      <td>14.7</td>\n",
              "      <td>13.9</td>\n",
              "      <td>14.30</td>\n",
              "      <td>14.1</td>\n",
              "      <td>0.4</td>\n",
              "      <td>2.92</td>\n",
              "      <td>72619.48</td>\n",
              "      <td>1038.75</td>\n",
              "      <td>1080.03</td>\n",
              "      <td>4.47</td>\n",
              "    </tr>\n",
              "    <tr>\n",
              "      <th>2</th>\n",
              "      <td>24/03/20</td>\n",
              "      <td>14.9</td>\n",
              "      <td>14.9</td>\n",
              "      <td>13.5</td>\n",
              "      <td>14.03</td>\n",
              "      <td>13.7</td>\n",
              "      <td>-0.5</td>\n",
              "      <td>-3.52</td>\n",
              "      <td>47031.34</td>\n",
              "      <td>660.03</td>\n",
              "      <td>1033.84</td>\n",
              "      <td>0.92</td>\n",
              "    </tr>\n",
              "    <tr>\n",
              "      <th>3</th>\n",
              "      <td>23/03/20</td>\n",
              "      <td>14.4</td>\n",
              "      <td>15.2</td>\n",
              "      <td>14.2</td>\n",
              "      <td>14.55</td>\n",
              "      <td>14.2</td>\n",
              "      <td>-2.4</td>\n",
              "      <td>-14.46</td>\n",
              "      <td>42205.60</td>\n",
              "      <td>614.28</td>\n",
              "      <td>1024.46</td>\n",
              "      <td>-9.12</td>\n",
              "    </tr>\n",
              "  </tbody>\n",
              "</table>\n",
              "</div>"
            ],
            "text/plain": [
              "       date  open  ราคาสูงสุด  ...  มูลค่า(ล้านบาท)  SETIndex  %เปลี่ยนแปลง.1\n",
              "0  26/03/20  14.1        16.2  ...          1542.49   1091.96            1.10\n",
              "1  25/03/20  14.0        14.7  ...          1038.75   1080.03            4.47\n",
              "2  24/03/20  14.9        14.9  ...           660.03   1033.84            0.92\n",
              "3  23/03/20  14.4        15.2  ...           614.28   1024.46           -9.12\n",
              "\n",
              "[4 rows x 12 columns]"
            ]
          },
          "metadata": {
            "tags": []
          },
          "execution_count": 194
        }
      ]
    },
    {
      "cell_type": "code",
      "metadata": {
        "id": "qvVvM12GMRIX"
      },
      "source": [
        "import matplotlib.pyplot as plt\n",
        "import seaborn as sns\n",
        "%matplotlib inline"
      ],
      "execution_count": null,
      "outputs": []
    },
    {
      "cell_type": "code",
      "metadata": {
        "id": "DNuoqT15QrtF"
      },
      "source": [
        "df_aot = df_aot.sort_values(by=\"date\")"
      ],
      "execution_count": null,
      "outputs": []
    },
    {
      "cell_type": "code",
      "metadata": {
        "id": "Vqe2jX6SRCss"
      },
      "source": [
        "df_aot = df_aot.reset_index(drop=True)"
      ],
      "execution_count": null,
      "outputs": []
    },
    {
      "cell_type": "code",
      "metadata": {
        "id": "IP6MChlxQrk6",
        "colab": {
          "base_uri": "https://localhost:8080/",
          "height": 355
        },
        "outputId": "cfdec956-06a0-4826-80aa-7e9ae4b95ac8"
      },
      "source": [
        "df_aot[:10]"
      ],
      "execution_count": null,
      "outputs": [
        {
          "output_type": "execute_result",
          "data": {
            "text/html": [
              "<div>\n",
              "<style scoped>\n",
              "    .dataframe tbody tr th:only-of-type {\n",
              "        vertical-align: middle;\n",
              "    }\n",
              "\n",
              "    .dataframe tbody tr th {\n",
              "        vertical-align: top;\n",
              "    }\n",
              "\n",
              "    .dataframe thead th {\n",
              "        text-align: right;\n",
              "    }\n",
              "</style>\n",
              "<table border=\"1\" class=\"dataframe\">\n",
              "  <thead>\n",
              "    <tr style=\"text-align: right;\">\n",
              "      <th></th>\n",
              "      <th>date</th>\n",
              "      <th>open</th>\n",
              "      <th>ราคาสูงสุด</th>\n",
              "      <th>ราคาต่ำสุด</th>\n",
              "      <th>ราคาเฉลี่ย</th>\n",
              "      <th>ราคาปิด</th>\n",
              "      <th>เปลี่ยนแปลง</th>\n",
              "      <th>%เปลี่ยนแปลง</th>\n",
              "      <th>ปริมาณ(พันหุ้น)</th>\n",
              "      <th>มูลค่า(ล้านบาท)</th>\n",
              "      <th>SETIndex</th>\n",
              "      <th>%เปลี่ยนแปลง.1</th>\n",
              "    </tr>\n",
              "  </thead>\n",
              "  <tbody>\n",
              "    <tr>\n",
              "      <th>0</th>\n",
              "      <td>01/10/19</td>\n",
              "      <td>13.5</td>\n",
              "      <td>13.5</td>\n",
              "      <td>13.2</td>\n",
              "      <td>13.36</td>\n",
              "      <td>13.4</td>\n",
              "      <td>0.0</td>\n",
              "      <td>0.00</td>\n",
              "      <td>30791.81</td>\n",
              "      <td>411.29</td>\n",
              "      <td>1624.09</td>\n",
              "      <td>-0.80</td>\n",
              "    </tr>\n",
              "    <tr>\n",
              "      <th>1</th>\n",
              "      <td>01/11/19</td>\n",
              "      <td>13.4</td>\n",
              "      <td>13.4</td>\n",
              "      <td>13.2</td>\n",
              "      <td>13.33</td>\n",
              "      <td>13.4</td>\n",
              "      <td>0.0</td>\n",
              "      <td>0.00</td>\n",
              "      <td>25567.65</td>\n",
              "      <td>340.86</td>\n",
              "      <td>1592.52</td>\n",
              "      <td>-0.56</td>\n",
              "    </tr>\n",
              "    <tr>\n",
              "      <th>2</th>\n",
              "      <td>02/01/20</td>\n",
              "      <td>13.2</td>\n",
              "      <td>13.5</td>\n",
              "      <td>13.2</td>\n",
              "      <td>13.38</td>\n",
              "      <td>13.4</td>\n",
              "      <td>0.2</td>\n",
              "      <td>1.52</td>\n",
              "      <td>47211.61</td>\n",
              "      <td>631.62</td>\n",
              "      <td>1595.82</td>\n",
              "      <td>1.01</td>\n",
              "    </tr>\n",
              "    <tr>\n",
              "      <th>3</th>\n",
              "      <td>02/03/20</td>\n",
              "      <td>11.0</td>\n",
              "      <td>11.2</td>\n",
              "      <td>10.4</td>\n",
              "      <td>10.78</td>\n",
              "      <td>10.8</td>\n",
              "      <td>-0.1</td>\n",
              "      <td>-0.92</td>\n",
              "      <td>53388.81</td>\n",
              "      <td>575.68</td>\n",
              "      <td>1335.72</td>\n",
              "      <td>-0.36</td>\n",
              "    </tr>\n",
              "    <tr>\n",
              "      <th>4</th>\n",
              "      <td>02/10/19</td>\n",
              "      <td>13.3</td>\n",
              "      <td>13.4</td>\n",
              "      <td>13.1</td>\n",
              "      <td>13.21</td>\n",
              "      <td>13.2</td>\n",
              "      <td>-0.2</td>\n",
              "      <td>-1.49</td>\n",
              "      <td>25687.02</td>\n",
              "      <td>339.38</td>\n",
              "      <td>1613.64</td>\n",
              "      <td>-0.64</td>\n",
              "    </tr>\n",
              "    <tr>\n",
              "      <th>5</th>\n",
              "      <td>02/12/19</td>\n",
              "      <td>13.7</td>\n",
              "      <td>13.8</td>\n",
              "      <td>13.4</td>\n",
              "      <td>13.59</td>\n",
              "      <td>13.5</td>\n",
              "      <td>-0.2</td>\n",
              "      <td>-1.46</td>\n",
              "      <td>42827.60</td>\n",
              "      <td>581.92</td>\n",
              "      <td>1569.53</td>\n",
              "      <td>-1.32</td>\n",
              "    </tr>\n",
              "    <tr>\n",
              "      <th>6</th>\n",
              "      <td>03/01/20</td>\n",
              "      <td>13.3</td>\n",
              "      <td>13.4</td>\n",
              "      <td>13.2</td>\n",
              "      <td>13.30</td>\n",
              "      <td>13.3</td>\n",
              "      <td>-0.1</td>\n",
              "      <td>-0.75</td>\n",
              "      <td>30429.50</td>\n",
              "      <td>404.67</td>\n",
              "      <td>1594.97</td>\n",
              "      <td>-0.05</td>\n",
              "    </tr>\n",
              "    <tr>\n",
              "      <th>7</th>\n",
              "      <td>03/02/20</td>\n",
              "      <td>12.4</td>\n",
              "      <td>12.7</td>\n",
              "      <td>12.4</td>\n",
              "      <td>12.52</td>\n",
              "      <td>12.5</td>\n",
              "      <td>0.0</td>\n",
              "      <td>0.00</td>\n",
              "      <td>24544.60</td>\n",
              "      <td>307.39</td>\n",
              "      <td>1496.06</td>\n",
              "      <td>-1.19</td>\n",
              "    </tr>\n",
              "    <tr>\n",
              "      <th>8</th>\n",
              "      <td>03/03/20</td>\n",
              "      <td>11.0</td>\n",
              "      <td>11.6</td>\n",
              "      <td>11.0</td>\n",
              "      <td>11.27</td>\n",
              "      <td>11.5</td>\n",
              "      <td>0.7</td>\n",
              "      <td>6.48</td>\n",
              "      <td>58437.97</td>\n",
              "      <td>658.59</td>\n",
              "      <td>1375.02</td>\n",
              "      <td>2.94</td>\n",
              "    </tr>\n",
              "    <tr>\n",
              "      <th>9</th>\n",
              "      <td>03/10/19</td>\n",
              "      <td>13.1</td>\n",
              "      <td>13.3</td>\n",
              "      <td>13.1</td>\n",
              "      <td>13.19</td>\n",
              "      <td>13.2</td>\n",
              "      <td>0.0</td>\n",
              "      <td>0.00</td>\n",
              "      <td>17336.25</td>\n",
              "      <td>228.70</td>\n",
              "      <td>1610.69</td>\n",
              "      <td>-0.18</td>\n",
              "    </tr>\n",
              "  </tbody>\n",
              "</table>\n",
              "</div>"
            ],
            "text/plain": [
              "       date  open  ราคาสูงสุด  ...  มูลค่า(ล้านบาท)  SETIndex  %เปลี่ยนแปลง.1\n",
              "0  01/10/19  13.5        13.5  ...           411.29   1624.09           -0.80\n",
              "1  01/11/19  13.4        13.4  ...           340.86   1592.52           -0.56\n",
              "2  02/01/20  13.2        13.5  ...           631.62   1595.82            1.01\n",
              "3  02/03/20  11.0        11.2  ...           575.68   1335.72           -0.36\n",
              "4  02/10/19  13.3        13.4  ...           339.38   1613.64           -0.64\n",
              "5  02/12/19  13.7        13.8  ...           581.92   1569.53           -1.32\n",
              "6  03/01/20  13.3        13.4  ...           404.67   1594.97           -0.05\n",
              "7  03/02/20  12.4        12.7  ...           307.39   1496.06           -1.19\n",
              "8  03/03/20  11.0        11.6  ...           658.59   1375.02            2.94\n",
              "9  03/10/19  13.1        13.3  ...           228.70   1610.69           -0.18\n",
              "\n",
              "[10 rows x 12 columns]"
            ]
          },
          "metadata": {
            "tags": []
          },
          "execution_count": 187
        }
      ]
    },
    {
      "cell_type": "code",
      "metadata": {
        "id": "3F-0-2ClMRGO",
        "colab": {
          "base_uri": "https://localhost:8080/",
          "height": 279
        },
        "outputId": "656adb4e-29f4-48fd-ad1c-a37ba6cc9089"
      },
      "source": [
        "plt.figure(figsize=(15,4))\n",
        "sns.lineplot(data=df_mint[:15], x=\"date\", y=\"open\")\n",
        "plt.show()"
      ],
      "execution_count": null,
      "outputs": [
        {
          "output_type": "display_data",
          "data": {
            "image/png": "[encoded data removed]",
            "text/plain": [
              "<Figure size 1080x288 with 1 Axes>"
            ]
          },
          "metadata": {
            "tags": []
          }
        }
      ]
    },
    {
      "cell_type": "code",
      "metadata": {
        "id": "UTK92qcAMREG"
      },
      "source": [
        ""
      ],
      "execution_count": null,
      "outputs": []
    },
    {
      "cell_type": "code",
      "metadata": {
        "id": "mwqa93lqMRBV"
      },
      "source": [
        ""
      ],
      "execution_count": null,
      "outputs": []
    }
  ]
}