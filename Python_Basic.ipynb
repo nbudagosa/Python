{
  "nbformat": 4,
  "nbformat_minor": 0,
  "metadata": {
    "colab": {
      "name": "Python Basic.ipynb",
      "provenance": [],
      "collapsed_sections": []
    },
    "kernelspec": {
      "name": "python3",
      "display_name": "Python 3"
    }
  },
  "cells": [
    {
      "cell_type": "markdown",
      "metadata": {
        "id": "OJiJ1_RVROoj"
      },
      "source": [
        "# Data Type\n",
        "1. Integer: 1, -1\n",
        "2. Float: 1.111, -1.111\n",
        "3. String: 'อยากกินบุฟเฟห์จังเลย', \"WFH ตลอดก็ดีนะ\""
      ]
    },
    {
      "cell_type": "code",
      "metadata": {
        "id": "fRlZoVpbPZAJ",
        "colab": {
          "base_uri": "https://localhost:8080/",
          "height": 34
        },
        "outputId": "ebc87815-ad90-4460-fae0-b52b0e32c951"
      },
      "source": [
        "1+1"
      ],
      "execution_count": null,
      "outputs": [
        {
          "output_type": "execute_result",
          "data": {
            "text/plain": [
              "2"
            ]
          },
          "metadata": {
            "tags": []
          },
          "execution_count": 1
        }
      ]
    },
    {
      "cell_type": "code",
      "metadata": {
        "id": "A2j1PuftRMQA",
        "colab": {
          "base_uri": "https://localhost:8080/",
          "height": 34
        },
        "outputId": "e3b5a412-b73e-491d-bfba-7c45527ddb3f"
      },
      "source": [
        "2.5*2"
      ],
      "execution_count": null,
      "outputs": [
        {
          "output_type": "execute_result",
          "data": {
            "text/plain": [
              "5.0"
            ]
          },
          "metadata": {
            "tags": []
          },
          "execution_count": 2
        }
      ]
    },
    {
      "cell_type": "code",
      "metadata": {
        "id": "CpPgq_g_SKA-",
        "colab": {
          "base_uri": "https://localhost:8080/",
          "height": 34
        },
        "outputId": "a83f9d50-3879-4c14-d085-171fa06f4826"
      },
      "source": [
        "2.5**2.5"
      ],
      "execution_count": null,
      "outputs": [
        {
          "output_type": "execute_result",
          "data": {
            "text/plain": [
              "9.882117688026186"
            ]
          },
          "metadata": {
            "tags": []
          },
          "execution_count": 3
        }
      ]
    },
    {
      "cell_type": "code",
      "metadata": {
        "id": "VwLD87f1SONA",
        "colab": {
          "base_uri": "https://localhost:8080/",
          "height": 34
        },
        "outputId": "132a6d86-7607-44b5-cd45-0962d6f09436"
      },
      "source": [
        "9/3"
      ],
      "execution_count": null,
      "outputs": [
        {
          "output_type": "execute_result",
          "data": {
            "text/plain": [
              "3.0"
            ]
          },
          "metadata": {
            "tags": []
          },
          "execution_count": 4
        }
      ]
    },
    {
      "cell_type": "code",
      "metadata": {
        "id": "yElw4r8qSWVG"
      },
      "source": [
        "+ - * /"
      ],
      "execution_count": null,
      "outputs": []
    },
    {
      "cell_type": "code",
      "metadata": {
        "id": "TjuapyLbStcQ",
        "colab": {
          "base_uri": "https://localhost:8080/",
          "height": 34
        },
        "outputId": "be028fb0-abf4-42bf-c4c2-39d43c1a604d"
      },
      "source": [
        "1-1"
      ],
      "execution_count": null,
      "outputs": [
        {
          "output_type": "execute_result",
          "data": {
            "text/plain": [
              "0"
            ]
          },
          "metadata": {
            "tags": []
          },
          "execution_count": 5
        }
      ]
    },
    {
      "cell_type": "code",
      "metadata": {
        "id": "YIvtNfu1S0wt",
        "colab": {
          "base_uri": "https://localhost:8080/",
          "height": 34
        },
        "outputId": "1524b96b-46a3-4338-a443-f1f634e287b7"
      },
      "source": [
        "1+2-3+5*3"
      ],
      "execution_count": null,
      "outputs": [
        {
          "output_type": "execute_result",
          "data": {
            "text/plain": [
              "15"
            ]
          },
          "metadata": {
            "tags": []
          },
          "execution_count": 9
        }
      ]
    },
    {
      "cell_type": "code",
      "metadata": {
        "id": "VBOI8tVSTZzs",
        "colab": {
          "base_uri": "https://localhost:8080/",
          "height": 34
        },
        "outputId": "eaf7103c-f3a7-465a-ed50-f9e5a8bc6a54"
      },
      "source": [
        "print(\"อยากทานแซลมอนจังเลย\")"
      ],
      "execution_count": null,
      "outputs": [
        {
          "output_type": "stream",
          "text": [
            "อยากทานแซลมอนจังเลย\n"
          ],
          "name": "stdout"
        }
      ]
    },
    {
      "cell_type": "code",
      "metadata": {
        "id": "BJ38AT_bTZxR",
        "colab": {
          "base_uri": "https://localhost:8080/",
          "height": 34
        },
        "outputId": "81130fd9-117c-4128-930f-512a6a81ab3f"
      },
      "source": [
        "\"อยากทานแซลมอนจังเลย\""
      ],
      "execution_count": null,
      "outputs": [
        {
          "output_type": "execute_result",
          "data": {
            "text/plain": [
              "'อยากทานแซลมอนจังเลย'"
            ]
          },
          "metadata": {
            "tags": []
          },
          "execution_count": 14
        }
      ]
    },
    {
      "cell_type": "code",
      "metadata": {
        "id": "nIsmBBBlTZuy"
      },
      "source": [
        "หิวจังเลย = \"อยากทานแซลมอนจังเลย\""
      ],
      "execution_count": null,
      "outputs": []
    },
    {
      "cell_type": "code",
      "metadata": {
        "id": "x5b44JhlTZrJ",
        "colab": {
          "base_uri": "https://localhost:8080/",
          "height": 34
        },
        "outputId": "d6298221-68e1-4f90-c00a-3771545c4f2f"
      },
      "source": [
        "print(หิวจังเลย)"
      ],
      "execution_count": null,
      "outputs": [
        {
          "output_type": "stream",
          "text": [
            "อยากทานแซลมอนจังเลย\n"
          ],
          "name": "stdout"
        }
      ]
    },
    {
      "cell_type": "code",
      "metadata": {
        "id": "aipQPK0JTAGL"
      },
      "source": [
        "หิวจังเลย = 2499"
      ],
      "execution_count": null,
      "outputs": []
    },
    {
      "cell_type": "code",
      "metadata": {
        "id": "9gRq7Fz_Ujyr",
        "colab": {
          "base_uri": "https://localhost:8080/",
          "height": 34
        },
        "outputId": "56aa506a-61d5-43a0-a208-2e75c2951343"
      },
      "source": [
        "print(หิวจังเลย)"
      ],
      "execution_count": null,
      "outputs": [
        {
          "output_type": "stream",
          "text": [
            "2499\n"
          ],
          "name": "stdout"
        }
      ]
    },
    {
      "cell_type": "code",
      "metadata": {
        "id": "Tu477vq8Uv5i",
        "colab": {
          "base_uri": "https://localhost:8080/",
          "height": 164
        },
        "outputId": "f6d9f9f1-91b5-4cde-a105-43ec757a1b36"
      },
      "source": [
        "\"อยากทานแซลมอนจังเลย\" * \"ฉันชอบนายประหยัด\""
      ],
      "execution_count": null,
      "outputs": [
        {
          "output_type": "error",
          "ename": "TypeError",
          "evalue": "ignored",
          "traceback": [
            "\u001b[0;31m---------------------------------------------------------------------------\u001b[0m",
            "\u001b[0;31mTypeError\u001b[0m                                 Traceback (most recent call last)",
            "\u001b[0;32m<ipython-input-20-2323364e7164>\u001b[0m in \u001b[0;36m<module>\u001b[0;34m()\u001b[0m\n\u001b[0;32m----> 1\u001b[0;31m \u001b[0;34m\"อยากทานแซลมอนจังเลย\"\u001b[0m \u001b[0;34m*\u001b[0m \u001b[0;34m\"ฉันชอบนายประหยัด\"\u001b[0m\u001b[0;34m\u001b[0m\u001b[0;34m\u001b[0m\u001b[0m\n\u001b[0m",
            "\u001b[0;31mTypeError\u001b[0m: can't multiply sequence by non-int of type 'str'"
          ]
        }
      ]
    },
    {
      "cell_type": "code",
      "metadata": {
        "id": "OCI65jvaUyvq",
        "colab": {
          "base_uri": "https://localhost:8080/",
          "height": 34
        },
        "outputId": "423cc2ef-0745-4d57-f350-85f31a02b7a0"
      },
      "source": [
        "\"อยากทานแซลมอนจังเลย\" + \" \" + \"ฉันชอบนายประหยัด\""
      ],
      "execution_count": null,
      "outputs": [
        {
          "output_type": "execute_result",
          "data": {
            "text/plain": [
              "'อยากทานแซลมอนจังเลย ฉันชอบนายประหยัด'"
            ]
          },
          "metadata": {
            "tags": []
          },
          "execution_count": 22
        }
      ]
    },
    {
      "cell_type": "markdown",
      "metadata": {
        "id": "55vJCa9DVqhe"
      },
      "source": [
        "# Index \n",
        "จะเริ่มที่ค่า 0 เสมอ"
      ]
    },
    {
      "cell_type": "code",
      "metadata": {
        "id": "NO7do0-rUyrf",
        "colab": {
          "base_uri": "https://localhost:8080/",
          "height": 34
        },
        "outputId": "84c83340-c468-4234-a3cc-aafb9f82e451"
      },
      "source": [
        "\"อยากทานแซลมอนจังเลย\"[0:4]"
      ],
      "execution_count": null,
      "outputs": [
        {
          "output_type": "execute_result",
          "data": {
            "text/plain": [
              "'อยาก'"
            ]
          },
          "metadata": {
            "tags": []
          },
          "execution_count": 24
        }
      ]
    },
    {
      "cell_type": "markdown",
      "metadata": {
        "id": "ckGGB0exWJ6A"
      },
      "source": [
        "# Function"
      ]
    },
    {
      "cell_type": "code",
      "metadata": {
        "id": "Bajq-dwRWJuy"
      },
      "source": [
        "def calculate_bmi(weight, height):\n",
        "    bmi = weight / (height*height)\n",
        "    return bmi"
      ],
      "execution_count": null,
      "outputs": []
    },
    {
      "cell_type": "code",
      "metadata": {
        "id": "tRIgSYuVUypH"
      },
      "source": [
        "my_bmi = calculate_bmi(80, 1.80)"
      ],
      "execution_count": null,
      "outputs": []
    },
    {
      "cell_type": "code",
      "metadata": {
        "id": "KAwEochmUymn",
        "colab": {
          "base_uri": "https://localhost:8080/",
          "height": 34
        },
        "outputId": "b471ce87-b8f8-42a1-db06-165e80e07e5a"
      },
      "source": [
        "my_bmi"
      ],
      "execution_count": null,
      "outputs": [
        {
          "output_type": "execute_result",
          "data": {
            "text/plain": [
              "24.691358024691358"
            ]
          },
          "metadata": {
            "tags": []
          },
          "execution_count": 28
        }
      ]
    },
    {
      "cell_type": "markdown",
      "metadata": {
        "id": "N5NAgz8lXljy"
      },
      "source": [
        "# Logical If Else"
      ]
    },
    {
      "cell_type": "code",
      "metadata": {
        "id": "naGpSbz8XsxT",
        "colab": {
          "base_uri": "https://localhost:8080/",
          "height": 34
        },
        "outputId": "7b200bb5-66e9-4f5b-944c-df82ac28f708"
      },
      "source": [
        "if my_bmi >= 25:\n",
        "    print(\"เลิกกินชานมไข่มุกได้แล้ว !!!\")\n",
        "else: \n",
        "    print(\"ไปทานบุฟเฟ่ห์กันเถอะ !!!\")"
      ],
      "execution_count": null,
      "outputs": [
        {
          "output_type": "stream",
          "text": [
            "ไปทานบุฟเฟ่ห์กันเถอะ !!!\n"
          ],
          "name": "stdout"
        }
      ]
    },
    {
      "cell_type": "markdown",
      "metadata": {
        "id": "DLhN7a8SY0vS"
      },
      "source": [
        "1. กรณีมากกว่าและเท่ากับ 25\n",
        "2. น้อยกว่า 18\n",
        "3. มากกว่า 18 แต่น้อยกว่า 25"
      ]
    },
    {
      "cell_type": "code",
      "metadata": {
        "id": "MkTQWlIiXsvD",
        "colab": {
          "base_uri": "https://localhost:8080/",
          "height": 34
        },
        "outputId": "49db855b-5cbc-429f-c3fd-4b47dcbbcd77"
      },
      "source": [
        "# กรณีมากกว่าและเท่ากับ 25\n",
        "if my_bmi >= 25:\n",
        "    print(\"เลิกกินชานมไข่มุกได้แล้ว !!!\")\n",
        "# น้อยกว่า 18  \n",
        "elif my_bmi < 18:\n",
        "    print(\"ผอมเกินไปแล้วนะ !!!\")\n",
        "# มากกว่า 18 แต่น้อยกว่า 25  \n",
        "else: \n",
        "    print(\"ไปทานบุฟเฟ่ห์กันเถอะ !!!\")"
      ],
      "execution_count": null,
      "outputs": [
        {
          "output_type": "stream",
          "text": [
            "ไปทานบุฟเฟ่ห์กันเถอะ !!!\n"
          ],
          "name": "stdout"
        }
      ]
    },
    {
      "cell_type": "markdown",
      "metadata": {
        "id": "R0AC0429Zd3_"
      },
      "source": [
        "# For Loop"
      ]
    },
    {
      "cell_type": "code",
      "metadata": {
        "id": "KWWu7asCXss1"
      },
      "source": [
        "เงินต้น 10000\n",
        "ดอกเบี้ย 10%\n",
        "สะสม 5 ปี"
      ],
      "execution_count": null,
      "outputs": []
    },
    {
      "cell_type": "code",
      "metadata": {
        "id": "2jbEiOCpXsqf",
        "colab": {
          "base_uri": "https://localhost:8080/",
          "height": 103
        },
        "outputId": "7266c074-58dd-43db-c6cf-bd7d1acdd404"
      },
      "source": [
        "เงินออม = 10000\n",
        "for จำนวนปี in range(1,6,1):\n",
        "    เงินออม = เงินออม + (เงินออม * 0.1)\n",
        "    print(จำนวนปี, เงินออม)"
      ],
      "execution_count": null,
      "outputs": [
        {
          "output_type": "stream",
          "text": [
            "1 11000.0\n",
            "2 12100.0\n",
            "3 13310.0\n",
            "4 14641.0\n",
            "5 16105.1\n"
          ],
          "name": "stdout"
        }
      ]
    },
    {
      "cell_type": "code",
      "metadata": {
        "id": "JtCE7U1kUykL",
        "colab": {
          "base_uri": "https://localhost:8080/",
          "height": 34
        },
        "outputId": "e1726c4d-aea9-4b5b-e2bf-f7867b322dff"
      },
      "source": [
        "print(เงินออม)"
      ],
      "execution_count": null,
      "outputs": [
        {
          "output_type": "stream",
          "text": [
            "16105.1\n"
          ],
          "name": "stdout"
        }
      ]
    },
    {
      "cell_type": "code",
      "metadata": {
        "id": "DNO7YFXHaI4n"
      },
      "source": [
        ""
      ],
      "execution_count": null,
      "outputs": []
    }
  ]
}